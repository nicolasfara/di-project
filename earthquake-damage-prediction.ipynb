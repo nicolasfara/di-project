{
 "cells": [
  {
   "cell_type": "code",
   "execution_count": 1,
   "metadata": {},
   "outputs": [],
   "source": [
    "%matplotlib inline\n",
    "import numpy as np\n",
    "import pandas as pd\n",
    "import matplotlib.pyplot as plt\n",
    "import seaborn as sns"
   ]
  },
  {
   "cell_type": "code",
   "execution_count": 2,
   "metadata": {},
   "outputs": [],
   "source": [
    "train_values = pd.read_csv('train_values.csv')\n",
    "train_labels = pd.read_csv('train_labels.csv')"
   ]
  },
  {
   "cell_type": "code",
   "execution_count": 3,
   "metadata": {},
   "outputs": [
    {
     "data": {
      "text/plain": [
       "(260601, 39)"
      ]
     },
     "execution_count": 3,
     "metadata": {},
     "output_type": "execute_result"
    }
   ],
   "source": [
    "train_values.shape"
   ]
  },
  {
   "cell_type": "markdown",
   "metadata": {},
   "source": [
    "As we can see, we have 39 features and 260601 records"
   ]
  },
  {
   "cell_type": "code",
   "execution_count": 4,
   "metadata": {},
   "outputs": [
    {
     "data": {
      "text/html": [
       "<div>\n",
       "<style scoped>\n",
       "    .dataframe tbody tr th:only-of-type {\n",
       "        vertical-align: middle;\n",
       "    }\n",
       "\n",
       "    .dataframe tbody tr th {\n",
       "        vertical-align: top;\n",
       "    }\n",
       "\n",
       "    .dataframe thead th {\n",
       "        text-align: right;\n",
       "    }\n",
       "</style>\n",
       "<table border=\"1\" class=\"dataframe\">\n",
       "  <thead>\n",
       "    <tr style=\"text-align: right;\">\n",
       "      <th></th>\n",
       "      <th>building_id</th>\n",
       "      <th>geo_level_1_id</th>\n",
       "      <th>geo_level_2_id</th>\n",
       "      <th>geo_level_3_id</th>\n",
       "      <th>count_floors_pre_eq</th>\n",
       "      <th>age</th>\n",
       "      <th>area_percentage</th>\n",
       "      <th>height_percentage</th>\n",
       "      <th>land_surface_condition</th>\n",
       "      <th>foundation_type</th>\n",
       "      <th>...</th>\n",
       "      <th>has_secondary_use_agriculture</th>\n",
       "      <th>has_secondary_use_hotel</th>\n",
       "      <th>has_secondary_use_rental</th>\n",
       "      <th>has_secondary_use_institution</th>\n",
       "      <th>has_secondary_use_school</th>\n",
       "      <th>has_secondary_use_industry</th>\n",
       "      <th>has_secondary_use_health_post</th>\n",
       "      <th>has_secondary_use_gov_office</th>\n",
       "      <th>has_secondary_use_use_police</th>\n",
       "      <th>has_secondary_use_other</th>\n",
       "    </tr>\n",
       "  </thead>\n",
       "  <tbody>\n",
       "    <tr>\n",
       "      <th>0</th>\n",
       "      <td>802906</td>\n",
       "      <td>6</td>\n",
       "      <td>487</td>\n",
       "      <td>12198</td>\n",
       "      <td>2</td>\n",
       "      <td>30</td>\n",
       "      <td>6</td>\n",
       "      <td>5</td>\n",
       "      <td>t</td>\n",
       "      <td>r</td>\n",
       "      <td>...</td>\n",
       "      <td>0</td>\n",
       "      <td>0</td>\n",
       "      <td>0</td>\n",
       "      <td>0</td>\n",
       "      <td>0</td>\n",
       "      <td>0</td>\n",
       "      <td>0</td>\n",
       "      <td>0</td>\n",
       "      <td>0</td>\n",
       "      <td>0</td>\n",
       "    </tr>\n",
       "    <tr>\n",
       "      <th>1</th>\n",
       "      <td>28830</td>\n",
       "      <td>8</td>\n",
       "      <td>900</td>\n",
       "      <td>2812</td>\n",
       "      <td>2</td>\n",
       "      <td>10</td>\n",
       "      <td>8</td>\n",
       "      <td>7</td>\n",
       "      <td>o</td>\n",
       "      <td>r</td>\n",
       "      <td>...</td>\n",
       "      <td>0</td>\n",
       "      <td>0</td>\n",
       "      <td>0</td>\n",
       "      <td>0</td>\n",
       "      <td>0</td>\n",
       "      <td>0</td>\n",
       "      <td>0</td>\n",
       "      <td>0</td>\n",
       "      <td>0</td>\n",
       "      <td>0</td>\n",
       "    </tr>\n",
       "    <tr>\n",
       "      <th>2</th>\n",
       "      <td>94947</td>\n",
       "      <td>21</td>\n",
       "      <td>363</td>\n",
       "      <td>8973</td>\n",
       "      <td>2</td>\n",
       "      <td>10</td>\n",
       "      <td>5</td>\n",
       "      <td>5</td>\n",
       "      <td>t</td>\n",
       "      <td>r</td>\n",
       "      <td>...</td>\n",
       "      <td>0</td>\n",
       "      <td>0</td>\n",
       "      <td>0</td>\n",
       "      <td>0</td>\n",
       "      <td>0</td>\n",
       "      <td>0</td>\n",
       "      <td>0</td>\n",
       "      <td>0</td>\n",
       "      <td>0</td>\n",
       "      <td>0</td>\n",
       "    </tr>\n",
       "    <tr>\n",
       "      <th>3</th>\n",
       "      <td>590882</td>\n",
       "      <td>22</td>\n",
       "      <td>418</td>\n",
       "      <td>10694</td>\n",
       "      <td>2</td>\n",
       "      <td>10</td>\n",
       "      <td>6</td>\n",
       "      <td>5</td>\n",
       "      <td>t</td>\n",
       "      <td>r</td>\n",
       "      <td>...</td>\n",
       "      <td>0</td>\n",
       "      <td>0</td>\n",
       "      <td>0</td>\n",
       "      <td>0</td>\n",
       "      <td>0</td>\n",
       "      <td>0</td>\n",
       "      <td>0</td>\n",
       "      <td>0</td>\n",
       "      <td>0</td>\n",
       "      <td>0</td>\n",
       "    </tr>\n",
       "    <tr>\n",
       "      <th>4</th>\n",
       "      <td>201944</td>\n",
       "      <td>11</td>\n",
       "      <td>131</td>\n",
       "      <td>1488</td>\n",
       "      <td>3</td>\n",
       "      <td>30</td>\n",
       "      <td>8</td>\n",
       "      <td>9</td>\n",
       "      <td>t</td>\n",
       "      <td>r</td>\n",
       "      <td>...</td>\n",
       "      <td>0</td>\n",
       "      <td>0</td>\n",
       "      <td>0</td>\n",
       "      <td>0</td>\n",
       "      <td>0</td>\n",
       "      <td>0</td>\n",
       "      <td>0</td>\n",
       "      <td>0</td>\n",
       "      <td>0</td>\n",
       "      <td>0</td>\n",
       "    </tr>\n",
       "  </tbody>\n",
       "</table>\n",
       "<p>5 rows × 39 columns</p>\n",
       "</div>"
      ],
      "text/plain": [
       "   building_id  geo_level_1_id  geo_level_2_id  geo_level_3_id  \\\n",
       "0       802906               6             487           12198   \n",
       "1        28830               8             900            2812   \n",
       "2        94947              21             363            8973   \n",
       "3       590882              22             418           10694   \n",
       "4       201944              11             131            1488   \n",
       "\n",
       "   count_floors_pre_eq  age  area_percentage  height_percentage  \\\n",
       "0                    2   30                6                  5   \n",
       "1                    2   10                8                  7   \n",
       "2                    2   10                5                  5   \n",
       "3                    2   10                6                  5   \n",
       "4                    3   30                8                  9   \n",
       "\n",
       "  land_surface_condition foundation_type  ... has_secondary_use_agriculture  \\\n",
       "0                      t               r  ...                             0   \n",
       "1                      o               r  ...                             0   \n",
       "2                      t               r  ...                             0   \n",
       "3                      t               r  ...                             0   \n",
       "4                      t               r  ...                             0   \n",
       "\n",
       "  has_secondary_use_hotel has_secondary_use_rental  \\\n",
       "0                       0                        0   \n",
       "1                       0                        0   \n",
       "2                       0                        0   \n",
       "3                       0                        0   \n",
       "4                       0                        0   \n",
       "\n",
       "  has_secondary_use_institution has_secondary_use_school  \\\n",
       "0                             0                        0   \n",
       "1                             0                        0   \n",
       "2                             0                        0   \n",
       "3                             0                        0   \n",
       "4                             0                        0   \n",
       "\n",
       "   has_secondary_use_industry  has_secondary_use_health_post  \\\n",
       "0                           0                              0   \n",
       "1                           0                              0   \n",
       "2                           0                              0   \n",
       "3                           0                              0   \n",
       "4                           0                              0   \n",
       "\n",
       "   has_secondary_use_gov_office  has_secondary_use_use_police  \\\n",
       "0                             0                             0   \n",
       "1                             0                             0   \n",
       "2                             0                             0   \n",
       "3                             0                             0   \n",
       "4                             0                             0   \n",
       "\n",
       "   has_secondary_use_other  \n",
       "0                        0  \n",
       "1                        0  \n",
       "2                        0  \n",
       "3                        0  \n",
       "4                        0  \n",
       "\n",
       "[5 rows x 39 columns]"
      ]
     },
     "execution_count": 4,
     "metadata": {},
     "output_type": "execute_result"
    }
   ],
   "source": [
    "train_values.head()"
   ]
  },
  {
   "cell_type": "code",
   "execution_count": 5,
   "metadata": {},
   "outputs": [
    {
     "data": {
      "text/html": [
       "<div>\n",
       "<style scoped>\n",
       "    .dataframe tbody tr th:only-of-type {\n",
       "        vertical-align: middle;\n",
       "    }\n",
       "\n",
       "    .dataframe tbody tr th {\n",
       "        vertical-align: top;\n",
       "    }\n",
       "\n",
       "    .dataframe thead th {\n",
       "        text-align: right;\n",
       "    }\n",
       "</style>\n",
       "<table border=\"1\" class=\"dataframe\">\n",
       "  <thead>\n",
       "    <tr style=\"text-align: right;\">\n",
       "      <th></th>\n",
       "      <th>building_id</th>\n",
       "      <th>damage_grade</th>\n",
       "    </tr>\n",
       "  </thead>\n",
       "  <tbody>\n",
       "    <tr>\n",
       "      <th>0</th>\n",
       "      <td>802906</td>\n",
       "      <td>3</td>\n",
       "    </tr>\n",
       "    <tr>\n",
       "      <th>1</th>\n",
       "      <td>28830</td>\n",
       "      <td>2</td>\n",
       "    </tr>\n",
       "    <tr>\n",
       "      <th>2</th>\n",
       "      <td>94947</td>\n",
       "      <td>3</td>\n",
       "    </tr>\n",
       "    <tr>\n",
       "      <th>3</th>\n",
       "      <td>590882</td>\n",
       "      <td>2</td>\n",
       "    </tr>\n",
       "    <tr>\n",
       "      <th>4</th>\n",
       "      <td>201944</td>\n",
       "      <td>3</td>\n",
       "    </tr>\n",
       "  </tbody>\n",
       "</table>\n",
       "</div>"
      ],
      "text/plain": [
       "   building_id  damage_grade\n",
       "0       802906             3\n",
       "1        28830             2\n",
       "2        94947             3\n",
       "3       590882             2\n",
       "4       201944             3"
      ]
     },
     "execution_count": 5,
     "metadata": {},
     "output_type": "execute_result"
    }
   ],
   "source": [
    "train_labels.head()"
   ]
  },
  {
   "cell_type": "markdown",
   "metadata": {},
   "source": [
    "Now we have to predict the damage's class (`damage_grade`)\n",
    "  - Explore how many class has this feature"
   ]
  },
  {
   "cell_type": "code",
   "execution_count": 6,
   "metadata": {},
   "outputs": [
    {
     "name": "stdout",
     "output_type": "stream",
     "text": [
      "\"damage_grade\" has [3 2 1] class\n"
     ]
    }
   ],
   "source": [
    "print('\\\"damage_grade\\\" has {} class'.format(train_labels.damage_grade.unique()))"
   ]
  },
  {
   "cell_type": "markdown",
   "metadata": {},
   "source": [
    "From dataset explaination, we know that 1 indicate a minor damage. 3 indicate a chatastrofic damage.\n",
    "  - This is the feature to predict.\n",
    "  \n",
    "Now merge the two table into one."
   ]
  },
  {
   "cell_type": "code",
   "execution_count": 7,
   "metadata": {},
   "outputs": [
    {
     "data": {
      "text/html": [
       "<div>\n",
       "<style scoped>\n",
       "    .dataframe tbody tr th:only-of-type {\n",
       "        vertical-align: middle;\n",
       "    }\n",
       "\n",
       "    .dataframe tbody tr th {\n",
       "        vertical-align: top;\n",
       "    }\n",
       "\n",
       "    .dataframe thead th {\n",
       "        text-align: right;\n",
       "    }\n",
       "</style>\n",
       "<table border=\"1\" class=\"dataframe\">\n",
       "  <thead>\n",
       "    <tr style=\"text-align: right;\">\n",
       "      <th></th>\n",
       "      <th>geo_level_1_id</th>\n",
       "      <th>geo_level_2_id</th>\n",
       "      <th>geo_level_3_id</th>\n",
       "      <th>count_floors_pre_eq</th>\n",
       "      <th>age</th>\n",
       "      <th>area_percentage</th>\n",
       "      <th>height_percentage</th>\n",
       "      <th>land_surface_condition</th>\n",
       "      <th>foundation_type</th>\n",
       "      <th>roof_type</th>\n",
       "      <th>...</th>\n",
       "      <th>has_secondary_use_hotel</th>\n",
       "      <th>has_secondary_use_rental</th>\n",
       "      <th>has_secondary_use_institution</th>\n",
       "      <th>has_secondary_use_school</th>\n",
       "      <th>has_secondary_use_industry</th>\n",
       "      <th>has_secondary_use_health_post</th>\n",
       "      <th>has_secondary_use_gov_office</th>\n",
       "      <th>has_secondary_use_use_police</th>\n",
       "      <th>has_secondary_use_other</th>\n",
       "      <th>damage_grade</th>\n",
       "    </tr>\n",
       "    <tr>\n",
       "      <th>building_id</th>\n",
       "      <th></th>\n",
       "      <th></th>\n",
       "      <th></th>\n",
       "      <th></th>\n",
       "      <th></th>\n",
       "      <th></th>\n",
       "      <th></th>\n",
       "      <th></th>\n",
       "      <th></th>\n",
       "      <th></th>\n",
       "      <th></th>\n",
       "      <th></th>\n",
       "      <th></th>\n",
       "      <th></th>\n",
       "      <th></th>\n",
       "      <th></th>\n",
       "      <th></th>\n",
       "      <th></th>\n",
       "      <th></th>\n",
       "      <th></th>\n",
       "      <th></th>\n",
       "    </tr>\n",
       "  </thead>\n",
       "  <tbody>\n",
       "    <tr>\n",
       "      <th>802906</th>\n",
       "      <td>6</td>\n",
       "      <td>487</td>\n",
       "      <td>12198</td>\n",
       "      <td>2</td>\n",
       "      <td>30</td>\n",
       "      <td>6</td>\n",
       "      <td>5</td>\n",
       "      <td>t</td>\n",
       "      <td>r</td>\n",
       "      <td>n</td>\n",
       "      <td>...</td>\n",
       "      <td>0</td>\n",
       "      <td>0</td>\n",
       "      <td>0</td>\n",
       "      <td>0</td>\n",
       "      <td>0</td>\n",
       "      <td>0</td>\n",
       "      <td>0</td>\n",
       "      <td>0</td>\n",
       "      <td>0</td>\n",
       "      <td>3</td>\n",
       "    </tr>\n",
       "    <tr>\n",
       "      <th>28830</th>\n",
       "      <td>8</td>\n",
       "      <td>900</td>\n",
       "      <td>2812</td>\n",
       "      <td>2</td>\n",
       "      <td>10</td>\n",
       "      <td>8</td>\n",
       "      <td>7</td>\n",
       "      <td>o</td>\n",
       "      <td>r</td>\n",
       "      <td>n</td>\n",
       "      <td>...</td>\n",
       "      <td>0</td>\n",
       "      <td>0</td>\n",
       "      <td>0</td>\n",
       "      <td>0</td>\n",
       "      <td>0</td>\n",
       "      <td>0</td>\n",
       "      <td>0</td>\n",
       "      <td>0</td>\n",
       "      <td>0</td>\n",
       "      <td>2</td>\n",
       "    </tr>\n",
       "    <tr>\n",
       "      <th>94947</th>\n",
       "      <td>21</td>\n",
       "      <td>363</td>\n",
       "      <td>8973</td>\n",
       "      <td>2</td>\n",
       "      <td>10</td>\n",
       "      <td>5</td>\n",
       "      <td>5</td>\n",
       "      <td>t</td>\n",
       "      <td>r</td>\n",
       "      <td>n</td>\n",
       "      <td>...</td>\n",
       "      <td>0</td>\n",
       "      <td>0</td>\n",
       "      <td>0</td>\n",
       "      <td>0</td>\n",
       "      <td>0</td>\n",
       "      <td>0</td>\n",
       "      <td>0</td>\n",
       "      <td>0</td>\n",
       "      <td>0</td>\n",
       "      <td>3</td>\n",
       "    </tr>\n",
       "    <tr>\n",
       "      <th>590882</th>\n",
       "      <td>22</td>\n",
       "      <td>418</td>\n",
       "      <td>10694</td>\n",
       "      <td>2</td>\n",
       "      <td>10</td>\n",
       "      <td>6</td>\n",
       "      <td>5</td>\n",
       "      <td>t</td>\n",
       "      <td>r</td>\n",
       "      <td>n</td>\n",
       "      <td>...</td>\n",
       "      <td>0</td>\n",
       "      <td>0</td>\n",
       "      <td>0</td>\n",
       "      <td>0</td>\n",
       "      <td>0</td>\n",
       "      <td>0</td>\n",
       "      <td>0</td>\n",
       "      <td>0</td>\n",
       "      <td>0</td>\n",
       "      <td>2</td>\n",
       "    </tr>\n",
       "    <tr>\n",
       "      <th>201944</th>\n",
       "      <td>11</td>\n",
       "      <td>131</td>\n",
       "      <td>1488</td>\n",
       "      <td>3</td>\n",
       "      <td>30</td>\n",
       "      <td>8</td>\n",
       "      <td>9</td>\n",
       "      <td>t</td>\n",
       "      <td>r</td>\n",
       "      <td>n</td>\n",
       "      <td>...</td>\n",
       "      <td>0</td>\n",
       "      <td>0</td>\n",
       "      <td>0</td>\n",
       "      <td>0</td>\n",
       "      <td>0</td>\n",
       "      <td>0</td>\n",
       "      <td>0</td>\n",
       "      <td>0</td>\n",
       "      <td>0</td>\n",
       "      <td>3</td>\n",
       "    </tr>\n",
       "  </tbody>\n",
       "</table>\n",
       "<p>5 rows × 39 columns</p>\n",
       "</div>"
      ],
      "text/plain": [
       "             geo_level_1_id  geo_level_2_id  geo_level_3_id  \\\n",
       "building_id                                                   \n",
       "802906                    6             487           12198   \n",
       "28830                     8             900            2812   \n",
       "94947                    21             363            8973   \n",
       "590882                   22             418           10694   \n",
       "201944                   11             131            1488   \n",
       "\n",
       "             count_floors_pre_eq  age  area_percentage  height_percentage  \\\n",
       "building_id                                                                 \n",
       "802906                         2   30                6                  5   \n",
       "28830                          2   10                8                  7   \n",
       "94947                          2   10                5                  5   \n",
       "590882                         2   10                6                  5   \n",
       "201944                         3   30                8                  9   \n",
       "\n",
       "            land_surface_condition foundation_type roof_type  ...  \\\n",
       "building_id                                                   ...   \n",
       "802906                           t               r         n  ...   \n",
       "28830                            o               r         n  ...   \n",
       "94947                            t               r         n  ...   \n",
       "590882                           t               r         n  ...   \n",
       "201944                           t               r         n  ...   \n",
       "\n",
       "            has_secondary_use_hotel has_secondary_use_rental  \\\n",
       "building_id                                                    \n",
       "802906                            0                        0   \n",
       "28830                             0                        0   \n",
       "94947                             0                        0   \n",
       "590882                            0                        0   \n",
       "201944                            0                        0   \n",
       "\n",
       "            has_secondary_use_institution has_secondary_use_school  \\\n",
       "building_id                                                          \n",
       "802906                                  0                        0   \n",
       "28830                                   0                        0   \n",
       "94947                                   0                        0   \n",
       "590882                                  0                        0   \n",
       "201944                                  0                        0   \n",
       "\n",
       "             has_secondary_use_industry  has_secondary_use_health_post  \\\n",
       "building_id                                                              \n",
       "802906                                0                              0   \n",
       "28830                                 0                              0   \n",
       "94947                                 0                              0   \n",
       "590882                                0                              0   \n",
       "201944                                0                              0   \n",
       "\n",
       "             has_secondary_use_gov_office  has_secondary_use_use_police  \\\n",
       "building_id                                                               \n",
       "802906                                  0                             0   \n",
       "28830                                   0                             0   \n",
       "94947                                   0                             0   \n",
       "590882                                  0                             0   \n",
       "201944                                  0                             0   \n",
       "\n",
       "             has_secondary_use_other  damage_grade  \n",
       "building_id                                         \n",
       "802906                             0             3  \n",
       "28830                              0             2  \n",
       "94947                              0             3  \n",
       "590882                             0             2  \n",
       "201944                             0             3  \n",
       "\n",
       "[5 rows x 39 columns]"
      ]
     },
     "execution_count": 7,
     "metadata": {},
     "output_type": "execute_result"
    }
   ],
   "source": [
    "train = train_values.set_index('building_id').join(train_labels.set_index('building_id'), on='building_id')\n",
    "train.head()"
   ]
  },
  {
   "cell_type": "markdown",
   "metadata": {},
   "source": [
    "`building_id` become the index of the dataframe and we have the new feature `damage_grade` into the dataset."
   ]
  },
  {
   "cell_type": "code",
   "execution_count": 8,
   "metadata": {},
   "outputs": [
    {
     "data": {
      "text/plain": [
       "geo_level_1_id                            0\n",
       "geo_level_2_id                            0\n",
       "geo_level_3_id                            0\n",
       "count_floors_pre_eq                       0\n",
       "age                                       0\n",
       "area_percentage                           0\n",
       "height_percentage                         0\n",
       "land_surface_condition                    0\n",
       "foundation_type                           0\n",
       "roof_type                                 0\n",
       "ground_floor_type                         0\n",
       "other_floor_type                          0\n",
       "position                                  0\n",
       "plan_configuration                        0\n",
       "has_superstructure_adobe_mud              0\n",
       "has_superstructure_mud_mortar_stone       0\n",
       "has_superstructure_stone_flag             0\n",
       "has_superstructure_cement_mortar_stone    0\n",
       "has_superstructure_mud_mortar_brick       0\n",
       "has_superstructure_cement_mortar_brick    0\n",
       "has_superstructure_timber                 0\n",
       "has_superstructure_bamboo                 0\n",
       "has_superstructure_rc_non_engineered      0\n",
       "has_superstructure_rc_engineered          0\n",
       "has_superstructure_other                  0\n",
       "legal_ownership_status                    0\n",
       "count_families                            0\n",
       "has_secondary_use                         0\n",
       "has_secondary_use_agriculture             0\n",
       "has_secondary_use_hotel                   0\n",
       "has_secondary_use_rental                  0\n",
       "has_secondary_use_institution             0\n",
       "has_secondary_use_school                  0\n",
       "has_secondary_use_industry                0\n",
       "has_secondary_use_health_post             0\n",
       "has_secondary_use_gov_office              0\n",
       "has_secondary_use_use_police              0\n",
       "has_secondary_use_other                   0\n",
       "damage_grade                              0\n",
       "dtype: int64"
      ]
     },
     "execution_count": 8,
     "metadata": {},
     "output_type": "execute_result"
    }
   ],
   "source": [
    "train.isna().sum()"
   ]
  },
  {
   "cell_type": "code",
   "execution_count": 9,
   "metadata": {},
   "outputs": [],
   "source": [
    "fl = list(train.columns.values)"
   ]
  },
  {
   "cell_type": "code",
   "execution_count": 10,
   "metadata": {},
   "outputs": [
    {
     "data": {
      "text/plain": [
       "['geo_level_1_id',\n",
       " 'geo_level_2_id',\n",
       " 'geo_level_3_id',\n",
       " 'count_floors_pre_eq',\n",
       " 'age',\n",
       " 'area_percentage',\n",
       " 'height_percentage',\n",
       " 'land_surface_condition',\n",
       " 'foundation_type',\n",
       " 'roof_type',\n",
       " 'ground_floor_type',\n",
       " 'other_floor_type',\n",
       " 'position',\n",
       " 'plan_configuration',\n",
       " 'has_superstructure_adobe_mud',\n",
       " 'has_superstructure_mud_mortar_stone',\n",
       " 'has_superstructure_stone_flag',\n",
       " 'has_superstructure_cement_mortar_stone',\n",
       " 'has_superstructure_mud_mortar_brick',\n",
       " 'has_superstructure_cement_mortar_brick',\n",
       " 'has_superstructure_timber',\n",
       " 'has_superstructure_bamboo',\n",
       " 'has_superstructure_rc_non_engineered',\n",
       " 'has_superstructure_rc_engineered',\n",
       " 'has_superstructure_other',\n",
       " 'legal_ownership_status',\n",
       " 'count_families',\n",
       " 'has_secondary_use',\n",
       " 'has_secondary_use_agriculture',\n",
       " 'has_secondary_use_hotel',\n",
       " 'has_secondary_use_rental',\n",
       " 'has_secondary_use_institution',\n",
       " 'has_secondary_use_school',\n",
       " 'has_secondary_use_industry',\n",
       " 'has_secondary_use_health_post',\n",
       " 'has_secondary_use_gov_office',\n",
       " 'has_secondary_use_use_police',\n",
       " 'has_secondary_use_other',\n",
       " 'damage_grade']"
      ]
     },
     "execution_count": 10,
     "metadata": {},
     "output_type": "execute_result"
    }
   ],
   "source": [
    "fl"
   ]
  },
  {
   "cell_type": "code",
   "execution_count": 11,
   "metadata": {},
   "outputs": [],
   "source": [
    "features = ['geo_level_1_id',\n",
    " 'geo_level_2_id',\n",
    " 'geo_level_3_id',\n",
    " 'count_floors_pre_eq',\n",
    " 'age',\n",
    " 'area_percentage',\n",
    " 'height_percentage',\n",
    " 'land_surface_condition',\n",
    " 'foundation_type',\n",
    " 'roof_type',\n",
    " 'ground_floor_type',\n",
    " 'other_floor_type',\n",
    " 'position',\n",
    " 'plan_configuration',\n",
    " 'has_superstructure_adobe_mud',\n",
    " 'has_superstructure_mud_mortar_stone',\n",
    " 'has_superstructure_stone_flag',\n",
    " 'has_superstructure_cement_mortar_stone',\n",
    " 'has_superstructure_mud_mortar_brick',\n",
    " 'has_superstructure_cement_mortar_brick',\n",
    " 'has_superstructure_timber',\n",
    " 'has_superstructure_bamboo',\n",
    " 'has_superstructure_rc_non_engineered',\n",
    " 'has_superstructure_rc_engineered',\n",
    " 'has_superstructure_other',\n",
    " 'damage_grade']"
   ]
  },
  {
   "cell_type": "code",
   "execution_count": 12,
   "metadata": {},
   "outputs": [],
   "source": [
    "train = train[features]"
   ]
  },
  {
   "cell_type": "markdown",
   "metadata": {},
   "source": [
    "Today, we are lucky... no `nan` values are in the dataset."
   ]
  },
  {
   "cell_type": "code",
   "execution_count": 13,
   "metadata": {},
   "outputs": [
    {
     "data": {
      "text/html": [
       "<div>\n",
       "<style scoped>\n",
       "    .dataframe tbody tr th:only-of-type {\n",
       "        vertical-align: middle;\n",
       "    }\n",
       "\n",
       "    .dataframe tbody tr th {\n",
       "        vertical-align: top;\n",
       "    }\n",
       "\n",
       "    .dataframe thead th {\n",
       "        text-align: right;\n",
       "    }\n",
       "</style>\n",
       "<table border=\"1\" class=\"dataframe\">\n",
       "  <thead>\n",
       "    <tr style=\"text-align: right;\">\n",
       "      <th></th>\n",
       "      <th>geo_level_1_id</th>\n",
       "      <th>geo_level_2_id</th>\n",
       "      <th>geo_level_3_id</th>\n",
       "      <th>count_floors_pre_eq</th>\n",
       "      <th>age</th>\n",
       "      <th>area_percentage</th>\n",
       "      <th>height_percentage</th>\n",
       "      <th>has_superstructure_adobe_mud</th>\n",
       "      <th>has_superstructure_mud_mortar_stone</th>\n",
       "      <th>has_superstructure_stone_flag</th>\n",
       "      <th>has_superstructure_cement_mortar_stone</th>\n",
       "      <th>has_superstructure_mud_mortar_brick</th>\n",
       "      <th>has_superstructure_cement_mortar_brick</th>\n",
       "      <th>has_superstructure_timber</th>\n",
       "      <th>has_superstructure_bamboo</th>\n",
       "      <th>has_superstructure_rc_non_engineered</th>\n",
       "      <th>has_superstructure_rc_engineered</th>\n",
       "      <th>has_superstructure_other</th>\n",
       "      <th>damage_grade</th>\n",
       "    </tr>\n",
       "  </thead>\n",
       "  <tbody>\n",
       "    <tr>\n",
       "      <th>count</th>\n",
       "      <td>260601.000000</td>\n",
       "      <td>260601.000000</td>\n",
       "      <td>260601.000000</td>\n",
       "      <td>260601.000000</td>\n",
       "      <td>260601.000000</td>\n",
       "      <td>260601.000000</td>\n",
       "      <td>260601.000000</td>\n",
       "      <td>260601.000000</td>\n",
       "      <td>260601.000000</td>\n",
       "      <td>260601.000000</td>\n",
       "      <td>260601.000000</td>\n",
       "      <td>260601.000000</td>\n",
       "      <td>260601.000000</td>\n",
       "      <td>260601.000000</td>\n",
       "      <td>260601.000000</td>\n",
       "      <td>260601.000000</td>\n",
       "      <td>260601.000000</td>\n",
       "      <td>260601.000000</td>\n",
       "      <td>260601.000000</td>\n",
       "    </tr>\n",
       "    <tr>\n",
       "      <th>mean</th>\n",
       "      <td>13.900353</td>\n",
       "      <td>701.074685</td>\n",
       "      <td>6257.876148</td>\n",
       "      <td>2.129723</td>\n",
       "      <td>26.535029</td>\n",
       "      <td>8.018051</td>\n",
       "      <td>5.434365</td>\n",
       "      <td>0.088645</td>\n",
       "      <td>0.761935</td>\n",
       "      <td>0.034332</td>\n",
       "      <td>0.018235</td>\n",
       "      <td>0.068154</td>\n",
       "      <td>0.075268</td>\n",
       "      <td>0.254988</td>\n",
       "      <td>0.085011</td>\n",
       "      <td>0.042590</td>\n",
       "      <td>0.015859</td>\n",
       "      <td>0.014985</td>\n",
       "      <td>2.238272</td>\n",
       "    </tr>\n",
       "    <tr>\n",
       "      <th>std</th>\n",
       "      <td>8.033617</td>\n",
       "      <td>412.710734</td>\n",
       "      <td>3646.369645</td>\n",
       "      <td>0.727665</td>\n",
       "      <td>73.565937</td>\n",
       "      <td>4.392231</td>\n",
       "      <td>1.918418</td>\n",
       "      <td>0.284231</td>\n",
       "      <td>0.425900</td>\n",
       "      <td>0.182081</td>\n",
       "      <td>0.133800</td>\n",
       "      <td>0.252010</td>\n",
       "      <td>0.263824</td>\n",
       "      <td>0.435855</td>\n",
       "      <td>0.278899</td>\n",
       "      <td>0.201931</td>\n",
       "      <td>0.124932</td>\n",
       "      <td>0.121491</td>\n",
       "      <td>0.611814</td>\n",
       "    </tr>\n",
       "    <tr>\n",
       "      <th>min</th>\n",
       "      <td>0.000000</td>\n",
       "      <td>0.000000</td>\n",
       "      <td>0.000000</td>\n",
       "      <td>1.000000</td>\n",
       "      <td>0.000000</td>\n",
       "      <td>1.000000</td>\n",
       "      <td>2.000000</td>\n",
       "      <td>0.000000</td>\n",
       "      <td>0.000000</td>\n",
       "      <td>0.000000</td>\n",
       "      <td>0.000000</td>\n",
       "      <td>0.000000</td>\n",
       "      <td>0.000000</td>\n",
       "      <td>0.000000</td>\n",
       "      <td>0.000000</td>\n",
       "      <td>0.000000</td>\n",
       "      <td>0.000000</td>\n",
       "      <td>0.000000</td>\n",
       "      <td>1.000000</td>\n",
       "    </tr>\n",
       "    <tr>\n",
       "      <th>25%</th>\n",
       "      <td>7.000000</td>\n",
       "      <td>350.000000</td>\n",
       "      <td>3073.000000</td>\n",
       "      <td>2.000000</td>\n",
       "      <td>10.000000</td>\n",
       "      <td>5.000000</td>\n",
       "      <td>4.000000</td>\n",
       "      <td>0.000000</td>\n",
       "      <td>1.000000</td>\n",
       "      <td>0.000000</td>\n",
       "      <td>0.000000</td>\n",
       "      <td>0.000000</td>\n",
       "      <td>0.000000</td>\n",
       "      <td>0.000000</td>\n",
       "      <td>0.000000</td>\n",
       "      <td>0.000000</td>\n",
       "      <td>0.000000</td>\n",
       "      <td>0.000000</td>\n",
       "      <td>2.000000</td>\n",
       "    </tr>\n",
       "    <tr>\n",
       "      <th>50%</th>\n",
       "      <td>12.000000</td>\n",
       "      <td>702.000000</td>\n",
       "      <td>6270.000000</td>\n",
       "      <td>2.000000</td>\n",
       "      <td>15.000000</td>\n",
       "      <td>7.000000</td>\n",
       "      <td>5.000000</td>\n",
       "      <td>0.000000</td>\n",
       "      <td>1.000000</td>\n",
       "      <td>0.000000</td>\n",
       "      <td>0.000000</td>\n",
       "      <td>0.000000</td>\n",
       "      <td>0.000000</td>\n",
       "      <td>0.000000</td>\n",
       "      <td>0.000000</td>\n",
       "      <td>0.000000</td>\n",
       "      <td>0.000000</td>\n",
       "      <td>0.000000</td>\n",
       "      <td>2.000000</td>\n",
       "    </tr>\n",
       "    <tr>\n",
       "      <th>75%</th>\n",
       "      <td>21.000000</td>\n",
       "      <td>1050.000000</td>\n",
       "      <td>9412.000000</td>\n",
       "      <td>2.000000</td>\n",
       "      <td>30.000000</td>\n",
       "      <td>9.000000</td>\n",
       "      <td>6.000000</td>\n",
       "      <td>0.000000</td>\n",
       "      <td>1.000000</td>\n",
       "      <td>0.000000</td>\n",
       "      <td>0.000000</td>\n",
       "      <td>0.000000</td>\n",
       "      <td>0.000000</td>\n",
       "      <td>1.000000</td>\n",
       "      <td>0.000000</td>\n",
       "      <td>0.000000</td>\n",
       "      <td>0.000000</td>\n",
       "      <td>0.000000</td>\n",
       "      <td>3.000000</td>\n",
       "    </tr>\n",
       "    <tr>\n",
       "      <th>max</th>\n",
       "      <td>30.000000</td>\n",
       "      <td>1427.000000</td>\n",
       "      <td>12567.000000</td>\n",
       "      <td>9.000000</td>\n",
       "      <td>995.000000</td>\n",
       "      <td>100.000000</td>\n",
       "      <td>32.000000</td>\n",
       "      <td>1.000000</td>\n",
       "      <td>1.000000</td>\n",
       "      <td>1.000000</td>\n",
       "      <td>1.000000</td>\n",
       "      <td>1.000000</td>\n",
       "      <td>1.000000</td>\n",
       "      <td>1.000000</td>\n",
       "      <td>1.000000</td>\n",
       "      <td>1.000000</td>\n",
       "      <td>1.000000</td>\n",
       "      <td>1.000000</td>\n",
       "      <td>3.000000</td>\n",
       "    </tr>\n",
       "  </tbody>\n",
       "</table>\n",
       "</div>"
      ],
      "text/plain": [
       "       geo_level_1_id  geo_level_2_id  geo_level_3_id  count_floors_pre_eq  \\\n",
       "count   260601.000000   260601.000000   260601.000000        260601.000000   \n",
       "mean        13.900353      701.074685     6257.876148             2.129723   \n",
       "std          8.033617      412.710734     3646.369645             0.727665   \n",
       "min          0.000000        0.000000        0.000000             1.000000   \n",
       "25%          7.000000      350.000000     3073.000000             2.000000   \n",
       "50%         12.000000      702.000000     6270.000000             2.000000   \n",
       "75%         21.000000     1050.000000     9412.000000             2.000000   \n",
       "max         30.000000     1427.000000    12567.000000             9.000000   \n",
       "\n",
       "                 age  area_percentage  height_percentage  \\\n",
       "count  260601.000000    260601.000000      260601.000000   \n",
       "mean       26.535029         8.018051           5.434365   \n",
       "std        73.565937         4.392231           1.918418   \n",
       "min         0.000000         1.000000           2.000000   \n",
       "25%        10.000000         5.000000           4.000000   \n",
       "50%        15.000000         7.000000           5.000000   \n",
       "75%        30.000000         9.000000           6.000000   \n",
       "max       995.000000       100.000000          32.000000   \n",
       "\n",
       "       has_superstructure_adobe_mud  has_superstructure_mud_mortar_stone  \\\n",
       "count                 260601.000000                        260601.000000   \n",
       "mean                       0.088645                             0.761935   \n",
       "std                        0.284231                             0.425900   \n",
       "min                        0.000000                             0.000000   \n",
       "25%                        0.000000                             1.000000   \n",
       "50%                        0.000000                             1.000000   \n",
       "75%                        0.000000                             1.000000   \n",
       "max                        1.000000                             1.000000   \n",
       "\n",
       "       has_superstructure_stone_flag  has_superstructure_cement_mortar_stone  \\\n",
       "count                  260601.000000                           260601.000000   \n",
       "mean                        0.034332                                0.018235   \n",
       "std                         0.182081                                0.133800   \n",
       "min                         0.000000                                0.000000   \n",
       "25%                         0.000000                                0.000000   \n",
       "50%                         0.000000                                0.000000   \n",
       "75%                         0.000000                                0.000000   \n",
       "max                         1.000000                                1.000000   \n",
       "\n",
       "       has_superstructure_mud_mortar_brick  \\\n",
       "count                        260601.000000   \n",
       "mean                              0.068154   \n",
       "std                               0.252010   \n",
       "min                               0.000000   \n",
       "25%                               0.000000   \n",
       "50%                               0.000000   \n",
       "75%                               0.000000   \n",
       "max                               1.000000   \n",
       "\n",
       "       has_superstructure_cement_mortar_brick  has_superstructure_timber  \\\n",
       "count                           260601.000000              260601.000000   \n",
       "mean                                 0.075268                   0.254988   \n",
       "std                                  0.263824                   0.435855   \n",
       "min                                  0.000000                   0.000000   \n",
       "25%                                  0.000000                   0.000000   \n",
       "50%                                  0.000000                   0.000000   \n",
       "75%                                  0.000000                   1.000000   \n",
       "max                                  1.000000                   1.000000   \n",
       "\n",
       "       has_superstructure_bamboo  has_superstructure_rc_non_engineered  \\\n",
       "count              260601.000000                         260601.000000   \n",
       "mean                    0.085011                              0.042590   \n",
       "std                     0.278899                              0.201931   \n",
       "min                     0.000000                              0.000000   \n",
       "25%                     0.000000                              0.000000   \n",
       "50%                     0.000000                              0.000000   \n",
       "75%                     0.000000                              0.000000   \n",
       "max                     1.000000                              1.000000   \n",
       "\n",
       "       has_superstructure_rc_engineered  has_superstructure_other  \\\n",
       "count                     260601.000000             260601.000000   \n",
       "mean                           0.015859                  0.014985   \n",
       "std                            0.124932                  0.121491   \n",
       "min                            0.000000                  0.000000   \n",
       "25%                            0.000000                  0.000000   \n",
       "50%                            0.000000                  0.000000   \n",
       "75%                            0.000000                  0.000000   \n",
       "max                            1.000000                  1.000000   \n",
       "\n",
       "        damage_grade  \n",
       "count  260601.000000  \n",
       "mean        2.238272  \n",
       "std         0.611814  \n",
       "min         1.000000  \n",
       "25%         2.000000  \n",
       "50%         2.000000  \n",
       "75%         3.000000  \n",
       "max         3.000000  "
      ]
     },
     "execution_count": 13,
     "metadata": {},
     "output_type": "execute_result"
    }
   ],
   "source": [
    "train.describe()"
   ]
  },
  {
   "cell_type": "code",
   "execution_count": 14,
   "metadata": {},
   "outputs": [],
   "source": [
    "def print_corr_matrix(df, size=15):\n",
    "    plt.figure(figsize=(size, size))\n",
    "    sns.heatmap(corr, annot=True, cmap=sns.diverging_palette(220, 20, sep=20, as_cmap=True), vmax=1, vmin=-1, center=0)\n",
    "    plt.title('Correlation')\n",
    "    plt.show()"
   ]
  },
  {
   "cell_type": "code",
   "execution_count": 15,
   "metadata": {},
   "outputs": [
    {
     "data": {
      "image/png": "[encoded data removed]",
      "text/plain": [
       "<Figure size 864x864 with 2 Axes>"
      ]
     },
     "metadata": {
      "needs_background": "light"
     },
     "output_type": "display_data"
    }
   ],
   "source": [
    "corr = round(train.corr(), 2)\n",
    "print_corr_matrix(corr, size=12)"
   ]
  },
  {
   "cell_type": "code",
   "execution_count": 16,
   "metadata": {},
   "outputs": [
    {
     "data": {
      "text/plain": [
       "(260601, 53)"
      ]
     },
     "execution_count": 16,
     "metadata": {},
     "output_type": "execute_result"
    }
   ],
   "source": [
    "lsc = pd.get_dummies(train['land_surface_condition'], prefix='land_surface_condition')\n",
    "ft = pd.get_dummies(train['foundation_type'], prefix='foundation_type')\n",
    "rt = pd.get_dummies(train['roof_type'], prefix='roof_type')\n",
    "gft = pd.get_dummies(train['ground_floor_type'], prefix='ground_floor_type')\n",
    "oft = pd.get_dummies(train['other_floor_type'], prefix='other_floor_type')\n",
    "pos = pd.get_dummies(train['position'], prefix='position')\n",
    "pc = pd.get_dummies(train['plan_configuration'], prefix='plan_configuration')\n",
    "\n",
    "train = pd.concat([train, lsc, ft, rt, gft, oft, pos, pc], axis=1)\n",
    "\n",
    "train.drop(['land_surface_condition', 'foundation_type','roof_type','ground_floor_type', 'other_floor_type', 'position', 'plan_configuration'], inplace=True, axis=1)\n",
    "train.shape"
   ]
  },
  {
   "cell_type": "code",
   "execution_count": 17,
   "metadata": {},
   "outputs": [],
   "source": [
    "def pie_plot(df, feature, **options):\n",
    "    df[feature].value_counts().sort_index().plot.pie(**options)"
   ]
  },
  {
   "cell_type": "code",
   "execution_count": 18,
   "metadata": {},
   "outputs": [
    {
     "data": {
      "image/png": "[encoded data removed]",
      "text/plain": [
       "<Figure size 360x360 with 1 Axes>"
      ]
     },
     "metadata": {},
     "output_type": "display_data"
    }
   ],
   "source": [
    "pie_plot(train, 'damage_grade', labels=['Grade 1', 'Grade 2', 'Grade 3'], figsize=(5, 5))"
   ]
  },
  {
   "cell_type": "code",
   "execution_count": 19,
   "metadata": {},
   "outputs": [],
   "source": [
    "features_list = train.columns.tolist()\n",
    "features_list.remove('damage_grade')"
   ]
  },
  {
   "cell_type": "code",
   "execution_count": 20,
   "metadata": {},
   "outputs": [],
   "source": [
    "def get_df_with_uniform_class(df, uniform_count):\n",
    "    new_df = df.copy()\n",
    "\n",
    "    tmp_2 = new_df[new_df['damage_grade'] == 2]\n",
    "    tmp_3 = new_df[new_df['damage_grade'] == 3]\n",
    "\n",
    "    new_df.drop(tmp_2.sample(len(tmp_2) - uniform_count).index, inplace=True)\n",
    "    new_df.drop(tmp_3.sample(len(tmp_3) - uniform_count).index, inplace=True)\n",
    "    \n",
    "    return new_df"
   ]
  },
  {
   "cell_type": "code",
   "execution_count": 21,
   "metadata": {},
   "outputs": [],
   "source": [
    "uniform_train = get_df_with_uniform_class(train, len(train[train.damage_grade == 1]))"
   ]
  },
  {
   "cell_type": "code",
   "execution_count": 22,
   "metadata": {},
   "outputs": [
    {
     "data": {
      "image/png": "[encoded data removed]",
      "text/plain": [
       "<Figure size 360x360 with 1 Axes>"
      ]
     },
     "metadata": {},
     "output_type": "display_data"
    }
   ],
   "source": [
    "pie_plot(uniform_train, 'damage_grade', labels=['Grade 1', 'Grade 2', 'Grade 3'], figsize=(5, 5))"
   ]
  },
  {
   "cell_type": "code",
   "execution_count": 23,
   "metadata": {},
   "outputs": [],
   "source": [
    "y = train.drop(features_list, axis=1)\n",
    "X = train.drop(['damage_grade'], axis=1)\n",
    "\n",
    "y_uniform = uniform_train.drop(features_list, axis=1)\n",
    "X_uniform = uniform_train.drop(['damage_grade'], axis=1)"
   ]
  },
  {
   "cell_type": "code",
   "execution_count": 24,
   "metadata": {},
   "outputs": [],
   "source": [
    "from sklearn.model_selection import train_test_split\n",
    "X_train, X_val, y_train, y_val = train_test_split(X.astype(float), y, test_size=0.3, random_state=43)\n",
    "X_uniform_train, X_uniform_val, y_uniform_train, y_uniform_val = train_test_split(X_uniform.astype(float), y_uniform, test_size=0.3, random_state=53)"
   ]
  },
  {
   "cell_type": "markdown",
   "metadata": {},
   "source": [
    "# Perceptron"
   ]
  },
  {
   "cell_type": "code",
   "execution_count": 25,
   "metadata": {},
   "outputs": [
    {
     "name": "stdout",
     "output_type": "stream",
     "text": [
      "Perceptron without standard scaler:\n"
     ]
    },
    {
     "name": "stderr",
     "output_type": "stream",
     "text": [
      "/usr/lib/python3.7/site-packages/sklearn/utils/validation.py:761: DataConversionWarning: A column-vector y was passed when a 1d array was expected. Please change the shape of y to (n_samples, ), for example using ravel().\n",
      "  y = column_or_1d(y, warn=True)\n"
     ]
    },
    {
     "name": "stdout",
     "output_type": "stream",
     "text": [
      "With unbalanced df 56.92%\n"
     ]
    },
    {
     "name": "stderr",
     "output_type": "stream",
     "text": [
      "/usr/lib/python3.7/site-packages/sklearn/utils/validation.py:761: DataConversionWarning: A column-vector y was passed when a 1d array was expected. Please change the shape of y to (n_samples, ), for example using ravel().\n",
      "  y = column_or_1d(y, warn=True)\n"
     ]
    },
    {
     "name": "stdout",
     "output_type": "stream",
     "text": [
      "With balanced df 33.05%\n"
     ]
    }
   ],
   "source": [
    "from sklearn.linear_model import Perceptron\n",
    "from sklearn.pipeline import Pipeline\n",
    "from sklearn.preprocessing import StandardScaler\n",
    "\n",
    "perceptron_model = Perceptron(penalty='l2', alpha=0.0005, max_iter=1000, tol=1e-3)\n",
    "\n",
    "print('Perceptron without standard scaler:')\n",
    "\n",
    "perceptron_model.fit(X_train, y_train)\n",
    "print('With unbalanced df {:.2f}%'.format(perceptron_model.score(X_val, y_val)*100))\n",
    "\n",
    "perceptron_model.fit(X_uniform_train, y_uniform_train)\n",
    "print('With balanced df {:.2f}%'.format(perceptron_model.score(X_uniform_val, y_uniform_val)*100))"
   ]
  },
  {
   "cell_type": "markdown",
   "metadata": {},
   "source": [
    "Now try to Standardize the input data"
   ]
  },
  {
   "cell_type": "code",
   "execution_count": 26,
   "metadata": {},
   "outputs": [
    {
     "name": "stdout",
     "output_type": "stream",
     "text": [
      "Perceptron with standard scaler:\n"
     ]
    },
    {
     "name": "stderr",
     "output_type": "stream",
     "text": [
      "/usr/lib/python3.7/site-packages/sklearn/utils/validation.py:761: DataConversionWarning: A column-vector y was passed when a 1d array was expected. Please change the shape of y to (n_samples, ), for example using ravel().\n",
      "  y = column_or_1d(y, warn=True)\n"
     ]
    },
    {
     "name": "stdout",
     "output_type": "stream",
     "text": [
      "With unbalanced df 53.43%\n"
     ]
    },
    {
     "name": "stderr",
     "output_type": "stream",
     "text": [
      "/usr/lib/python3.7/site-packages/sklearn/utils/validation.py:761: DataConversionWarning: A column-vector y was passed when a 1d array was expected. Please change the shape of y to (n_samples, ), for example using ravel().\n",
      "  y = column_or_1d(y, warn=True)\n"
     ]
    },
    {
     "name": "stdout",
     "output_type": "stream",
     "text": [
      "With balanced df 45.73%\n"
     ]
    }
   ],
   "source": [
    "perceptron_model = Pipeline([\n",
    "    ('std', StandardScaler()),\n",
    "    ('perceptron', Perceptron(penalty='l2', alpha=0.0005, max_iter=1000, tol=1e-3))\n",
    "])\n",
    "\n",
    "print('Perceptron with standard scaler:')\n",
    "\n",
    "perceptron_model.fit(X_train, y_train)\n",
    "print('With unbalanced df {:.2f}%'.format(perceptron_model.score(X_val, y_val)*100))\n",
    "\n",
    "perceptron_model.fit(X_uniform_train, y_uniform_train)\n",
    "print('With balanced df {:.2f}%'.format(perceptron_model.score(X_uniform_val, y_uniform_val)*100))"
   ]
  },
  {
   "cell_type": "markdown",
   "metadata": {},
   "source": [
    "# Logistic Regression"
   ]
  },
  {
   "cell_type": "code",
   "execution_count": null,
   "metadata": {},
   "outputs": [
    {
     "name": "stdout",
     "output_type": "stream",
     "text": [
      "With unbalanced df 57.91%\n"
     ]
    }
   ],
   "source": [
    "from sklearn.linear_model import LogisticRegression\n",
    "from sklearn.preprocessing import PolynomialFeatures\n",
    "\n",
    "lr_model = LogisticRegression(solver='liblinear', multi_class='auto', penalty='l2', C=15, random_state=43)\n",
    "\n",
    "lr_model.fit(X_train, y_train.values.ravel())\n",
    "print('With unbalanced df {:.2f}%'.format(lr_model.score(X_val, y_val)*100))\n",
    "\n",
    "lr_model.fit(X_uniform_train, y_uniform_train.values.ravel())\n",
    "print('With balanced df {:.2f}%'.format(lr_model.score(X_uniform_val, y_uniform_val)*100))"
   ]
  },
  {
   "cell_type": "code",
   "execution_count": null,
   "metadata": {},
   "outputs": [
    {
     "name": "stderr",
     "output_type": "stream",
     "text": [
      "/usr/lib/python3.7/site-packages/sklearn/utils/validation.py:761: DataConversionWarning: A column-vector y was passed when a 1d array was expected. Please change the shape of y to (n_samples, ), for example using ravel().\n",
      "  y = column_or_1d(y, warn=True)\n"
     ]
    }
   ],
   "source": [
    "lr_model = Pipeline([\n",
    "    ('std', StandardScaler()),\n",
    "    ('poly', PolynomialFeatures(degree=2)),\n",
    "    ('lr', LogisticRegression(solver='liblinear', multi_class='auto', penalty='l2', C=15, random_state=43)),\n",
    "])\n",
    "\n",
    "lr_model.fit(X_train, y_train)\n",
    "print('With unbalanced df {:.2f}%'.format(lr_model.score(X_val, y_val)*100))\n",
    "\n",
    "lr_model.fit(X_uniform_train, y_uniform_train)\n",
    "print('With balanced df {:.2f}%'.format(lr_model.score(X_uniform_val, y_uniform_val)*100))"
   ]
  },
  {
   "cell_type": "markdown",
   "metadata": {},
   "source": [
    "# Gaussian Naive Bayes"
   ]
  },
  {
   "cell_type": "raw",
   "metadata": {},
   "source": [
    "from sklearn.naive_bayes import GaussianNB\n",
    "\n",
    "gnb_model = GaussianNB(var_smoothing=1e-8)\n",
    "\n",
    "gnb_model.fit(X_train, y_train)\n",
    "print('With unbalanced df {:.2f}%'.format(gnb_model.score(X_val, y_val)*100))\n",
    "\n",
    "gnb_model.fit(X_uniform_train, y_uniform_train)\n",
    "print('With balanced df {:.2f}%'.format(gnb_model.score(X_uniform_val, y_uniform_val)*100))"
   ]
  },
  {
   "cell_type": "code",
   "execution_count": 30,
   "metadata": {},
   "outputs": [
    {
     "name": "stdout",
     "output_type": "stream",
     "text": [
      "With unbalanced df 42.17%\n",
      "With balanced df 53.96%\n"
     ]
    }
   ],
   "source": [
    "gnb_model = Pipeline([\n",
    "    ('std', StandardScaler()),\n",
    "    ('gnb', GaussianNB(var_smoothing=1e-2))\n",
    "])\n",
    "\n",
    "gnb_model.fit(X_train, y_train)\n",
    "print('With unbalanced df {:.2f}%'.format(gnb_model.score(X_val, y_val)*100))\n",
    "\n",
    "gnb_model.fit(X_uniform_train, y_uniform_train)\n",
    "print('With balanced df {:.2f}%'.format(gnb_model.score(X_uniform_val, y_uniform_val)*100))"
   ]
  },
  {
   "cell_type": "markdown",
   "metadata": {},
   "source": [
    "# Nearest Neighbours"
   ]
  },
  {
   "cell_type": "code",
   "execution_count": 37,
   "metadata": {},
   "outputs": [
    {
     "name": "stdout",
     "output_type": "stream",
     "text": [
      "With unbalanced df 70.59%\n",
      "With balanced df 62.14%\n"
     ]
    }
   ],
   "source": [
    "from sklearn.neighbors import KNeighborsClassifier\n",
    "\n",
    "nearestn_model = KNeighborsClassifier(n_neighbors=10)\n",
    "\n",
    "nearestn_model.fit(X_train, y_train)\n",
    "print('With unbalanced df {:.2f}%'.format(nearestn_model.score(X_val, y_val)*100))\n",
    "\n",
    "nearestn_model.fit(X_uniform_train, y_uniform_train)\n",
    "print('With balanced df {:.2f}%'.format(nearestn_model.score(X_uniform_val, y_uniform_val)*100))"
   ]
  },
  {
   "cell_type": "code",
   "execution_count": null,
   "metadata": {},
   "outputs": [],
   "source": [
    "nearestn_model = Pipeline([\n",
    "    ('std', StandardScaler()),\n",
    "    ('knn', KNeighborsClassifier(n_neighbors=10))\n",
    "])\n",
    "\n",
    "nearestn_model.fit(X_train, y_train)\n",
    "print('With unbalanced df {:.2f}%'.format(nearestn_model.score(X_val, y_val)*100))\n",
    "\n",
    "nearestn_model.fit(X_uniform_train, y_uniform_train)\n",
    "print('With balanced df {:.2f}%'.format(nearestn_model.score(X_uniform_val, y_uniform_val)*100))"
   ]
  },
  {
   "cell_type": "markdown",
   "metadata": {},
   "source": [
    "## KNN Grid Search"
   ]
  },
  {
   "cell_type": "code",
   "execution_count": 44,
   "metadata": {},
   "outputs": [
    {
     "name": "stderr",
     "output_type": "stream",
     "text": [
      "/usr/lib/python3.7/site-packages/sklearn/externals/joblib/externals/loky/process_executor.py:706: UserWarning: A worker stopped while some jobs were given to the executor. This can be caused by a too short worker timeout or by a memory leak.\n",
      "  \"timeout or by a memory leak.\", UserWarning\n"
     ]
    },
    {
     "data": {
      "text/plain": [
       "GridSearchCV(cv=5, error_score='raise-deprecating',\n",
       "       estimator=KNeighborsClassifier(algorithm='auto', leaf_size=30, metric='minkowski',\n",
       "           metric_params=None, n_jobs=-1, n_neighbors=5, p=2,\n",
       "           weights='uniform'),\n",
       "       fit_params=None, iid='warn', n_jobs=-1,\n",
       "       param_grid={'n_neighbors': [5, 10, 15], 'algorithm': ['auto', 'ball_tree', 'kd_tree']},\n",
       "       pre_dispatch='2*n_jobs', refit=True, return_train_score=True,\n",
       "       scoring=None, verbose=0)"
      ]
     },
     "execution_count": 44,
     "metadata": {},
     "output_type": "execute_result"
    }
   ],
   "source": [
    "from sklearn.model_selection import GridSearchCV\n",
    "\n",
    "knn_model = KNeighborsClassifier(n_jobs=-1)\n",
    "\n",
    "grid = {\n",
    "    'n_neighbors': [5, 10, 15],\n",
    "    'algorithm': ['auto', 'ball_tree', 'kd_tree'],\n",
    "}\n",
    "\n",
    "knn_gs_model = GridSearchCV(knn_model, grid, cv=5, n_jobs=-1, return_train_score=True)\n",
    "knn_gs_model.fit(X.astype(float), y)"
   ]
  },
  {
   "cell_type": "code",
   "execution_count": 45,
   "metadata": {},
   "outputs": [
    {
     "data": {
      "text/html": [
       "<div>\n",
       "<style scoped>\n",
       "    .dataframe tbody tr th:only-of-type {\n",
       "        vertical-align: middle;\n",
       "    }\n",
       "\n",
       "    .dataframe tbody tr th {\n",
       "        vertical-align: top;\n",
       "    }\n",
       "\n",
       "    .dataframe thead th {\n",
       "        text-align: right;\n",
       "    }\n",
       "</style>\n",
       "<table border=\"1\" class=\"dataframe\">\n",
       "  <thead>\n",
       "    <tr style=\"text-align: right;\">\n",
       "      <th></th>\n",
       "      <th>mean_fit_time</th>\n",
       "      <th>std_fit_time</th>\n",
       "      <th>mean_score_time</th>\n",
       "      <th>std_score_time</th>\n",
       "      <th>param_algorithm</th>\n",
       "      <th>param_n_neighbors</th>\n",
       "      <th>params</th>\n",
       "      <th>split0_test_score</th>\n",
       "      <th>split1_test_score</th>\n",
       "      <th>split2_test_score</th>\n",
       "      <th>...</th>\n",
       "      <th>mean_test_score</th>\n",
       "      <th>std_test_score</th>\n",
       "      <th>rank_test_score</th>\n",
       "      <th>split0_train_score</th>\n",
       "      <th>split1_train_score</th>\n",
       "      <th>split2_train_score</th>\n",
       "      <th>split3_train_score</th>\n",
       "      <th>split4_train_score</th>\n",
       "      <th>mean_train_score</th>\n",
       "      <th>std_train_score</th>\n",
       "    </tr>\n",
       "  </thead>\n",
       "  <tbody>\n",
       "    <tr>\n",
       "      <th>1</th>\n",
       "      <td>4.331425</td>\n",
       "      <td>1.347896</td>\n",
       "      <td>9.356175</td>\n",
       "      <td>1.506584</td>\n",
       "      <td>auto</td>\n",
       "      <td>10</td>\n",
       "      <td>{'algorithm': 'auto', 'n_neighbors': 10}</td>\n",
       "      <td>0.714779</td>\n",
       "      <td>0.708064</td>\n",
       "      <td>0.710309</td>\n",
       "      <td>...</td>\n",
       "      <td>0.711306</td>\n",
       "      <td>0.002278</td>\n",
       "      <td>1</td>\n",
       "      <td>0.755598</td>\n",
       "      <td>0.757564</td>\n",
       "      <td>0.756039</td>\n",
       "      <td>0.757081</td>\n",
       "      <td>0.757213</td>\n",
       "      <td>0.756699</td>\n",
       "      <td>0.000749</td>\n",
       "    </tr>\n",
       "    <tr>\n",
       "      <th>7</th>\n",
       "      <td>6.339319</td>\n",
       "      <td>2.435318</td>\n",
       "      <td>8.427968</td>\n",
       "      <td>0.824834</td>\n",
       "      <td>kd_tree</td>\n",
       "      <td>10</td>\n",
       "      <td>{'algorithm': 'kd_tree', 'n_neighbors': 10}</td>\n",
       "      <td>0.714779</td>\n",
       "      <td>0.708064</td>\n",
       "      <td>0.710309</td>\n",
       "      <td>...</td>\n",
       "      <td>0.711306</td>\n",
       "      <td>0.002278</td>\n",
       "      <td>1</td>\n",
       "      <td>0.755598</td>\n",
       "      <td>0.757564</td>\n",
       "      <td>0.756039</td>\n",
       "      <td>0.757081</td>\n",
       "      <td>0.757213</td>\n",
       "      <td>0.756699</td>\n",
       "      <td>0.000749</td>\n",
       "    </tr>\n",
       "    <tr>\n",
       "      <th>4</th>\n",
       "      <td>19.069358</td>\n",
       "      <td>8.974549</td>\n",
       "      <td>39.105361</td>\n",
       "      <td>8.299846</td>\n",
       "      <td>ball_tree</td>\n",
       "      <td>10</td>\n",
       "      <td>{'algorithm': 'ball_tree', 'n_neighbors': 10}</td>\n",
       "      <td>0.714299</td>\n",
       "      <td>0.707949</td>\n",
       "      <td>0.710635</td>\n",
       "      <td>...</td>\n",
       "      <td>0.711156</td>\n",
       "      <td>0.002132</td>\n",
       "      <td>3</td>\n",
       "      <td>0.755809</td>\n",
       "      <td>0.757785</td>\n",
       "      <td>0.756120</td>\n",
       "      <td>0.757091</td>\n",
       "      <td>0.757242</td>\n",
       "      <td>0.756809</td>\n",
       "      <td>0.000734</td>\n",
       "    </tr>\n",
       "    <tr>\n",
       "      <th>2</th>\n",
       "      <td>6.780618</td>\n",
       "      <td>1.597916</td>\n",
       "      <td>13.919810</td>\n",
       "      <td>1.245867</td>\n",
       "      <td>auto</td>\n",
       "      <td>15</td>\n",
       "      <td>{'algorithm': 'auto', 'n_neighbors': 15}</td>\n",
       "      <td>0.710155</td>\n",
       "      <td>0.701656</td>\n",
       "      <td>0.706951</td>\n",
       "      <td>...</td>\n",
       "      <td>0.706229</td>\n",
       "      <td>0.003024</td>\n",
       "      <td>4</td>\n",
       "      <td>0.739399</td>\n",
       "      <td>0.741659</td>\n",
       "      <td>0.740517</td>\n",
       "      <td>0.740912</td>\n",
       "      <td>0.740363</td>\n",
       "      <td>0.740570</td>\n",
       "      <td>0.000737</td>\n",
       "    </tr>\n",
       "    <tr>\n",
       "      <th>8</th>\n",
       "      <td>4.517753</td>\n",
       "      <td>2.299542</td>\n",
       "      <td>7.396129</td>\n",
       "      <td>1.818774</td>\n",
       "      <td>kd_tree</td>\n",
       "      <td>15</td>\n",
       "      <td>{'algorithm': 'kd_tree', 'n_neighbors': 15}</td>\n",
       "      <td>0.710155</td>\n",
       "      <td>0.701656</td>\n",
       "      <td>0.706951</td>\n",
       "      <td>...</td>\n",
       "      <td>0.706229</td>\n",
       "      <td>0.003024</td>\n",
       "      <td>4</td>\n",
       "      <td>0.739399</td>\n",
       "      <td>0.741659</td>\n",
       "      <td>0.740517</td>\n",
       "      <td>0.740912</td>\n",
       "      <td>0.740363</td>\n",
       "      <td>0.740570</td>\n",
       "      <td>0.000737</td>\n",
       "    </tr>\n",
       "  </tbody>\n",
       "</table>\n",
       "<p>5 rows × 22 columns</p>\n",
       "</div>"
      ],
      "text/plain": [
       "   mean_fit_time  std_fit_time  mean_score_time  std_score_time  \\\n",
       "1       4.331425      1.347896         9.356175        1.506584   \n",
       "7       6.339319      2.435318         8.427968        0.824834   \n",
       "4      19.069358      8.974549        39.105361        8.299846   \n",
       "2       6.780618      1.597916        13.919810        1.245867   \n",
       "8       4.517753      2.299542         7.396129        1.818774   \n",
       "\n",
       "  param_algorithm param_n_neighbors  \\\n",
       "1            auto                10   \n",
       "7         kd_tree                10   \n",
       "4       ball_tree                10   \n",
       "2            auto                15   \n",
       "8         kd_tree                15   \n",
       "\n",
       "                                          params  split0_test_score  \\\n",
       "1       {'algorithm': 'auto', 'n_neighbors': 10}           0.714779   \n",
       "7    {'algorithm': 'kd_tree', 'n_neighbors': 10}           0.714779   \n",
       "4  {'algorithm': 'ball_tree', 'n_neighbors': 10}           0.714299   \n",
       "2       {'algorithm': 'auto', 'n_neighbors': 15}           0.710155   \n",
       "8    {'algorithm': 'kd_tree', 'n_neighbors': 15}           0.710155   \n",
       "\n",
       "   split1_test_score  split2_test_score  ...  mean_test_score  std_test_score  \\\n",
       "1           0.708064           0.710309  ...         0.711306        0.002278   \n",
       "7           0.708064           0.710309  ...         0.711306        0.002278   \n",
       "4           0.707949           0.710635  ...         0.711156        0.002132   \n",
       "2           0.701656           0.706951  ...         0.706229        0.003024   \n",
       "8           0.701656           0.706951  ...         0.706229        0.003024   \n",
       "\n",
       "   rank_test_score  split0_train_score  split1_train_score  \\\n",
       "1                1            0.755598            0.757564   \n",
       "7                1            0.755598            0.757564   \n",
       "4                3            0.755809            0.757785   \n",
       "2                4            0.739399            0.741659   \n",
       "8                4            0.739399            0.741659   \n",
       "\n",
       "   split2_train_score  split3_train_score  split4_train_score  \\\n",
       "1            0.756039            0.757081            0.757213   \n",
       "7            0.756039            0.757081            0.757213   \n",
       "4            0.756120            0.757091            0.757242   \n",
       "2            0.740517            0.740912            0.740363   \n",
       "8            0.740517            0.740912            0.740363   \n",
       "\n",
       "   mean_train_score  std_train_score  \n",
       "1          0.756699         0.000749  \n",
       "7          0.756699         0.000749  \n",
       "4          0.756809         0.000734  \n",
       "2          0.740570         0.000737  \n",
       "8          0.740570         0.000737  \n",
       "\n",
       "[5 rows x 22 columns]"
      ]
     },
     "execution_count": 45,
     "metadata": {},
     "output_type": "execute_result"
    }
   ],
   "source": [
    "pd.DataFrame(knn_gs_model.cv_results_).sort_values('rank_test_score').head(5)"
   ]
  },
  {
   "cell_type": "code",
   "execution_count": 47,
   "metadata": {},
   "outputs": [
    {
     "name": "stdout",
     "output_type": "stream",
     "text": [
      "With unbalanced df 58.77%\n",
      "With balanced df 57.27%\n"
     ]
    }
   ],
   "source": [
    "from sklearn.linear_model import RidgeClassifierCV\n",
    "\n",
    "ridge_model = RidgeClassifierCV(alphas=[1e-3, 1e-2, 1e-1, 1])\n",
    "\n",
    "ridge_model.fit(X_train, y_train)\n",
    "print('With unbalanced df {:.2f}%'.format(ridge_model.score(X_val, y_val)*100))\n",
    "\n",
    "ridge_model.fit(X_uniform_train, y_uniform_train)\n",
    "print('With balanced df {:.2f}%'.format(ridge_model.score(X_uniform_val, y_uniform_val)*100))"
   ]
  },
  {
   "cell_type": "markdown",
   "metadata": {},
   "source": [
    "# XGBoost"
   ]
  },
  {
   "cell_type": "code",
   "execution_count": 60,
   "metadata": {},
   "outputs": [
    {
     "name": "stdout",
     "output_type": "stream",
     "text": [
      "With unbalanced df 74.13%\n",
      "With balanced df 72.30%\n"
     ]
    }
   ],
   "source": [
    "from xgboost import XGBClassifier\n",
    "\n",
    "xgb_model = XGBClassifier(objective='multi:softmax',\n",
    "                          num_class=3, \n",
    "                          learning_rate=0.02, \n",
    "                          n_estimators=600, \n",
    "                          n_jobs=-1,\n",
    "                          colsample_bytree=0.8,\n",
    "                          gamma=1,\n",
    "                          max_depth=20,\n",
    "                          min_child_weight=5,\n",
    "                          subsample=0.6, tree_method='gpu_hist')\n",
    "\n",
    "xgb_model.fit(X_train, y_train)\n",
    "print('With unbalanced df {:.2f}%'.format(xgb_model.score(X_val, y_val)*100))\n",
    "\n",
    "xgb_model.fit(X_uniform_train, y_uniform_train)\n",
    "print('With balanced df {:.2f}%'.format(xgb_model.score(X_uniform_val, y_uniform_val)*100))"
   ]
  },
  {
   "cell_type": "code",
   "execution_count": 39,
   "metadata": {},
   "outputs": [],
   "source": [
    "import tensorflow as tf\n",
    "from tensorflow import keras\n",
    "from tensorflow.keras import layers\n",
    "from tensorflow.keras.models import Sequential\n",
    "from tensorflow.keras.layers import Dense\n",
    "from tensorflow.keras.utils import to_categorical\n",
    "from sklearn.preprocessing import LabelEncoder\n",
    "from sklearn.preprocessing import StandardScaler\n",
    "from tensorflow.keras import regularizers\n",
    "\n",
    "scaler_X = StandardScaler()\n",
    "std_X_train = scaler_X.fit_transform(X_train.astype(float))\n",
    "std_X_val = scaler_X.transform(X_val)\n",
    "\n",
    "std_y_train = to_categorical(y_train.values.ravel() - 1)\n",
    "std_y_val = to_categorical(y_val.values.ravel() - 1)\n",
    "\n",
    "class PrintDot(keras.callbacks.Callback):\n",
    "    def on_epoch_end(self, epoch, logs):\n",
    "        if epoch % 100 == 0: print('')\n",
    "        print('.', end='')\n",
    "\n",
    "def nn_build_model():\n",
    "    model = Sequential([\n",
    "        Dense(64, input_shape=[X.shape[1]]),\n",
    "        Dense(128, activation=tf.nn.relu),\n",
    "        Dense(200, activation=tf.nn.relu),\n",
    "        Dense(128, activation=tf.nn.relu),\n",
    "        Dense(256, activation=tf.nn.relu),\n",
    "        Dense(512, activation=tf.nn.relu),\n",
    "        Dense(128, activation=tf.nn.relu),\n",
    "        Dense(3, activation=tf.nn.softmax)\n",
    "    ])\n",
    "    \n",
    "    model.compile(loss='categorical_crossentropy', optimizer='adam', metrics=['accuracy'])\n",
    "    return model"
   ]
  },
  {
   "cell_type": "code",
   "execution_count": 40,
   "metadata": {},
   "outputs": [
    {
     "name": "stdout",
     "output_type": "stream",
     "text": [
      "\n",
      ".............................."
     ]
    }
   ],
   "source": [
    "model = nn_build_model()\n",
    "history = model.fit(std_X_train, std_y_train, validation_split=0.2, epochs=30, verbose=0, callbacks=[PrintDot()])"
   ]
  },
  {
   "cell_type": "code",
   "execution_count": 41,
   "metadata": {},
   "outputs": [],
   "source": [
    "def plot_history(history):\n",
    "    hist = pd.DataFrame(history.history)\n",
    "    hist['epoch'] = history.epoch\n",
    "\n",
    "    plt.figure()\n",
    "    plt.xlabel('Epoch')\n",
    "    plt.ylabel('Loss')\n",
    "    plt.plot(hist['epoch'], hist['loss'], label='Train Loss')\n",
    "    plt.plot(hist['epoch'], hist['val_loss'], label = 'Val Loss')\n",
    "    plt.ylim([0,2])\n",
    "    plt.legend()\n",
    "\n",
    "    plt.figure()\n",
    "    plt.xlabel('Epoch')\n",
    "    plt.ylabel('Accuracy')\n",
    "    plt.plot(hist['epoch'], hist['acc'], label='Train Accuracy')\n",
    "    plt.plot(hist['epoch'], hist['val_acc'], label = 'Val Accuracy')\n",
    "    plt.ylim([0.4, 1])\n",
    "    plt.legend()\n",
    "    plt.show()"
   ]
  },
  {
   "cell_type": "code",
   "execution_count": 42,
   "metadata": {},
   "outputs": [
    {
     "data": {
      "image/png": "[encoded data removed]",
      "text/plain": [
       "<Figure size 432x288 with 1 Axes>"
      ]
     },
     "metadata": {
      "needs_background": "light"
     },
     "output_type": "display_data"
    },
    {
     "data": {
      "image/png": "[encoded data removed]",
      "text/plain": [
       "<Figure size 432x288 with 1 Axes>"
      ]
     },
     "metadata": {
      "needs_background": "light"
     },
     "output_type": "display_data"
    }
   ],
   "source": [
    "hist = pd.DataFrame(history.history)\n",
    "plot_history(history)"
   ]
  },
  {
   "cell_type": "code",
   "execution_count": 43,
   "metadata": {},
   "outputs": [
    {
     "name": "stdout",
     "output_type": "stream",
     "text": [
      "        loss       acc  val_loss   val_acc\n",
      "0   0.771707  0.620313  0.743427  0.639020\n",
      "1   0.734173  0.646249  0.728002  0.656397\n",
      "2   0.722198  0.655726  0.728099  0.657713\n",
      "3   0.715308  0.661927  0.719717  0.659303\n",
      "4   0.709410  0.664983  0.711875  0.664319\n",
      "5   0.703730  0.667443  0.702427  0.669910\n",
      "6   0.698225  0.671150  0.703489  0.670678\n",
      "7   0.694315  0.673576  0.699278  0.672103\n",
      "8   0.689721  0.675522  0.694700  0.672624\n",
      "9   0.686187  0.677872  0.698388  0.669910\n",
      "10  0.682748  0.680627  0.696895  0.673884\n",
      "11  0.678782  0.682518  0.697398  0.673281\n",
      "12  0.675873  0.683800  0.699763  0.672624\n",
      "13  0.672781  0.684876  0.692690  0.678243\n",
      "14  0.669448  0.688192  0.694142  0.677831\n",
      "15  0.666007  0.688596  0.691388  0.681011\n",
      "16  0.663667  0.690488  0.692122  0.679257\n",
      "17  0.661151  0.691091  0.693853  0.677009\n",
      "18  0.657707  0.693777  0.691792  0.677502\n",
      "19  0.655592  0.694421  0.687690  0.680983\n",
      "20  0.653621  0.694901  0.699221  0.680216\n",
      "21  0.651987  0.696435  0.696955  0.677256\n",
      "22  0.648810  0.697436  0.689921  0.683916\n",
      "23  0.645129  0.698710  0.694261  0.675556\n",
      "24  0.644228  0.699772  0.684425  0.683039\n",
      "25  0.639968  0.703137  0.697114  0.680408\n",
      "26  0.637846  0.703534  0.692191  0.681175\n",
      "27  0.637823  0.703973  0.692806  0.682738\n",
      "28  0.636462  0.704740  0.691323  0.683039\n",
      "29  0.632522  0.706967  0.702752  0.679037\n"
     ]
    }
   ],
   "source": [
    "print(hist)"
   ]
  },
  {
   "cell_type": "markdown",
   "metadata": {},
   "source": [
    "# SVM"
   ]
  },
  {
   "cell_type": "code",
   "execution_count": 109,
   "metadata": {},
   "outputs": [
    {
     "name": "stdout",
     "output_type": "stream",
     "text": [
      "With unbalanced df 56.92%\n",
      "With balanced df 36.20%\n"
     ]
    }
   ],
   "source": [
    "from sklearn import svm\n",
    "\n",
    "svm_model = svm.SVC(gamma='scale', decision_function_shape='ovo')\n",
    "\n",
    "svm_model.fit(X_train, y_train)\n",
    "print('With unbalanced df {:.2f}%'.format(svm_model.score(X_val, y_val)*100))\n",
    "\n",
    "svm_model.fit(X_uniform_train, y_uniform_train)\n",
    "print('With balanced df {:.2f}%'.format(svm_model.score(X_uniform_val, y_uniform_val)*100))"
   ]
  },
  {
   "cell_type": "markdown",
   "metadata": {},
   "source": [
    "# Logistic Regression"
   ]
  },
  {
   "cell_type": "code",
   "execution_count": null,
   "metadata": {},
   "outputs": [],
   "source": [
    "from sklearn.model_selection import GridSearchCV\n",
    "from sklearn.linear_model import LogisticRegression\n",
    "from sklearn.pipeline import Pipeline\n",
    "from sklearn.preprocessing import StandardScaler\n",
    "\n",
    "lr_model = Pipeline([\n",
    "    ('std_scaler', StandardScaler()),\n",
    "    ('lr', LogisticRegression(random_state=17, multi_class='multinomial', max_iter=8000))     \n",
    "])\n",
    "\n",
    "grid = [\n",
    "    {'lr__solver': ['newton-cg'], 'lr__C': np.arange(0.6, 1, 0.1)},\n",
    "    {'lr__solver': ['lbfgs'], 'lr__C': np.arange(0.6, 1, 0.1)},\n",
    "    {'lr__solver': ['sag'], 'lr__C': np.arange(0.6, 1, 0.1)},\n",
    "    {'lr__solver': ['saga'], 'lr__C': np.arange(0.6, 1, 0.1)},\n",
    "]\n",
    "\n",
    "lr_gs = GridSearchCV(lr_model, grid, scoring='accuracy', cv=5, n_jobs=-1, return_train_score=True)\n",
    "lr_gs.fit(X.astype(float), y.values.ravel())"
   ]
  },
  {
   "cell_type": "code",
   "execution_count": null,
   "metadata": {},
   "outputs": [],
   "source": [
    "pd.DataFrame(lr_gs.cv_results_).sort_values('rank_test_score').head(1)['mean_test_score']"
   ]
  },
  {
   "cell_type": "code",
   "execution_count": null,
   "metadata": {},
   "outputs": [],
   "source": [
    "from sklearn.naive_bayes import GaussianNB\n",
    "\n",
    "gnb_model = Pipeline([\n",
    "    ('std_scaler', StandardScaler()),\n",
    "    ('gnv', GaussianNB())     \n",
    "])\n",
    "\n",
    "grid = [\n",
    "    {'gnv__var_smoothing': np.logspace(-12, -6, 3)}\n",
    "]\n",
    "\n",
    "gnb_gs = GridSearchCV(gnb_model, grid, scoring='accuracy', cv=5, n_jobs=-1, return_train_score=True)\n",
    "gnb_gs.fit(X.astype(float), y.values.ravel())"
   ]
  },
  {
   "cell_type": "code",
   "execution_count": null,
   "metadata": {},
   "outputs": [],
   "source": [
    "pd.DataFrame(gnb_gs.cv_results_).sort_values('rank_test_score').head(1)['mean_test_score']"
   ]
  },
  {
   "cell_type": "code",
   "execution_count": null,
   "metadata": {},
   "outputs": [],
   "source": [
    "from sklearn.linear_model import Perceptron\n",
    "from sklearn.model_selection import cross_val_score\n",
    "\n",
    "clf = Pipeline([\n",
    "    ('scl', StandardScaler()),\n",
    "    ('pcp', Perceptron(tol=1e-2, random_state=0, penalty='l2'))\n",
    "])\n",
    "p_scores = cross_val_score(clf, X.astype(float), y.values.ravel(), cv=5)\n",
    "p_scores.mean()"
   ]
  },
  {
   "cell_type": "code",
   "execution_count": null,
   "metadata": {},
   "outputs": [],
   "source": [
    "from xgboost import XGBClassifier\n",
    "from sklearn.model_selection import StratifiedKFold\n",
    "from sklearn.model_selection import RandomizedSearchCV\n",
    "from sklearn.model_selection import train_test_split\n",
    "from sklearn.preprocessing import label_binarize\n",
    "\n",
    "X_train, X_test, y_train, y_test = train_test_split(X.astype(float), y.values.ravel(), test_size=0.33, random_state=42)\n",
    "\n",
    "xgb = Pipeline([\n",
    "    ('std', StandardScaler()),\n",
    "    ('xgb', XGBClassifier(objective='multi:softmax', num_class=3, max_depth=15, learning_rate=0.02, n_estimators=100, n_jobs=-1))\n",
    "])\n",
    "\n",
    "grid = {\n",
    "    'xgb__min_child_weight': [5, 10],\n",
    "    'xgb__gamma': [0.5, 1],\n",
    "    'xgb__subsample': [0.6, 0.8],\n",
    "    'xgb__colsample_bytree': [0.8, 1.0],\n",
    "    'xgb__max_depth': [20, 30]\n",
    "}\n",
    "\n",
    "clf = GridSearchCV(xgb, grid, n_jobs=-1, cv=5, scoring='accuracy', verbose=2, refit=True)\n",
    "clf.fit(X.astype(float), y.values.ravel())"
   ]
  },
  {
   "cell_type": "code",
   "execution_count": null,
   "metadata": {},
   "outputs": [],
   "source": [
    "pd.DataFrame(clf.cv_results_).sort_values('rank_test_score').head(3)"
   ]
  },
  {
   "cell_type": "code",
   "execution_count": null,
   "metadata": {},
   "outputs": [],
   "source": [
    "from xgboost import plot_importance\n",
    "\n",
    "xgb_model = XGBClassifier(objective='multi:softmax',\n",
    "                          num_class=3, \n",
    "                          learning_rate=0.02, \n",
    "                          n_estimators=600, \n",
    "                          n_jobs=-1,\n",
    "                          colsample_bytree=0.8,\n",
    "                          gamma=1,\n",
    "                          max_depth=20,\n",
    "                          min_child_weight=5,\n",
    "                          subsample=0.6)\n",
    "\n",
    "xgb_model.fit(X.astype(float), y.values.ravel())"
   ]
  },
  {
   "cell_type": "code",
   "execution_count": null,
   "metadata": {},
   "outputs": [],
   "source": [
    "fig, ax = plt.subplots(figsize=(12,18))\n",
    "plot_importance(xgb_model, height=0.8, ax=ax)\n",
    "plt.show()"
   ]
  },
  {
   "cell_type": "code",
   "execution_count": null,
   "metadata": {},
   "outputs": [],
   "source": [
    "X.drop(['has_secondary_use_rental', 'plan_configuration_s', \n",
    "        'plan_configuration_c', 'plan_configuration_a', \n",
    "        'plan_configuration_o', 'plan_configuration_d', \n",
    "        'plan_configuration_q', 'plan_configuration_u',\n",
    "        'legal_ownership_status_v', 'legal_ownership_status_a',\n",
    "        'legal_ownership_status_w', 'legal_ownership_status_r',\n",
    "       ], axis=1, inplace=True)\n",
    "X_train.drop(['has_secondary_use_rental', 'plan_configuration_s', \n",
    "        'plan_configuration_c', 'plan_configuration_a', \n",
    "        'plan_configuration_o', 'plan_configuration_d', \n",
    "        'plan_configuration_q', 'plan_configuration_u',\n",
    "        'legal_ownership_status_v', 'legal_ownership_status_a',\n",
    "        'legal_ownership_status_w', 'legal_ownership_status_r',\n",
    "       ], axis=1, inplace=True)\n",
    "X_test.drop(['has_secondary_use_rental', 'plan_configuration_s', \n",
    "        'plan_configuration_c', 'plan_configuration_a', \n",
    "        'plan_configuration_o', 'plan_configuration_d', \n",
    "        'plan_configuration_q', 'plan_configuration_u',\n",
    "        'legal_ownership_status_v', 'legal_ownership_status_a',\n",
    "        'legal_ownership_status_w', 'legal_ownership_status_r',\n",
    "       ], axis=1, inplace=True)"
   ]
  },
  {
   "cell_type": "code",
   "execution_count": null,
   "metadata": {},
   "outputs": [],
   "source": [
    "new_xgb_model = XGBClassifier(objective='multi:softmax',\n",
    "                          num_class=3, \n",
    "                          learning_rate=0.02, \n",
    "                          n_estimators=600, \n",
    "                          n_jobs=-1,\n",
    "                          colsample_bytree=0.8,\n",
    "                          gamma=1,\n",
    "                          max_depth=20,\n",
    "                          min_child_weight=5,\n",
    "                          subsample=0.6)\n",
    "\n",
    "new_xgb_model.fit(X_train.astype(float), y_train)"
   ]
  },
  {
   "cell_type": "code",
   "execution_count": null,
   "metadata": {},
   "outputs": [],
   "source": [
    "from sklearn.metrics import accuracy_score\n",
    "from sklearn.metrics import accuracy_score, confusion_matrix, precision_recall_fscore_support\n",
    "\n",
    "y_pred = new_xgb_model.predict(X_test)\n",
    "\n",
    "cm = confusion_matrix(y_test, y_pred)\n",
    "cm"
   ]
  },
  {
   "cell_type": "code",
   "execution_count": null,
   "metadata": {},
   "outputs": [],
   "source": [
    "plt.figure(figsize=(5.5,4))\n",
    "sns.heatmap(cm, annot=True)\n",
    "plt.title('SVM Linear Kernel \\nAccuracy:{0:.3f}'.format(accuracy_score(y_test, y_pred)))\n",
    "plt.ylabel('True label')\n",
    "plt.xlabel('Predicted label')\n",
    "plt.show()"
   ]
  },
  {
   "cell_type": "code",
   "execution_count": null,
   "metadata": {},
   "outputs": [],
   "source": [
    "clf = GridSearchCV(xgb, grid, n_jobs=-1, cv=5, scoring='accuracy', verbose=2, refit=True)\n",
    "clf.fit(X.astype(float), y.values.ravel())"
   ]
  },
  {
   "cell_type": "code",
   "execution_count": null,
   "metadata": {},
   "outputs": [],
   "source": [
    "pd.DataFrame(clf.cv_results_).sort_values('rank_test_score').head(3)"
   ]
  },
  {
   "cell_type": "code",
   "execution_count": null,
   "metadata": {},
   "outputs": [],
   "source": [
    "from sklearn.ensemble import BaggingClassifier\n",
    "from sklearn.neighbors import KNeighborsClassifier\n",
    "from sklearn.svm import SVC\n",
    "from sklearn.tree import DecisionTreeClassifier\n",
    "\n",
    "bg = Pipeline([\n",
    "    #('std', StandardScaler()),\n",
    "    ('bg', BaggingClassifier(DecisionTreeClassifier(criterion='entropy'), n_jobs=-1, max_features=0.3, max_samples=0.3, n_estimators=300, oob_score=True))\n",
    "])\n",
    "bg.fit(X_train, y_train)"
   ]
  },
  {
   "cell_type": "code",
   "execution_count": null,
   "metadata": {},
   "outputs": [],
   "source": [
    "bg.score(X_test, y_test)"
   ]
  },
  {
   "cell_type": "code",
   "execution_count": null,
   "metadata": {},
   "outputs": [],
   "source": [
    "y_pred = bg.predict(X_test)\n",
    "\n",
    "cm = confusion_matrix(y_test, y_pred)\n",
    "plt.figure(figsize=(5.5,4))\n",
    "sns.heatmap(cm, annot=True)\n",
    "plt.title('Accuracy:{0:.3f}'.format(accuracy_score(y_test, y_pred)))\n",
    "plt.ylabel('True label')\n",
    "plt.xlabel('Predicted label')\n",
    "plt.show()"
   ]
  },
  {
   "cell_type": "code",
   "execution_count": null,
   "metadata": {},
   "outputs": [],
   "source": []
  }
 ],
 "metadata": {
  "kernelspec": {
   "display_name": "Python 3",
   "language": "python",
   "name": "python3"
  },
  "language_info": {
   "codemirror_mode": {
    "name": "ipython",
    "version": 3
   },
   "file_extension": ".py",
   "mimetype": "text/x-python",
   "name": "python",
   "nbconvert_exporter": "python",
   "pygments_lexer": "ipython3",
   "version": "3.7.3"
  }
 },
 "nbformat": 4,
 "nbformat_minor": 2
}
