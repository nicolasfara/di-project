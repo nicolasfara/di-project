{
 "cells": [
  {
   "cell_type": "code",
   "execution_count": 1,
   "metadata": {
    "slideshow": {
     "slide_type": "slide"
    }
   },
   "outputs": [],
   "source": [
    "import numpy as np # linear algebra\n",
    "import pandas as pd # data processing, CSV file I/O (e.g. pd.read_csv)\n",
    "import matplotlib.pyplot as plt\n",
    "import seaborn as sns"
   ]
  },
  {
   "cell_type": "markdown",
   "metadata": {},
   "source": [
    "# Descrizione problema\n",
    "\n",
    "Il dataset in esame, contiene informazioni utili per la previsione di assenza o presenza di problemi cardio vascolari.  \n",
    "Tali informazioni riguardano lo stato di salute di 70000 pazienti. L'obiettivo del progetto è quello di predire una variabile discreta binaria."
   ]
  },
  {
   "cell_type": "code",
   "execution_count": 2,
   "metadata": {
    "slideshow": {
     "slide_type": "slide"
    }
   },
   "outputs": [],
   "source": [
    "dataset = pd.read_csv(\"cardio_train.csv\", sep=\";\")"
   ]
  },
  {
   "cell_type": "markdown",
   "metadata": {
    "slideshow": {
     "slide_type": "slide"
    }
   },
   "source": [
    "# Data exploration"
   ]
  },
  {
   "cell_type": "code",
   "execution_count": 3,
   "metadata": {
    "slideshow": {
     "slide_type": "slide"
    }
   },
   "outputs": [
    {
     "data": {
      "text/html": [
       "<div>\n",
       "<style scoped>\n",
       "    .dataframe tbody tr th:only-of-type {\n",
       "        vertical-align: middle;\n",
       "    }\n",
       "\n",
       "    .dataframe tbody tr th {\n",
       "        vertical-align: top;\n",
       "    }\n",
       "\n",
       "    .dataframe thead th {\n",
       "        text-align: right;\n",
       "    }\n",
       "</style>\n",
       "<table border=\"1\" class=\"dataframe\">\n",
       "  <thead>\n",
       "    <tr style=\"text-align: right;\">\n",
       "      <th></th>\n",
       "      <th>id</th>\n",
       "      <th>age</th>\n",
       "      <th>gender</th>\n",
       "      <th>height</th>\n",
       "      <th>weight</th>\n",
       "      <th>ap_hi</th>\n",
       "      <th>ap_lo</th>\n",
       "      <th>cholesterol</th>\n",
       "      <th>gluc</th>\n",
       "      <th>smoke</th>\n",
       "      <th>alco</th>\n",
       "      <th>active</th>\n",
       "      <th>cardio</th>\n",
       "    </tr>\n",
       "  </thead>\n",
       "  <tbody>\n",
       "    <tr>\n",
       "      <th>0</th>\n",
       "      <td>0</td>\n",
       "      <td>18393</td>\n",
       "      <td>2</td>\n",
       "      <td>168</td>\n",
       "      <td>62.0</td>\n",
       "      <td>110</td>\n",
       "      <td>80</td>\n",
       "      <td>1</td>\n",
       "      <td>1</td>\n",
       "      <td>0</td>\n",
       "      <td>0</td>\n",
       "      <td>1</td>\n",
       "      <td>0</td>\n",
       "    </tr>\n",
       "    <tr>\n",
       "      <th>1</th>\n",
       "      <td>1</td>\n",
       "      <td>20228</td>\n",
       "      <td>1</td>\n",
       "      <td>156</td>\n",
       "      <td>85.0</td>\n",
       "      <td>140</td>\n",
       "      <td>90</td>\n",
       "      <td>3</td>\n",
       "      <td>1</td>\n",
       "      <td>0</td>\n",
       "      <td>0</td>\n",
       "      <td>1</td>\n",
       "      <td>1</td>\n",
       "    </tr>\n",
       "    <tr>\n",
       "      <th>2</th>\n",
       "      <td>2</td>\n",
       "      <td>18857</td>\n",
       "      <td>1</td>\n",
       "      <td>165</td>\n",
       "      <td>64.0</td>\n",
       "      <td>130</td>\n",
       "      <td>70</td>\n",
       "      <td>3</td>\n",
       "      <td>1</td>\n",
       "      <td>0</td>\n",
       "      <td>0</td>\n",
       "      <td>0</td>\n",
       "      <td>1</td>\n",
       "    </tr>\n",
       "    <tr>\n",
       "      <th>3</th>\n",
       "      <td>3</td>\n",
       "      <td>17623</td>\n",
       "      <td>2</td>\n",
       "      <td>169</td>\n",
       "      <td>82.0</td>\n",
       "      <td>150</td>\n",
       "      <td>100</td>\n",
       "      <td>1</td>\n",
       "      <td>1</td>\n",
       "      <td>0</td>\n",
       "      <td>0</td>\n",
       "      <td>1</td>\n",
       "      <td>1</td>\n",
       "    </tr>\n",
       "    <tr>\n",
       "      <th>4</th>\n",
       "      <td>4</td>\n",
       "      <td>17474</td>\n",
       "      <td>1</td>\n",
       "      <td>156</td>\n",
       "      <td>56.0</td>\n",
       "      <td>100</td>\n",
       "      <td>60</td>\n",
       "      <td>1</td>\n",
       "      <td>1</td>\n",
       "      <td>0</td>\n",
       "      <td>0</td>\n",
       "      <td>0</td>\n",
       "      <td>0</td>\n",
       "    </tr>\n",
       "  </tbody>\n",
       "</table>\n",
       "</div>"
      ],
      "text/plain": [
       "   id    age  gender  height  weight  ap_hi  ap_lo  cholesterol  gluc  smoke  \\\n",
       "0   0  18393       2     168    62.0    110     80            1     1      0   \n",
       "1   1  20228       1     156    85.0    140     90            3     1      0   \n",
       "2   2  18857       1     165    64.0    130     70            3     1      0   \n",
       "3   3  17623       2     169    82.0    150    100            1     1      0   \n",
       "4   4  17474       1     156    56.0    100     60            1     1      0   \n",
       "\n",
       "   alco  active  cardio  \n",
       "0     0       1       0  \n",
       "1     0       1       1  \n",
       "2     0       0       1  \n",
       "3     0       1       1  \n",
       "4     0       0       0  "
      ]
     },
     "execution_count": 3,
     "metadata": {},
     "output_type": "execute_result"
    }
   ],
   "source": [
    "dataset.head()"
   ]
  },
  {
   "cell_type": "markdown",
   "metadata": {
    "slideshow": {
     "slide_type": "slide"
    }
   },
   "source": [
    "Nello specifico, le __features__ disponibile (come si può osservare dalla rappresentazione del dataset) sono:\n",
    "\n",
    "1. Age | Objective Feature | age | int (days)\n",
    "2. Height | Objective Feature | height | int (cm) |\n",
    "3. Weight | Objective Feature | weight | float (kg) |\n",
    "4. Gender | Objective Feature | gender | categorical code |\n",
    "5. Systolic blood pressure | Examination Feature | ap_hi | int |\n",
    "6. Diastolic blood pressure | Examination Feature | ap_lo | int |\n",
    "7. Cholesterol | Examination Feature | cholesterol | 1: normal, 2: above normal, 3: well above normal |\n",
    "8. Glucose | Examination Feature | gluc | 1: normal, 2: above normal, 3: well above normal |\n",
    "9. Smoking | Subjective Feature | smoke | binary |\n",
    "10. Alcohol intake | Subjective Feature | alco | binary |\n",
    "11. Physical activity | Subjective Feature | active | binary |\n",
    "12. Presence or absence of cardiovascular disease | Target Variable | cardio | binary |\n",
    "\n",
    "La variabile target è `cardio` che, come detto sopra, è binaria perciò se `0` non ha problemi cardiovascolari, al contrario assume valore `1`.\n",
    "\n",
    "Le features in esame sono sia categoriche che continue: \n",
    "Tra le categoriche troviamo: `gender`, `cholesterol`, `glucose`, `smoking`, `alcohol intake` e `physical activity`.  \n",
    "Tra le continue troviamo: `age`, `height`, `weight`, `systolic pressure` e `diastolic pressure`."
   ]
  },
  {
   "cell_type": "code",
   "execution_count": 4,
   "metadata": {},
   "outputs": [
    {
     "data": {
      "text/html": [
       "<div>\n",
       "<style scoped>\n",
       "    .dataframe tbody tr th:only-of-type {\n",
       "        vertical-align: middle;\n",
       "    }\n",
       "\n",
       "    .dataframe tbody tr th {\n",
       "        vertical-align: top;\n",
       "    }\n",
       "\n",
       "    .dataframe thead th {\n",
       "        text-align: right;\n",
       "    }\n",
       "</style>\n",
       "<table border=\"1\" class=\"dataframe\">\n",
       "  <thead>\n",
       "    <tr style=\"text-align: right;\">\n",
       "      <th></th>\n",
       "      <th>age</th>\n",
       "      <th>gender</th>\n",
       "      <th>height</th>\n",
       "      <th>weight</th>\n",
       "      <th>ap_hi</th>\n",
       "      <th>ap_lo</th>\n",
       "      <th>cholesterol</th>\n",
       "      <th>gluc</th>\n",
       "      <th>smoke</th>\n",
       "      <th>alco</th>\n",
       "      <th>active</th>\n",
       "      <th>cardio</th>\n",
       "    </tr>\n",
       "    <tr>\n",
       "      <th>id</th>\n",
       "      <th></th>\n",
       "      <th></th>\n",
       "      <th></th>\n",
       "      <th></th>\n",
       "      <th></th>\n",
       "      <th></th>\n",
       "      <th></th>\n",
       "      <th></th>\n",
       "      <th></th>\n",
       "      <th></th>\n",
       "      <th></th>\n",
       "      <th></th>\n",
       "    </tr>\n",
       "  </thead>\n",
       "  <tbody>\n",
       "    <tr>\n",
       "      <th>0</th>\n",
       "      <td>18393</td>\n",
       "      <td>2</td>\n",
       "      <td>168</td>\n",
       "      <td>62.0</td>\n",
       "      <td>110</td>\n",
       "      <td>80</td>\n",
       "      <td>1</td>\n",
       "      <td>1</td>\n",
       "      <td>0</td>\n",
       "      <td>0</td>\n",
       "      <td>1</td>\n",
       "      <td>0</td>\n",
       "    </tr>\n",
       "    <tr>\n",
       "      <th>1</th>\n",
       "      <td>20228</td>\n",
       "      <td>1</td>\n",
       "      <td>156</td>\n",
       "      <td>85.0</td>\n",
       "      <td>140</td>\n",
       "      <td>90</td>\n",
       "      <td>3</td>\n",
       "      <td>1</td>\n",
       "      <td>0</td>\n",
       "      <td>0</td>\n",
       "      <td>1</td>\n",
       "      <td>1</td>\n",
       "    </tr>\n",
       "    <tr>\n",
       "      <th>2</th>\n",
       "      <td>18857</td>\n",
       "      <td>1</td>\n",
       "      <td>165</td>\n",
       "      <td>64.0</td>\n",
       "      <td>130</td>\n",
       "      <td>70</td>\n",
       "      <td>3</td>\n",
       "      <td>1</td>\n",
       "      <td>0</td>\n",
       "      <td>0</td>\n",
       "      <td>0</td>\n",
       "      <td>1</td>\n",
       "    </tr>\n",
       "    <tr>\n",
       "      <th>3</th>\n",
       "      <td>17623</td>\n",
       "      <td>2</td>\n",
       "      <td>169</td>\n",
       "      <td>82.0</td>\n",
       "      <td>150</td>\n",
       "      <td>100</td>\n",
       "      <td>1</td>\n",
       "      <td>1</td>\n",
       "      <td>0</td>\n",
       "      <td>0</td>\n",
       "      <td>1</td>\n",
       "      <td>1</td>\n",
       "    </tr>\n",
       "    <tr>\n",
       "      <th>4</th>\n",
       "      <td>17474</td>\n",
       "      <td>1</td>\n",
       "      <td>156</td>\n",
       "      <td>56.0</td>\n",
       "      <td>100</td>\n",
       "      <td>60</td>\n",
       "      <td>1</td>\n",
       "      <td>1</td>\n",
       "      <td>0</td>\n",
       "      <td>0</td>\n",
       "      <td>0</td>\n",
       "      <td>0</td>\n",
       "    </tr>\n",
       "  </tbody>\n",
       "</table>\n",
       "</div>"
      ],
      "text/plain": [
       "      age  gender  height  weight  ap_hi  ap_lo  cholesterol  gluc  smoke  \\\n",
       "id                                                                          \n",
       "0   18393       2     168    62.0    110     80            1     1      0   \n",
       "1   20228       1     156    85.0    140     90            3     1      0   \n",
       "2   18857       1     165    64.0    130     70            3     1      0   \n",
       "3   17623       2     169    82.0    150    100            1     1      0   \n",
       "4   17474       1     156    56.0    100     60            1     1      0   \n",
       "\n",
       "    alco  active  cardio  \n",
       "id                        \n",
       "0      0       1       0  \n",
       "1      0       1       1  \n",
       "2      0       0       1  \n",
       "3      0       1       1  \n",
       "4      0       0       0  "
      ]
     },
     "execution_count": 4,
     "metadata": {},
     "output_type": "execute_result"
    }
   ],
   "source": [
    "dataset.set_index('id', inplace=True)\n",
    "dataset.head()"
   ]
  },
  {
   "cell_type": "markdown",
   "metadata": {},
   "source": [
    "Inoltre `id` identifica univocamente i record del dataset, ma che non ha alcuna importanza ai fini della previzione, quindi si procede a definire la colonna `id` come indice del dataframe pandas."
   ]
  },
  {
   "cell_type": "code",
   "execution_count": 5,
   "metadata": {},
   "outputs": [
    {
     "data": {
      "text/html": [
       "<div>\n",
       "<style scoped>\n",
       "    .dataframe tbody tr th:only-of-type {\n",
       "        vertical-align: middle;\n",
       "    }\n",
       "\n",
       "    .dataframe tbody tr th {\n",
       "        vertical-align: top;\n",
       "    }\n",
       "\n",
       "    .dataframe thead th {\n",
       "        text-align: right;\n",
       "    }\n",
       "</style>\n",
       "<table border=\"1\" class=\"dataframe\">\n",
       "  <thead>\n",
       "    <tr style=\"text-align: right;\">\n",
       "      <th></th>\n",
       "      <th>age</th>\n",
       "      <th>gender</th>\n",
       "      <th>height</th>\n",
       "      <th>weight</th>\n",
       "      <th>ap_hi</th>\n",
       "      <th>ap_lo</th>\n",
       "      <th>cholesterol</th>\n",
       "      <th>gluc</th>\n",
       "      <th>smoke</th>\n",
       "      <th>alco</th>\n",
       "      <th>active</th>\n",
       "      <th>cardio</th>\n",
       "    </tr>\n",
       "  </thead>\n",
       "  <tbody>\n",
       "    <tr>\n",
       "      <th>count</th>\n",
       "      <td>70000.000000</td>\n",
       "      <td>70000.000000</td>\n",
       "      <td>70000.000000</td>\n",
       "      <td>70000.000000</td>\n",
       "      <td>70000.000000</td>\n",
       "      <td>70000.000000</td>\n",
       "      <td>70000.000000</td>\n",
       "      <td>70000.000000</td>\n",
       "      <td>70000.000000</td>\n",
       "      <td>70000.000000</td>\n",
       "      <td>70000.000000</td>\n",
       "      <td>70000.000000</td>\n",
       "    </tr>\n",
       "    <tr>\n",
       "      <th>mean</th>\n",
       "      <td>19468.865814</td>\n",
       "      <td>1.349571</td>\n",
       "      <td>164.359229</td>\n",
       "      <td>74.205690</td>\n",
       "      <td>128.817286</td>\n",
       "      <td>96.630414</td>\n",
       "      <td>1.366871</td>\n",
       "      <td>1.226457</td>\n",
       "      <td>0.088129</td>\n",
       "      <td>0.053771</td>\n",
       "      <td>0.803729</td>\n",
       "      <td>0.499700</td>\n",
       "    </tr>\n",
       "    <tr>\n",
       "      <th>std</th>\n",
       "      <td>2467.251667</td>\n",
       "      <td>0.476838</td>\n",
       "      <td>8.210126</td>\n",
       "      <td>14.395757</td>\n",
       "      <td>154.011419</td>\n",
       "      <td>188.472530</td>\n",
       "      <td>0.680250</td>\n",
       "      <td>0.572270</td>\n",
       "      <td>0.283484</td>\n",
       "      <td>0.225568</td>\n",
       "      <td>0.397179</td>\n",
       "      <td>0.500003</td>\n",
       "    </tr>\n",
       "    <tr>\n",
       "      <th>min</th>\n",
       "      <td>10798.000000</td>\n",
       "      <td>1.000000</td>\n",
       "      <td>55.000000</td>\n",
       "      <td>10.000000</td>\n",
       "      <td>-150.000000</td>\n",
       "      <td>-70.000000</td>\n",
       "      <td>1.000000</td>\n",
       "      <td>1.000000</td>\n",
       "      <td>0.000000</td>\n",
       "      <td>0.000000</td>\n",
       "      <td>0.000000</td>\n",
       "      <td>0.000000</td>\n",
       "    </tr>\n",
       "    <tr>\n",
       "      <th>25%</th>\n",
       "      <td>17664.000000</td>\n",
       "      <td>1.000000</td>\n",
       "      <td>159.000000</td>\n",
       "      <td>65.000000</td>\n",
       "      <td>120.000000</td>\n",
       "      <td>80.000000</td>\n",
       "      <td>1.000000</td>\n",
       "      <td>1.000000</td>\n",
       "      <td>0.000000</td>\n",
       "      <td>0.000000</td>\n",
       "      <td>1.000000</td>\n",
       "      <td>0.000000</td>\n",
       "    </tr>\n",
       "    <tr>\n",
       "      <th>50%</th>\n",
       "      <td>19703.000000</td>\n",
       "      <td>1.000000</td>\n",
       "      <td>165.000000</td>\n",
       "      <td>72.000000</td>\n",
       "      <td>120.000000</td>\n",
       "      <td>80.000000</td>\n",
       "      <td>1.000000</td>\n",
       "      <td>1.000000</td>\n",
       "      <td>0.000000</td>\n",
       "      <td>0.000000</td>\n",
       "      <td>1.000000</td>\n",
       "      <td>0.000000</td>\n",
       "    </tr>\n",
       "    <tr>\n",
       "      <th>75%</th>\n",
       "      <td>21327.000000</td>\n",
       "      <td>2.000000</td>\n",
       "      <td>170.000000</td>\n",
       "      <td>82.000000</td>\n",
       "      <td>140.000000</td>\n",
       "      <td>90.000000</td>\n",
       "      <td>2.000000</td>\n",
       "      <td>1.000000</td>\n",
       "      <td>0.000000</td>\n",
       "      <td>0.000000</td>\n",
       "      <td>1.000000</td>\n",
       "      <td>1.000000</td>\n",
       "    </tr>\n",
       "    <tr>\n",
       "      <th>max</th>\n",
       "      <td>23713.000000</td>\n",
       "      <td>2.000000</td>\n",
       "      <td>250.000000</td>\n",
       "      <td>200.000000</td>\n",
       "      <td>16020.000000</td>\n",
       "      <td>11000.000000</td>\n",
       "      <td>3.000000</td>\n",
       "      <td>3.000000</td>\n",
       "      <td>1.000000</td>\n",
       "      <td>1.000000</td>\n",
       "      <td>1.000000</td>\n",
       "      <td>1.000000</td>\n",
       "    </tr>\n",
       "  </tbody>\n",
       "</table>\n",
       "</div>"
      ],
      "text/plain": [
       "                age        gender        height        weight         ap_hi  \\\n",
       "count  70000.000000  70000.000000  70000.000000  70000.000000  70000.000000   \n",
       "mean   19468.865814      1.349571    164.359229     74.205690    128.817286   \n",
       "std     2467.251667      0.476838      8.210126     14.395757    154.011419   \n",
       "min    10798.000000      1.000000     55.000000     10.000000   -150.000000   \n",
       "25%    17664.000000      1.000000    159.000000     65.000000    120.000000   \n",
       "50%    19703.000000      1.000000    165.000000     72.000000    120.000000   \n",
       "75%    21327.000000      2.000000    170.000000     82.000000    140.000000   \n",
       "max    23713.000000      2.000000    250.000000    200.000000  16020.000000   \n",
       "\n",
       "              ap_lo   cholesterol          gluc         smoke          alco  \\\n",
       "count  70000.000000  70000.000000  70000.000000  70000.000000  70000.000000   \n",
       "mean      96.630414      1.366871      1.226457      0.088129      0.053771   \n",
       "std      188.472530      0.680250      0.572270      0.283484      0.225568   \n",
       "min      -70.000000      1.000000      1.000000      0.000000      0.000000   \n",
       "25%       80.000000      1.000000      1.000000      0.000000      0.000000   \n",
       "50%       80.000000      1.000000      1.000000      0.000000      0.000000   \n",
       "75%       90.000000      2.000000      1.000000      0.000000      0.000000   \n",
       "max    11000.000000      3.000000      3.000000      1.000000      1.000000   \n",
       "\n",
       "             active        cardio  \n",
       "count  70000.000000  70000.000000  \n",
       "mean       0.803729      0.499700  \n",
       "std        0.397179      0.500003  \n",
       "min        0.000000      0.000000  \n",
       "25%        1.000000      0.000000  \n",
       "50%        1.000000      0.000000  \n",
       "75%        1.000000      1.000000  \n",
       "max        1.000000      1.000000  "
      ]
     },
     "execution_count": 5,
     "metadata": {},
     "output_type": "execute_result"
    }
   ],
   "source": [
    "dataset.describe()"
   ]
  },
  {
   "cell_type": "markdown",
   "metadata": {},
   "source": [
    "Come si osserva dalla descrizione del dataset, si rilevano la media, il valore massimo, minimo, deviazione standard, i percentili di ogni features.  \n",
    "Per esempio osserviamo sulla feature `height` che la persona più bassa misura **55** cm, la più alta **250** cm, mentre la media dell persone è **164.35** cm.  \n",
    "In questo caso risulta improbabile che una persona adulta si alta **55** cm oppure **250** cm dal momento che si suppone che la popolazione in esame sia nella media e che quindi non vengono presi in esame casi \"particoalri\" di persone (come per esempio persone affette da nanismo o con altezze fuori dalla norma).  Questi dati che alterano le misurazioni appena effettuate, saranno valutate avanti nel processo di _data cleaning_"
   ]
  },
  {
   "cell_type": "code",
   "execution_count": 6,
   "metadata": {},
   "outputs": [
    {
     "data": {
      "text/plain": [
       "<matplotlib.axes._subplots.AxesSubplot at 0x7faab2a3acc0>"
      ]
     },
     "execution_count": 6,
     "metadata": {},
     "output_type": "execute_result"
    },
    {
     "data": {
      "image/png": "[encoded data removed]",
      "text/plain": [
       "<Figure size 432x288 with 1 Axes>"
      ]
     },
     "metadata": {},
     "output_type": "display_data"
    }
   ],
   "source": [
    "dataset['cardio'].value_counts().plot.pie(autopct='%1.1f%%')"
   ]
  },
  {
   "cell_type": "markdown",
   "metadata": {},
   "source": [
    "Osserviamo dal grafico a torta che la variabile target `cardio` risulta essere bilanciata, ovvero il numero di istanze per le due classi sono pressoche' identiche.  Il problema in esame risulta quindi essere bilanciato; non e' necessario utilizzare tecniche di bilanciamento delle classi come per esempio `smoothing`."
   ]
  },
  {
   "cell_type": "markdown",
   "metadata": {},
   "source": [
    "### Rilevazione di valori nulli\n",
    "\n",
    "Si rilevano, se presenti, valori nulli nel dataset.  \n",
    "In questo dataset, non sono presenti valori nulli, quindi non risulta necessario trattare quest'ultimi."
   ]
  },
  {
   "cell_type": "code",
   "execution_count": 7,
   "metadata": {},
   "outputs": [
    {
     "data": {
      "text/plain": [
       "age            0\n",
       "gender         0\n",
       "height         0\n",
       "weight         0\n",
       "ap_hi          0\n",
       "ap_lo          0\n",
       "cholesterol    0\n",
       "gluc           0\n",
       "smoke          0\n",
       "alco           0\n",
       "active         0\n",
       "cardio         0\n",
       "dtype: int64"
      ]
     },
     "execution_count": 7,
     "metadata": {},
     "output_type": "execute_result"
    }
   ],
   "source": [
    "dataset.isna().sum()"
   ]
  },
  {
   "cell_type": "markdown",
   "metadata": {},
   "source": [
    "# Data cleaning\n",
    "\n",
    "In questa senzione andiamo a rimuore/manipolare tutti i dati che potrebbero alterare l'efficacia del modello; oltre a dati che sono semanticamente scorretti.  \n",
    "Per esempio andiamo a verificare che non esestano valori di pressione **diastolica** superiori a valori della pressione **sistolica**, dal momento che non può verificarsi il caso."
   ]
  },
  {
   "cell_type": "code",
   "execution_count": 8,
   "metadata": {},
   "outputs": [
    {
     "name": "stdout",
     "output_type": "stream",
     "text": [
      "Diastolic pressure is higher than systolic one in 1234 cases\n"
     ]
    }
   ],
   "source": [
    "print(\"Diastolic pressure is higher than systolic one in {0} cases\".format(dataset[dataset['ap_lo'] > dataset['ap_hi']].shape[0]))"
   ]
  },
  {
   "cell_type": "markdown",
   "metadata": {},
   "source": [
    "Come osseriviamo dal codice precedente siamo in presenza di 1234 casi in cui la pressione **sistolica** è maggiore della **diastolica**.  \n",
    "Provvediamo quindi ad eliminare i record nel dataset che presentano questa caratteristica."
   ]
  },
  {
   "cell_type": "code",
   "execution_count": 9,
   "metadata": {},
   "outputs": [],
   "source": [
    "dataset.drop(dataset[dataset['ap_lo'] > dataset['ap_hi']].index, inplace=True)"
   ]
  },
  {
   "cell_type": "code",
   "execution_count": 10,
   "metadata": {},
   "outputs": [
    {
     "name": "stdout",
     "output_type": "stream",
     "text": [
      "Diastolic pressure is higher than systolic one in 0 cases\n"
     ]
    }
   ],
   "source": [
    "print(\"Diastolic pressure is higher than systolic one in {0} cases\".format(dataset[dataset['ap_lo'] > dataset['ap_hi']].shape[0]))"
   ]
  },
  {
   "cell_type": "markdown",
   "metadata": {},
   "source": [
    "A seguito della rimozione non abbiamo più alcun dato errato in questa condizione."
   ]
  },
  {
   "cell_type": "markdown",
   "metadata": {},
   "source": [
    "Talvolta, statisticamente, è bene rimuovere dati di \"bordo\" che potrebbero anch'essi alterare la previsione del modello.  \n",
    "Si è quindi proceduto a rimuovere tali dati con soglie del 2.5% sia superiormente che inferiormente.  \n",
    "Tra le features prese in oggetto troviamo `ap_lo`, `ap_hi` che come osservato inizialmente presentavano valori anomali."
   ]
  },
  {
   "cell_type": "code",
   "execution_count": 11,
   "metadata": {},
   "outputs": [],
   "source": [
    "# Credit: https://www.kaggle.com/sulianova/eda-cardiovascular-data\n",
    "dataset.drop(dataset[(dataset['ap_hi'] > dataset['ap_hi'].quantile(0.975)) | (dataset['ap_hi'] < dataset['ap_hi'].quantile(0.025))].index, inplace=True)\n",
    "dataset.drop(dataset[(dataset['ap_lo'] > dataset['ap_lo'].quantile(0.975)) | (dataset['ap_lo'] < dataset['ap_lo'].quantile(0.025))].index, inplace=True)"
   ]
  },
  {
   "cell_type": "markdown",
   "metadata": {},
   "source": [
    "Si rimuovono valori limite che possono essere fuorvianti, come per esempio valori negativi di pressione, o altezze e pesi fuori dalla norma."
   ]
  },
  {
   "cell_type": "code",
   "execution_count": 12,
   "metadata": {},
   "outputs": [],
   "source": [
    "dataset.drop(dataset[dataset['ap_hi'] <= 0].index, inplace=True)\n",
    "dataset.drop(dataset[dataset['ap_lo'] <= 0].index, inplace=True)\n",
    "dataset.drop(dataset[(dataset['height'] > 210) | (dataset['height'] < 120)].index, inplace=True)\n",
    "dataset.drop(dataset[(dataset['weight'] > 140) | (dataset['weight'] < 40)].index, inplace=True)"
   ]
  },
  {
   "cell_type": "code",
   "execution_count": 13,
   "metadata": {},
   "outputs": [
    {
     "data": {
      "text/html": [
       "<div>\n",
       "<style scoped>\n",
       "    .dataframe tbody tr th:only-of-type {\n",
       "        vertical-align: middle;\n",
       "    }\n",
       "\n",
       "    .dataframe tbody tr th {\n",
       "        vertical-align: top;\n",
       "    }\n",
       "\n",
       "    .dataframe thead th {\n",
       "        text-align: right;\n",
       "    }\n",
       "</style>\n",
       "<table border=\"1\" class=\"dataframe\">\n",
       "  <thead>\n",
       "    <tr style=\"text-align: right;\">\n",
       "      <th></th>\n",
       "      <th>age</th>\n",
       "      <th>gender</th>\n",
       "      <th>height</th>\n",
       "      <th>weight</th>\n",
       "      <th>ap_hi</th>\n",
       "      <th>ap_lo</th>\n",
       "      <th>cholesterol</th>\n",
       "      <th>gluc</th>\n",
       "      <th>smoke</th>\n",
       "      <th>alco</th>\n",
       "      <th>active</th>\n",
       "      <th>cardio</th>\n",
       "    </tr>\n",
       "  </thead>\n",
       "  <tbody>\n",
       "    <tr>\n",
       "      <th>count</th>\n",
       "      <td>65417.000000</td>\n",
       "      <td>65417.000000</td>\n",
       "      <td>65417.000000</td>\n",
       "      <td>65417.000000</td>\n",
       "      <td>65417.000000</td>\n",
       "      <td>65417.000000</td>\n",
       "      <td>65417.000000</td>\n",
       "      <td>65417.000000</td>\n",
       "      <td>65417.000000</td>\n",
       "      <td>65417.000000</td>\n",
       "      <td>65417.000000</td>\n",
       "      <td>65417.000000</td>\n",
       "    </tr>\n",
       "    <tr>\n",
       "      <th>mean</th>\n",
       "      <td>19465.776495</td>\n",
       "      <td>1.349634</td>\n",
       "      <td>164.483162</td>\n",
       "      <td>73.946854</td>\n",
       "      <td>125.843756</td>\n",
       "      <td>81.074430</td>\n",
       "      <td>1.358194</td>\n",
       "      <td>1.223199</td>\n",
       "      <td>0.087439</td>\n",
       "      <td>0.052570</td>\n",
       "      <td>0.803522</td>\n",
       "      <td>0.489108</td>\n",
       "    </tr>\n",
       "    <tr>\n",
       "      <th>std</th>\n",
       "      <td>2465.186948</td>\n",
       "      <td>0.476858</td>\n",
       "      <td>7.865706</td>\n",
       "      <td>13.745189</td>\n",
       "      <td>13.895046</td>\n",
       "      <td>8.320957</td>\n",
       "      <td>0.675290</td>\n",
       "      <td>0.570274</td>\n",
       "      <td>0.282480</td>\n",
       "      <td>0.223176</td>\n",
       "      <td>0.397337</td>\n",
       "      <td>0.499885</td>\n",
       "    </tr>\n",
       "    <tr>\n",
       "      <th>min</th>\n",
       "      <td>10798.000000</td>\n",
       "      <td>1.000000</td>\n",
       "      <td>120.000000</td>\n",
       "      <td>40.000000</td>\n",
       "      <td>100.000000</td>\n",
       "      <td>60.000000</td>\n",
       "      <td>1.000000</td>\n",
       "      <td>1.000000</td>\n",
       "      <td>0.000000</td>\n",
       "      <td>0.000000</td>\n",
       "      <td>0.000000</td>\n",
       "      <td>0.000000</td>\n",
       "    </tr>\n",
       "    <tr>\n",
       "      <th>25%</th>\n",
       "      <td>17664.000000</td>\n",
       "      <td>1.000000</td>\n",
       "      <td>159.000000</td>\n",
       "      <td>65.000000</td>\n",
       "      <td>120.000000</td>\n",
       "      <td>80.000000</td>\n",
       "      <td>1.000000</td>\n",
       "      <td>1.000000</td>\n",
       "      <td>0.000000</td>\n",
       "      <td>0.000000</td>\n",
       "      <td>1.000000</td>\n",
       "      <td>0.000000</td>\n",
       "    </tr>\n",
       "    <tr>\n",
       "      <th>50%</th>\n",
       "      <td>19703.000000</td>\n",
       "      <td>1.000000</td>\n",
       "      <td>165.000000</td>\n",
       "      <td>72.000000</td>\n",
       "      <td>120.000000</td>\n",
       "      <td>80.000000</td>\n",
       "      <td>1.000000</td>\n",
       "      <td>1.000000</td>\n",
       "      <td>0.000000</td>\n",
       "      <td>0.000000</td>\n",
       "      <td>1.000000</td>\n",
       "      <td>0.000000</td>\n",
       "    </tr>\n",
       "    <tr>\n",
       "      <th>75%</th>\n",
       "      <td>21323.000000</td>\n",
       "      <td>2.000000</td>\n",
       "      <td>170.000000</td>\n",
       "      <td>82.000000</td>\n",
       "      <td>140.000000</td>\n",
       "      <td>90.000000</td>\n",
       "      <td>1.000000</td>\n",
       "      <td>1.000000</td>\n",
       "      <td>0.000000</td>\n",
       "      <td>0.000000</td>\n",
       "      <td>1.000000</td>\n",
       "      <td>1.000000</td>\n",
       "    </tr>\n",
       "    <tr>\n",
       "      <th>max</th>\n",
       "      <td>23713.000000</td>\n",
       "      <td>2.000000</td>\n",
       "      <td>207.000000</td>\n",
       "      <td>140.000000</td>\n",
       "      <td>160.000000</td>\n",
       "      <td>100.000000</td>\n",
       "      <td>3.000000</td>\n",
       "      <td>3.000000</td>\n",
       "      <td>1.000000</td>\n",
       "      <td>1.000000</td>\n",
       "      <td>1.000000</td>\n",
       "      <td>1.000000</td>\n",
       "    </tr>\n",
       "  </tbody>\n",
       "</table>\n",
       "</div>"
      ],
      "text/plain": [
       "                age        gender        height        weight         ap_hi  \\\n",
       "count  65417.000000  65417.000000  65417.000000  65417.000000  65417.000000   \n",
       "mean   19465.776495      1.349634    164.483162     73.946854    125.843756   \n",
       "std     2465.186948      0.476858      7.865706     13.745189     13.895046   \n",
       "min    10798.000000      1.000000    120.000000     40.000000    100.000000   \n",
       "25%    17664.000000      1.000000    159.000000     65.000000    120.000000   \n",
       "50%    19703.000000      1.000000    165.000000     72.000000    120.000000   \n",
       "75%    21323.000000      2.000000    170.000000     82.000000    140.000000   \n",
       "max    23713.000000      2.000000    207.000000    140.000000    160.000000   \n",
       "\n",
       "              ap_lo   cholesterol          gluc         smoke          alco  \\\n",
       "count  65417.000000  65417.000000  65417.000000  65417.000000  65417.000000   \n",
       "mean      81.074430      1.358194      1.223199      0.087439      0.052570   \n",
       "std        8.320957      0.675290      0.570274      0.282480      0.223176   \n",
       "min       60.000000      1.000000      1.000000      0.000000      0.000000   \n",
       "25%       80.000000      1.000000      1.000000      0.000000      0.000000   \n",
       "50%       80.000000      1.000000      1.000000      0.000000      0.000000   \n",
       "75%       90.000000      1.000000      1.000000      0.000000      0.000000   \n",
       "max      100.000000      3.000000      3.000000      1.000000      1.000000   \n",
       "\n",
       "             active        cardio  \n",
       "count  65417.000000  65417.000000  \n",
       "mean       0.803522      0.489108  \n",
       "std        0.397337      0.499885  \n",
       "min        0.000000      0.000000  \n",
       "25%        1.000000      0.000000  \n",
       "50%        1.000000      0.000000  \n",
       "75%        1.000000      1.000000  \n",
       "max        1.000000      1.000000  "
      ]
     },
     "execution_count": 13,
     "metadata": {},
     "output_type": "execute_result"
    }
   ],
   "source": [
    "dataset.describe()"
   ]
  },
  {
   "cell_type": "markdown",
   "metadata": {},
   "source": [
    "Effettuando ora la descrizione del dataset, otteniamo valori piuttosto coerenti con la media dei parametri delle persone.  \n",
    "Per esempio osserviamo che l'altezza minima ha come valore **120** cm, quella massima **207**cm e come media **164.48** cm.  "
   ]
  },
  {
   "cell_type": "code",
   "execution_count": 14,
   "metadata": {},
   "outputs": [],
   "source": [
    "dataset['age'] = (dataset['age'] / 365).round().astype('int')"
   ]
  },
  {
   "cell_type": "markdown",
   "metadata": {},
   "source": [
    "Dopo la pulizia dei dati, possimo osservare che i valori di pressione `ap_lo` e `ap_hi` sono senza \"rumore\" o alterazioni.  \n",
    "L'eta e' stata convertita da giorni in anni (per semplicita' di lettura e a fini statistici).  \n",
    "E inifine per i valori di pressione, altezza e peso si sono elemininati i valori \"estremi\", ovvero quelli meno significativi statisticamente."
   ]
  },
  {
   "cell_type": "markdown",
   "metadata": {},
   "source": [
    "# Data exploration\n",
    "\n",
    "Andiamo a visualizzare le distribuzioni di tutte le variabili continue del dataset."
   ]
  },
  {
   "cell_type": "code",
   "execution_count": 15,
   "metadata": {},
   "outputs": [
    {
     "data": {
      "image/png": "[encoded data removed]",
      "text/plain": [
       "<Figure size 1440x720 with 5 Axes>"
      ]
     },
     "metadata": {
      "needs_background": "light"
     },
     "output_type": "display_data"
    }
   ],
   "source": [
    "plt.figure(figsize=(20, 10))\n",
    "\n",
    "plt.subplot(2, 3, 1)\n",
    "plt.title('Age')\n",
    "plt.hist(dataset['age'], label=\"age\", color='gray')\n",
    "plt.ylabel('count')\n",
    "plt.xlabel('Year')\n",
    "\n",
    "plt.subplot(2, 3, 2)\n",
    "plt.title('Weight')\n",
    "plt.hist(dataset['weight'], label=\"weight\")\n",
    "plt.ylabel('count')\n",
    "plt.xlabel('kg')\n",
    "\n",
    "plt.subplot(2, 3, 3)\n",
    "plt.title('Height')\n",
    "plt.hist(dataset['height'], label=\"weight\", color=\"red\")\n",
    "plt.ylabel('count')\n",
    "plt.xlabel('Cm')\n",
    "\n",
    "plt.subplot(2, 3, 4)\n",
    "plt.title('Diastolic pressure (Min)')\n",
    "plt.hist(dataset['ap_lo'], label=\"weight\", color=\"orange\")\n",
    "plt.ylabel('count')\n",
    "plt.xlabel('mmHg')\n",
    "\n",
    "plt.subplot(2, 3, 5)\n",
    "plt.title('Systolic pressure (Max)')\n",
    "plt.hist(dataset['ap_hi'], label=\"weight\", color=\"black\")\n",
    "plt.ylabel('count')\n",
    "plt.xlabel('mmHg')\n",
    "\n",
    "plt.show()"
   ]
  },
  {
   "cell_type": "markdown",
   "metadata": {},
   "source": [
    "Osservando gli istogrammi, si nota che la maggior parte delle persone hanno età compresa tra i 50 e 65 anni.  \n",
    "Il peso si distribuisce maggiormente tra i 60 e 80 Kg, mentre l'altezza è compresa tra i 155 e 170 cm.  \n",
    "Per quanto riguarda invece la pressione, molti presentano come pressioe sistolica 80 mmHg e come massima 120 mmHg."
   ]
  },
  {
   "cell_type": "code",
   "execution_count": 16,
   "metadata": {},
   "outputs": [
    {
     "data": {
      "image/png": "[encoded data removed]",
      "text/plain": [
       "<Figure size 1440x720 with 5 Axes>"
      ]
     },
     "metadata": {
      "needs_background": "light"
     },
     "output_type": "display_data"
    }
   ],
   "source": [
    "plt.figure(figsize=(20, 10))\n",
    "\n",
    "plt.subplot(2, 3, 1)\n",
    "plt.title('Age')\n",
    "plt.boxplot(dataset['age'])\n",
    "plt.ylabel('Year')\n",
    "\n",
    "plt.subplot(2, 3, 2)\n",
    "plt.title('Weight')\n",
    "plt.boxplot(dataset['weight'])\n",
    "plt.ylabel('Kg')\n",
    "\n",
    "plt.subplot(2, 3, 3)\n",
    "plt.title('Height')\n",
    "plt.boxplot(dataset['height'])\n",
    "plt.ylabel('Cm')\n",
    "\n",
    "plt.subplot(2, 3, 4)\n",
    "plt.title('Diastolic pressure (Min)')\n",
    "plt.boxplot(dataset['ap_lo'])\n",
    "plt.ylabel('mmHg')\n",
    "\n",
    "plt.subplot(2, 3, 5)\n",
    "plt.title('Systolic pressure (Max)')\n",
    "plt.boxplot(dataset['ap_hi'])\n",
    "plt.ylabel('mmHg')\n",
    "\n",
    "plt.show()"
   ]
  },
  {
   "cell_type": "markdown",
   "metadata": {},
   "source": [
    "Andiamo ora a quantificare le possibili classi e la relativa frequenza, con un grafico a istogramma."
   ]
  },
  {
   "cell_type": "code",
   "execution_count": 17,
   "metadata": {},
   "outputs": [
    {
     "data": {
      "image/png": "[encoded data removed]",
      "text/plain": [
       "<Figure size 432x288 with 1 Axes>"
      ]
     },
     "metadata": {
      "needs_background": "light"
     },
     "output_type": "display_data"
    }
   ],
   "source": [
    "df_categorical = dataset.loc[:, ['cholesterol','gluc', 'smoke', 'alco', 'active']]\n",
    "sns.countplot(x=\"variable\", hue=\"value\", data= pd.melt(df_categorical));"
   ]
  },
  {
   "cell_type": "markdown",
   "metadata": {},
   "source": [
    "Osserivaimo dal grafico a istogramma, che la maggior parte delle persone hanno un livello normale di colesterolo e di glucosio.  \n",
    "Molte persone non sono fumatori ne dipendenti da alcool, al contrario invece molte persone effettuano attivita fisica."
   ]
  },
  {
   "cell_type": "code",
   "execution_count": 18,
   "metadata": {},
   "outputs": [
    {
     "data": {
      "image/png": "[encoded data removed]",
      "text/plain": [
       "<Figure size 792x576 with 1 Axes>"
      ]
     },
     "metadata": {
      "needs_background": "light"
     },
     "output_type": "display_data"
    }
   ],
   "source": [
    "from matplotlib import rcParams\n",
    "rcParams['figure.figsize'] = 11, 8\n",
    "sns.countplot(x='age', hue='cardio', data = dataset, palette=\"Set2\");"
   ]
  },
  {
   "cell_type": "markdown",
   "metadata": {},
   "source": [
    "Risulta essere utile analizzare anche la variabile target: in questo grafico mostriamo i casi di disturbi cardiovascolari in relazione all'eta'.  \n",
    "Si osserva dal grafico che il trend è che all'aumentare dell'età aumentano anche i casi di problemi cardiovascolari, in particolare dai 55 anni in poi i casi di disturbi sono maggiori dei casi senza disturbi, ciò ci porta a pensare che l'età può essere un fattore che influenza la prezenza/non presenza di disturbi cardiovascolari."
   ]
  },
  {
   "cell_type": "code",
   "execution_count": 19,
   "metadata": {},
   "outputs": [
    {
     "data": {
      "image/png": "[encoded data removed]",
      "text/plain": [
       "<Figure size 762.375x360 with 2 Axes>"
      ]
     },
     "metadata": {
      "needs_background": "light"
     },
     "output_type": "display_data"
    }
   ],
   "source": [
    "df_long = pd.melt(dataset, id_vars=['cardio'], value_vars=['cholesterol', 'gluc', 'smoke', 'alco', 'active'])\n",
    "sns.catplot(x=\"variable\", hue=\"value\", col=\"cardio\", data=df_long, kind=\"count\");"
   ]
  },
  {
   "cell_type": "markdown",
   "metadata": {},
   "source": [
    "Si è inoltre messo in relazione, separato in due grafici, la prezenza/non presenza di problemi cardiovascolari con il `colesterolo`, `glucosio`, `fumatore`, `dipendenza alcool` e `attività fisica`.  \n",
    "Esaminiamo prima i casi senza problemi cardiaci: osservando il grafico a istogramma possiamo constatare che la maggior pare dei casi ha un livello di colesterolo nella norma; stesso discorso per quanto riguarda il livello di glucosio nel sangue.  \n",
    "La maggior parte delle persone non sono fumatori, ne dipendenti da alcool ma svolgono attività fisica.\n",
    "Esaminando invece i casi con problemi cardiovascolari, osserviamo che: le persone con un livello di colesterolo accettabile sono in minor parte, crescono i casi in cui il livello di colesterolo è sopra alla media e rispetto a quest'ultima classe, sono di più i casi il cui colesterolo è ben sopra alla media. Discorso analogo lo si può fare per il glucosio. Per quanto riguarda invece la dipendenza da acool, dal fumo e l'attività fisica, non si rilevano grandi differenze dal caso precedente."
   ]
  },
  {
   "cell_type": "code",
   "execution_count": 20,
   "metadata": {},
   "outputs": [],
   "source": [
    "def plot_correlation(dataset):\n",
    "    cmap = sns.diverging_palette(220, 10, as_cmap=True)\n",
    "    # Generate a mask for the upper triangle\n",
    "    mask = np.zeros_like(dataset, dtype=np.bool)\n",
    "    mask[np.triu_indices_from(mask)] = True\n",
    "\n",
    "    # Set up the matplotlib figure\n",
    "    f, ax = plt.subplots(figsize=(11, 9))\n",
    "    # Draw the heatmap with the mask and correct aspect ratio\n",
    "    sns.heatmap(dataset, mask=mask, cmap=cmap, vmax=.3, center=0,annot = True, square=True, linewidths=.5, cbar_kws={\"shrink\": .5});"
   ]
  },
  {
   "cell_type": "code",
   "execution_count": 21,
   "metadata": {},
   "outputs": [
    {
     "data": {
      "image/png": "[encoded data removed]",
      "text/plain": [
       "<Figure size 792x648 with 2 Axes>"
      ]
     },
     "metadata": {
      "needs_background": "light"
     },
     "output_type": "display_data"
    }
   ],
   "source": [
    "plot_correlation(dataset.corr())"
   ]
  },
  {
   "cell_type": "markdown",
   "metadata": {},
   "source": [
    "Producendo una matrice di correlazione delle features, possiamo osservare le seguenti correlazioni rilevanti:  \n",
    "\n",
    "* `ap_lo` vs `ap_hi`: il livello di pressione sistolica e diastolica sono piuttosto correlate, ciò non dovrebbe sorprendere dal momento che entrambe crescono in modo \"lineare\" e il _delta_ tra la pressione sistolica e diastolica è circa sempre lo stesso (salvo casi limite).\n",
    "* `glucosio` vs `colesterolo`: dal dataset sembra trasparire il caso che se una persona ha problemi di colesterolo, allora è probabile che abbia delle anomalie anche sul livello di glucosio.\n",
    "* `alcool` vs `fumo`: possiamo osservare che persone dipendenti da alcool sono anche propense ad essere fumatori.\n",
    "* `cardio` vs `ap_lo` vs `ap_hi`: si nota che la presena di problemi cardiaci è abbastanza influenzata da livelli di pressione alta (sia sistolica che diastolica). Ciò può essere ragionevole dal momento che una possibile ostruzione arteriale può causare problemi cardiovascolari e conseguentemente un innalzamento della pressione.\n",
    "* `cardio` vs `age`: come intuito in precedenza anche l'età influenza la presenza di problemi cardiovascolari; maggiore è l'età, maggiore è la possibilità di avere problemi cardiovascolari.\n",
    "* `cardio` vs `cholesterol`: la prezenza di problemi cardiovascolari è in parte influenzata da livelli alti di colesterolo.\n",
    "\n",
    "Infine l'attività fisica, sembra non essere correlata in alcun modo con nessuna features, quindi probabilemtne non sarà influente ai fini della previsione."
   ]
  },
  {
   "cell_type": "markdown",
   "metadata": {},
   "source": [
    "# Features engineering\n",
    "\n",
    "> Con questa tecnica si introducono features che non erano presenti originariamente nel dataset. Le features aggiunte sono derivate direttamente o indirettamente dalle features già a disposizione nel dataset.\n",
    "\n",
    "In questo caso una possibile feature da aggiungere è l'indice **BMI**.  \n",
    "\\begin{equation*}\n",
    "BMI = \\frac{weight_{kg}}{height_{m}^2}\n",
    "\\end{equation*}"
   ]
  },
  {
   "cell_type": "code",
   "execution_count": 22,
   "metadata": {},
   "outputs": [],
   "source": [
    "dataset['bmi'] = (dataset['weight'] / (dataset['height'] / 100)**2)"
   ]
  },
  {
   "cell_type": "code",
   "execution_count": 23,
   "metadata": {},
   "outputs": [
    {
     "data": {
      "image/png": "[encoded data removed]",
      "text/plain": [
       "<Figure size 792x648 with 2 Axes>"
      ]
     },
     "metadata": {
      "needs_background": "light"
     },
     "output_type": "display_data"
    }
   ],
   "source": [
    "plot_correlation(dataset.corr())"
   ]
  },
  {
   "cell_type": "markdown",
   "metadata": {},
   "source": [
    "Riproducendo la matrice di correlazione con l'aggiunta del `BMI`, possiamo osservare che introduce una piccola correlazione con la variabile traget `cardio`.  \n",
    "Si suppone quindi che l'introduzione di questa feature possa essere quantomeno rilevante ai fini della previsione."
   ]
  },
  {
   "cell_type": "code",
   "execution_count": 24,
   "metadata": {},
   "outputs": [],
   "source": [
    "features = ['age', 'gender', 'height', 'weight', 'ap_hi', 'ap_lo', 'cholesterol', 'gluc', 'smoke', 'alco', 'active', 'bmi']\n",
    "target = ['cardio']"
   ]
  },
  {
   "cell_type": "code",
   "execution_count": 25,
   "metadata": {},
   "outputs": [],
   "source": [
    "categorical_features = ['cholesterol', 'gluc']"
   ]
  },
  {
   "cell_type": "code",
   "execution_count": 26,
   "metadata": {},
   "outputs": [],
   "source": [
    "dataset = pd.get_dummies(dataset, columns=categorical_features, prefix=categorical_features)"
   ]
  },
  {
   "cell_type": "code",
   "execution_count": 27,
   "metadata": {},
   "outputs": [
    {
     "data": {
      "text/html": [
       "<div>\n",
       "<style scoped>\n",
       "    .dataframe tbody tr th:only-of-type {\n",
       "        vertical-align: middle;\n",
       "    }\n",
       "\n",
       "    .dataframe tbody tr th {\n",
       "        vertical-align: top;\n",
       "    }\n",
       "\n",
       "    .dataframe thead th {\n",
       "        text-align: right;\n",
       "    }\n",
       "</style>\n",
       "<table border=\"1\" class=\"dataframe\">\n",
       "  <thead>\n",
       "    <tr style=\"text-align: right;\">\n",
       "      <th></th>\n",
       "      <th>age</th>\n",
       "      <th>gender</th>\n",
       "      <th>height</th>\n",
       "      <th>weight</th>\n",
       "      <th>ap_hi</th>\n",
       "      <th>ap_lo</th>\n",
       "      <th>smoke</th>\n",
       "      <th>alco</th>\n",
       "      <th>active</th>\n",
       "      <th>cardio</th>\n",
       "      <th>bmi</th>\n",
       "      <th>cholesterol_1</th>\n",
       "      <th>cholesterol_2</th>\n",
       "      <th>cholesterol_3</th>\n",
       "      <th>gluc_1</th>\n",
       "      <th>gluc_2</th>\n",
       "      <th>gluc_3</th>\n",
       "    </tr>\n",
       "    <tr>\n",
       "      <th>id</th>\n",
       "      <th></th>\n",
       "      <th></th>\n",
       "      <th></th>\n",
       "      <th></th>\n",
       "      <th></th>\n",
       "      <th></th>\n",
       "      <th></th>\n",
       "      <th></th>\n",
       "      <th></th>\n",
       "      <th></th>\n",
       "      <th></th>\n",
       "      <th></th>\n",
       "      <th></th>\n",
       "      <th></th>\n",
       "      <th></th>\n",
       "      <th></th>\n",
       "      <th></th>\n",
       "    </tr>\n",
       "  </thead>\n",
       "  <tbody>\n",
       "    <tr>\n",
       "      <th>0</th>\n",
       "      <td>50</td>\n",
       "      <td>2</td>\n",
       "      <td>168</td>\n",
       "      <td>62.0</td>\n",
       "      <td>110</td>\n",
       "      <td>80</td>\n",
       "      <td>0</td>\n",
       "      <td>0</td>\n",
       "      <td>1</td>\n",
       "      <td>0</td>\n",
       "      <td>21.967120</td>\n",
       "      <td>1</td>\n",
       "      <td>0</td>\n",
       "      <td>0</td>\n",
       "      <td>1</td>\n",
       "      <td>0</td>\n",
       "      <td>0</td>\n",
       "    </tr>\n",
       "    <tr>\n",
       "      <th>1</th>\n",
       "      <td>55</td>\n",
       "      <td>1</td>\n",
       "      <td>156</td>\n",
       "      <td>85.0</td>\n",
       "      <td>140</td>\n",
       "      <td>90</td>\n",
       "      <td>0</td>\n",
       "      <td>0</td>\n",
       "      <td>1</td>\n",
       "      <td>1</td>\n",
       "      <td>34.927679</td>\n",
       "      <td>0</td>\n",
       "      <td>0</td>\n",
       "      <td>1</td>\n",
       "      <td>1</td>\n",
       "      <td>0</td>\n",
       "      <td>0</td>\n",
       "    </tr>\n",
       "    <tr>\n",
       "      <th>2</th>\n",
       "      <td>52</td>\n",
       "      <td>1</td>\n",
       "      <td>165</td>\n",
       "      <td>64.0</td>\n",
       "      <td>130</td>\n",
       "      <td>70</td>\n",
       "      <td>0</td>\n",
       "      <td>0</td>\n",
       "      <td>0</td>\n",
       "      <td>1</td>\n",
       "      <td>23.507805</td>\n",
       "      <td>0</td>\n",
       "      <td>0</td>\n",
       "      <td>1</td>\n",
       "      <td>1</td>\n",
       "      <td>0</td>\n",
       "      <td>0</td>\n",
       "    </tr>\n",
       "    <tr>\n",
       "      <th>3</th>\n",
       "      <td>48</td>\n",
       "      <td>2</td>\n",
       "      <td>169</td>\n",
       "      <td>82.0</td>\n",
       "      <td>150</td>\n",
       "      <td>100</td>\n",
       "      <td>0</td>\n",
       "      <td>0</td>\n",
       "      <td>1</td>\n",
       "      <td>1</td>\n",
       "      <td>28.710479</td>\n",
       "      <td>1</td>\n",
       "      <td>0</td>\n",
       "      <td>0</td>\n",
       "      <td>1</td>\n",
       "      <td>0</td>\n",
       "      <td>0</td>\n",
       "    </tr>\n",
       "    <tr>\n",
       "      <th>4</th>\n",
       "      <td>48</td>\n",
       "      <td>1</td>\n",
       "      <td>156</td>\n",
       "      <td>56.0</td>\n",
       "      <td>100</td>\n",
       "      <td>60</td>\n",
       "      <td>0</td>\n",
       "      <td>0</td>\n",
       "      <td>0</td>\n",
       "      <td>0</td>\n",
       "      <td>23.011177</td>\n",
       "      <td>1</td>\n",
       "      <td>0</td>\n",
       "      <td>0</td>\n",
       "      <td>1</td>\n",
       "      <td>0</td>\n",
       "      <td>0</td>\n",
       "    </tr>\n",
       "  </tbody>\n",
       "</table>\n",
       "</div>"
      ],
      "text/plain": [
       "    age  gender  height  weight  ap_hi  ap_lo  smoke  alco  active  cardio  \\\n",
       "id                                                                           \n",
       "0    50       2     168    62.0    110     80      0     0       1       0   \n",
       "1    55       1     156    85.0    140     90      0     0       1       1   \n",
       "2    52       1     165    64.0    130     70      0     0       0       1   \n",
       "3    48       2     169    82.0    150    100      0     0       1       1   \n",
       "4    48       1     156    56.0    100     60      0     0       0       0   \n",
       "\n",
       "          bmi  cholesterol_1  cholesterol_2  cholesterol_3  gluc_1  gluc_2  \\\n",
       "id                                                                           \n",
       "0   21.967120              1              0              0       1       0   \n",
       "1   34.927679              0              0              1       1       0   \n",
       "2   23.507805              0              0              1       1       0   \n",
       "3   28.710479              1              0              0       1       0   \n",
       "4   23.011177              1              0              0       1       0   \n",
       "\n",
       "    gluc_3  \n",
       "id          \n",
       "0        0  \n",
       "1        0  \n",
       "2        0  \n",
       "3        0  \n",
       "4        0  "
      ]
     },
     "execution_count": 27,
     "metadata": {},
     "output_type": "execute_result"
    }
   ],
   "source": [
    "dataset.head()"
   ]
  },
  {
   "cell_type": "markdown",
   "metadata": {},
   "source": [
    "Si convertono ora le features categoriche splittando i loro valori nelle rispettive classi di appartenenza: `cholesterol` prevede 3 classi, quindi mediante questo metodo vengono create tre colonne `cholesterol_1`, `cholesterol_2` e `cholesterol_3`, sarà presente un 1 solo in corrispondenza della classe di appartenenza e 0 negli altri casi. In modo esattamente uguale si procede per la variabile `gluc`."
   ]
  },
  {
   "cell_type": "code",
   "execution_count": 28,
   "metadata": {},
   "outputs": [],
   "source": [
    "X = dataset.drop('cardio', axis=1)\n",
    "y = dataset['cardio']"
   ]
  },
  {
   "cell_type": "code",
   "execution_count": 29,
   "metadata": {},
   "outputs": [],
   "source": [
    "from sklearn.model_selection import train_test_split\n",
    "\n",
    "X_train, X_val, y_train, y_val = train_test_split(X, y.values.ravel(), test_size=0.3, random_state=43, stratify=y.values)"
   ]
  },
  {
   "cell_type": "code",
   "execution_count": 30,
   "metadata": {},
   "outputs": [],
   "source": [
    "from statsmodels.stats.proportion import proportion_confint\n",
    "\n",
    "def confidence_interval(instance, acc, confidence):    \n",
    "    return proportion_confint(instance * acc, instance, 1-confidence/100, method='wilson')"
   ]
  },
  {
   "cell_type": "code",
   "execution_count": 31,
   "metadata": {},
   "outputs": [],
   "source": [
    "def plot_confusion_matrix(cm, target_names, title='Confusion matrix', cmap=None, normalize=True):\n",
    "    \n",
    "    import matplotlib.pyplot as plt\n",
    "    import numpy as np\n",
    "    import itertools\n",
    "\n",
    "    accuracy = np.trace(cm) / float(np.sum(cm))\n",
    "    misclass = 1 - accuracy\n",
    "\n",
    "    if cmap is None:\n",
    "        cmap = plt.get_cmap('Blues')\n",
    "\n",
    "    plt.figure(figsize=(8, 6))\n",
    "    plt.imshow(cm, interpolation='nearest', cmap=cmap)\n",
    "    plt.title(title)\n",
    "    plt.colorbar()\n",
    "\n",
    "    if target_names is not None:\n",
    "        tick_marks = np.arange(len(target_names))\n",
    "        plt.xticks(tick_marks, target_names, rotation=45)\n",
    "        plt.yticks(tick_marks, target_names)\n",
    "\n",
    "    if normalize:\n",
    "        cm = cm.astype('float') / cm.sum(axis=1)[:, np.newaxis]\n",
    "\n",
    "\n",
    "    thresh = cm.max() / 1.5 if normalize else cm.max() / 2\n",
    "    for i, j in itertools.product(range(cm.shape[0]), range(cm.shape[1])):\n",
    "        if normalize:\n",
    "            plt.text(j, i, \"{:0.4f}\".format(cm[i, j]),\n",
    "                     horizontalalignment=\"center\",\n",
    "                     color=\"white\" if cm[i, j] > thresh else \"black\")\n",
    "        else:\n",
    "            plt.text(j, i, \"{:,}\".format(cm[i, j]),\n",
    "                     horizontalalignment=\"center\",\n",
    "                     color=\"white\" if cm[i, j] > thresh else \"black\")\n",
    "\n",
    "\n",
    "    plt.tight_layout()\n",
    "    plt.ylabel('True label')\n",
    "    plt.xlabel('Predicted label\\naccuracy={:0.4f}; misclass={:0.4f}'.format(accuracy, misclass))\n",
    "    plt.show()"
   ]
  },
  {
   "cell_type": "markdown",
   "metadata": {},
   "source": [
    "# Perceptron"
   ]
  },
  {
   "cell_type": "code",
   "execution_count": 32,
   "metadata": {},
   "outputs": [
    {
     "name": "stdout",
     "output_type": "stream",
     "text": [
      "Accuracy on train 65.47%\n",
      "Accuracy on val 65.57%\n"
     ]
    }
   ],
   "source": [
    "from sklearn.linear_model import Perceptron\n",
    "from sklearn.preprocessing import StandardScaler\n",
    "from sklearn.pipeline import Pipeline\n",
    "from sklearn.metrics import classification_report\n",
    "\n",
    "# Perceptron with standard scaler\n",
    "std_perceptron = Pipeline([\n",
    "    ('std', StandardScaler()),\n",
    "    ('perceptron', Perceptron(max_iter=8000, tol=1e-3, early_stopping=True, alpha=0.0001, n_jobs=-1))\n",
    "])\n",
    "\n",
    "std_perceptron.fit(X_train, y_train)\n",
    "print('Accuracy on train {:.2f}%'.format(std_perceptron.score(X_train, y_train)*100))\n",
    "print('Accuracy on val {:.2f}%'.format(std_perceptron.score(X_val, y_val)*100))"
   ]
  },
  {
   "cell_type": "code",
   "execution_count": 33,
   "metadata": {},
   "outputs": [
    {
     "name": "stdout",
     "output_type": "stream",
     "text": [
      "GridSearch on Perceptron finish\n"
     ]
    }
   ],
   "source": [
    "from sklearn.model_selection import GridSearchCV\n",
    "from sklearn import metrics\n",
    "\n",
    "std_perceptron = Pipeline([\n",
    "    ('std', StandardScaler()),\n",
    "    ('perceptron', Perceptron(n_jobs=-1, early_stopping=True, n_iter_no_change=5))\n",
    "])\n",
    "\n",
    "parameters = {\n",
    "    'std': [None, StandardScaler()],\n",
    "    'perceptron__penalty': [None, 'l1', 'l2', 'elasticnet'],\n",
    "    'perceptron__alpha': [0.0001, 0.001, 0.01, 1],\n",
    "    'perceptron__tol': [1e-9, 1e-6, 1e-3, 1, 1e3, 1e6],\n",
    "}\n",
    "\n",
    "perceptron_cv = GridSearchCV(std_perceptron, parameters, cv=5, n_jobs=-1, scoring='f1')\n",
    "perceptron_cv.fit(X_train, y_train)\n",
    "print('GridSearch on Perceptron finish')"
   ]
  },
  {
   "cell_type": "code",
   "execution_count": 34,
   "metadata": {},
   "outputs": [
    {
     "name": "stdout",
     "output_type": "stream",
     "text": [
      "Best parameters: {'perceptron__alpha': 0.0001, 'perceptron__penalty': 'l1', 'perceptron__tol': 1e-09, 'std': StandardScaler(copy=True, with_mean=True, with_std=True)}\n",
      "Best score: 62.8387%\n"
     ]
    }
   ],
   "source": [
    "print('Best parameters:', perceptron_cv.best_params_)  \n",
    "print('Best score: {:.4f}%'.format(round(perceptron_cv.best_score_ * 100, 4)))"
   ]
  },
  {
   "cell_type": "code",
   "execution_count": 35,
   "metadata": {},
   "outputs": [
    {
     "name": "stdout",
     "output_type": "stream",
     "text": [
      "Interval with confidence 95%: \n",
      "Pmin = 69.3965%\n",
      "Pmax = 70.2374%\n"
     ]
    }
   ],
   "source": [
    "confidence = 95\n",
    "lower, upper = confidence_interval(len(X_train), perceptron_cv.score(X_val, y_val), confidence)\n",
    "\n",
    "print('Interval with confidence {}%: \\nPmin = {:.4f}%\\nPmax = {:.4f}%'.format(confidence, lower*100, upper*100))"
   ]
  },
  {
   "cell_type": "code",
   "execution_count": 36,
   "metadata": {},
   "outputs": [
    {
     "data": {
      "text/plain": [
       "<matplotlib.axes._subplots.AxesSubplot at 0x7faab047c710>"
      ]
     },
     "execution_count": 36,
     "metadata": {},
     "output_type": "execute_result"
    },
    {
     "data": {
      "image/png": "[encoded data removed]",
      "text/plain": [
       "<Figure size 792x576 with 1 Axes>"
      ]
     },
     "metadata": {
      "needs_background": "light"
     },
     "output_type": "display_data"
    }
   ],
   "source": [
    "pc_imp = pd.Series(perceptron_cv.best_estimator_[1].coef_[0], index=X_train.columns)\n",
    "pc_imp.nlargest(4).plot(kind='barh')"
   ]
  },
  {
   "cell_type": "markdown",
   "metadata": {},
   "source": [
    "Possiamo osservare che a seguito della penalizzazione **l1**, trovata mediate grid search, le features che sono rilevanti in questo modello sono l'alta pressione e la soglia massima di colesterolo.  \n",
    "Questo sembra ragionevole dal momento che i problemi cardiovascolari sono principalemnte causati da ipertensione e livelli di colesterolo alti."
   ]
  },
  {
   "cell_type": "code",
   "execution_count": 37,
   "metadata": {},
   "outputs": [
    {
     "data": {
      "image/png": "[encoded data removed]",
      "text/plain": [
       "<Figure size 576x432 with 2 Axes>"
      ]
     },
     "metadata": {
      "needs_background": "light"
     },
     "output_type": "display_data"
    }
   ],
   "source": [
    "from sklearn.metrics import confusion_matrix\n",
    "y_pred = perceptron_cv.predict(X_val)\n",
    "cm = confusion_matrix(y_val, y_pred)\n",
    "\n",
    "plot_confusion_matrix(cm, target_names=['No Disease', 'Disease'], normalize=False)"
   ]
  },
  {
   "cell_type": "code",
   "execution_count": 38,
   "metadata": {},
   "outputs": [
    {
     "name": "stdout",
     "output_type": "stream",
     "text": [
      "              precision    recall  f1-score   support\n",
      "\n",
      "           0       0.71      0.78      0.74     10027\n",
      "           1       0.74      0.66      0.70      9599\n",
      "\n",
      "    accuracy                           0.72     19626\n",
      "   macro avg       0.72      0.72      0.72     19626\n",
      "weighted avg       0.72      0.72      0.72     19626\n",
      "\n"
     ]
    }
   ],
   "source": [
    "pred = perceptron_cv.predict(X_val)\n",
    "print(classification_report(y_val, pred))"
   ]
  },
  {
   "cell_type": "code",
   "execution_count": 39,
   "metadata": {},
   "outputs": [
    {
     "name": "stdout",
     "output_type": "stream",
     "text": [
      "MSE: 0.2797309691225925\n"
     ]
    }
   ],
   "source": [
    "from sklearn.metrics import mean_squared_error\n",
    "\n",
    "perc_mse = mean_squared_error(y_val, perceptron_cv.predict(X_val))\n",
    "print('MSE: {}'.format(perc_mse))"
   ]
  },
  {
   "cell_type": "markdown",
   "metadata": {},
   "source": [
    "### Perceptron with Polynomial features"
   ]
  },
  {
   "cell_type": "code",
   "execution_count": 40,
   "metadata": {},
   "outputs": [
    {
     "name": "stdout",
     "output_type": "stream",
     "text": [
      "GridSearch on Perceptron finish\n"
     ]
    }
   ],
   "source": [
    "from sklearn.preprocessing import PolynomialFeatures\n",
    "\n",
    "poly_perceptron = Pipeline([\n",
    "    ('std', StandardScaler()),\n",
    "    ('poly', PolynomialFeatures(degree=3)),\n",
    "    ('perceptron', Perceptron(n_jobs=-1, early_stopping=True, n_iter_no_change=5))\n",
    "])\n",
    "\n",
    "parameters = {\n",
    "    'std': [None, StandardScaler()],\n",
    "    'perceptron__penalty': ['l1', 'l2'],\n",
    "    'perceptron__alpha': [0.0001, 0.001, 0.01],\n",
    "    'perceptron__tol': [1e-9, 1e-6, 1e-3, 1],\n",
    "}\n",
    "\n",
    "poly_perceptron_cv = GridSearchCV(poly_perceptron, parameters, cv=5, n_jobs=-1, return_train_score=True, scoring='f1')\n",
    "poly_perceptron_cv.fit(X_train, y_train)\n",
    "print('GridSearch on Perceptron finish')"
   ]
  },
  {
   "cell_type": "code",
   "execution_count": 41,
   "metadata": {},
   "outputs": [
    {
     "name": "stdout",
     "output_type": "stream",
     "text": [
      "Best parameters:  {'perceptron__alpha': 0.001, 'perceptron__penalty': 'l1', 'perceptron__tol': 1, 'std': StandardScaler(copy=True, with_mean=True, with_std=True)}\n",
      "Best score: 63.8176%\n"
     ]
    }
   ],
   "source": [
    "print('Best parameters: ', poly_perceptron_cv.best_params_)  \n",
    "print('Best score: {:.4f}%'.format(round(poly_perceptron_cv.best_score_ * 100, 4)))"
   ]
  },
  {
   "cell_type": "code",
   "execution_count": 42,
   "metadata": {},
   "outputs": [
    {
     "name": "stdout",
     "output_type": "stream",
     "text": [
      "Interval with confidence 95%: \n",
      "Pmin = 61.3431%\n",
      "Pmax = 62.7010%\n"
     ]
    }
   ],
   "source": [
    "confidence = 95\n",
    "lower, upper = confidence_interval(len(X_val), poly_perceptron_cv.score(X_val, y_val), confidence)\n",
    "\n",
    "print('Interval with confidence {}%: \\nPmin = {:.4f}%\\nPmax = {:.4f}%'.format(confidence, lower*100, upper*100))"
   ]
  },
  {
   "cell_type": "code",
   "execution_count": 43,
   "metadata": {},
   "outputs": [
    {
     "data": {
      "text/plain": [
       "<matplotlib.axes._subplots.AxesSubplot at 0x7faab291cf60>"
      ]
     },
     "execution_count": 43,
     "metadata": {},
     "output_type": "execute_result"
    },
    {
     "data": {
      "image/png": "[encoded data removed]",
      "text/plain": [
       "<Figure size 792x576 with 1 Axes>"
      ]
     },
     "metadata": {
      "needs_background": "light"
     },
     "output_type": "display_data"
    }
   ],
   "source": [
    "pc_imp = pd.Series(poly_perceptron_cv.best_estimator_[2].coef_[0])\n",
    "pc_imp.nlargest(4).plot(kind='barh')"
   ]
  },
  {
   "cell_type": "markdown",
   "metadata": {},
   "source": [
    "L'introduzione di features polinomiali sembra non aver migliorato il modello precedente, osserviamo che le features rilevanti per il modello sono una combinazione delle features orginali, non producendo di fatto un risultato utile ai fini della valutazione semantica del modello."
   ]
  },
  {
   "cell_type": "code",
   "execution_count": 44,
   "metadata": {},
   "outputs": [
    {
     "data": {
      "image/png": "[encoded data removed]",
      "text/plain": [
       "<Figure size 576x432 with 2 Axes>"
      ]
     },
     "metadata": {
      "needs_background": "light"
     },
     "output_type": "display_data"
    }
   ],
   "source": [
    "y_pred = poly_perceptron_cv.predict(X_val)\n",
    "cm = confusion_matrix(y_val, y_pred)\n",
    "\n",
    "plot_confusion_matrix(cm, target_names=['No Disease', 'Disease'], normalize=False)"
   ]
  },
  {
   "cell_type": "code",
   "execution_count": 45,
   "metadata": {},
   "outputs": [
    {
     "name": "stdout",
     "output_type": "stream",
     "text": [
      "              precision    recall  f1-score   support\n",
      "\n",
      "           0       0.63      0.57      0.60     10027\n",
      "           1       0.59      0.65      0.62      9599\n",
      "\n",
      "    accuracy                           0.61     19626\n",
      "   macro avg       0.61      0.61      0.61     19626\n",
      "weighted avg       0.61      0.61      0.61     19626\n",
      "\n"
     ]
    }
   ],
   "source": [
    "pred = poly_perceptron_cv.predict(X_val)\n",
    "print(classification_report(y_val, pred))"
   ]
  },
  {
   "cell_type": "code",
   "execution_count": 46,
   "metadata": {},
   "outputs": [
    {
     "name": "stdout",
     "output_type": "stream",
     "text": [
      "MSE: 0.38902476306939776\n"
     ]
    }
   ],
   "source": [
    "from sklearn.metrics import mean_squared_error\n",
    "\n",
    "poly_mse = mean_squared_error(y_val, poly_perceptron_cv.predict(X_val))\n",
    "print('MSE: {}'.format(poly_mse))"
   ]
  },
  {
   "cell_type": "markdown",
   "metadata": {},
   "source": [
    "# Logistic Regression"
   ]
  },
  {
   "cell_type": "code",
   "execution_count": 47,
   "metadata": {},
   "outputs": [
    {
     "name": "stdout",
     "output_type": "stream",
     "text": [
      "Grid search finish\n"
     ]
    }
   ],
   "source": [
    "from sklearn.linear_model import LogisticRegression\n",
    "from sklearn.preprocessing import StandardScaler\n",
    "from sklearn.pipeline import Pipeline\n",
    "\n",
    "std_lr = Pipeline([\n",
    "    ('std', StandardScaler()),\n",
    "    ('lr', LogisticRegression(dual=False))\n",
    "])\n",
    "\n",
    "parameters = {\n",
    "    'lr__penalty': ['l1'],\n",
    "    'lr__tol': [1e-9, 1e-6, 1e-3, 1e-2, 1e-1, 1],\n",
    "    'lr__C': [1, 0.8, 0.3],\n",
    "    'lr__solver': ['liblinear']\n",
    "}\n",
    "\n",
    "lr_gs = GridSearchCV(std_lr, parameters, cv=5, n_jobs=-1, return_train_score=True, scoring='f1')\n",
    "lr_gs.fit(X_train, y_train)\n",
    "print(\"Grid search finish\")"
   ]
  },
  {
   "cell_type": "code",
   "execution_count": 48,
   "metadata": {},
   "outputs": [
    {
     "name": "stdout",
     "output_type": "stream",
     "text": [
      "Best parameters: {'lr__C': 0.3, 'lr__penalty': 'l1', 'lr__solver': 'liblinear', 'lr__tol': 0.1}\n",
      "Best train score: 69.6253%\n",
      "Best validation score: 69.8202%\n"
     ]
    }
   ],
   "source": [
    "print('Best parameters:', lr_gs.best_params_)  \n",
    "print('Best train score: {:.4f}%\\nBest validation score: {:.4f}%'.format(round(lr_gs.best_score_ * 100, 4), round(lr_gs.score(X_val, y_val)*100, 4)))"
   ]
  },
  {
   "cell_type": "code",
   "execution_count": 49,
   "metadata": {},
   "outputs": [
    {
     "name": "stdout",
     "output_type": "stream",
     "text": [
      "Interval with confidence 95%: \n",
      "Pmin = 69.1742%\n",
      "Pmax = 70.4585%\n"
     ]
    }
   ],
   "source": [
    "confidence = 95\n",
    "lower, upper = confidence_interval(len(X_val), lr_gs.score(X_val, y_val), confidence)\n",
    "\n",
    "print('Interval with confidence {}%: \\nPmin = {:.4f}%\\nPmax = {:.4f}%'.format(confidence, lower*100, upper*100))"
   ]
  },
  {
   "cell_type": "code",
   "execution_count": 50,
   "metadata": {},
   "outputs": [
    {
     "data": {
      "text/plain": [
       "<matplotlib.axes._subplots.AxesSubplot at 0x7faab271c518>"
      ]
     },
     "execution_count": 50,
     "metadata": {},
     "output_type": "execute_result"
    },
    {
     "data": {
      "image/png": "[encoded data removed]",
      "text/plain": [
       "<Figure size 792x576 with 1 Axes>"
      ]
     },
     "metadata": {
      "needs_background": "light"
     },
     "output_type": "display_data"
    }
   ],
   "source": [
    "lr_imp = pd.Series(lr_gs.best_estimator_[1].coef_[0], index=X_train.columns)\n",
    "lr_imp.nlargest(4).plot(kind='barh')"
   ]
  },
  {
   "cell_type": "markdown",
   "metadata": {},
   "source": [
    "La regressione logistica evidenzia come features rilevanti, ai fini della previsione proposta dal modello, la pressione massima, l'eta la soglia massima di colesterolo e il peso.  \n",
    "Anche in questo caso le features evidenziati sono ragionevoli in quanto, come visto in fase esplorativa inizialmente, al crescere dell'eta cresce anche il rischio di problemi cardiovascolari. Inoltre il peso potrebbe essere un indicatore di una dieta sedentaria e quindi indice di possibili problemi cardiovascolari."
   ]
  },
  {
   "cell_type": "code",
   "execution_count": 51,
   "metadata": {},
   "outputs": [
    {
     "data": {
      "image/png": "[encoded data removed]",
      "text/plain": [
       "<Figure size 576x432 with 2 Axes>"
      ]
     },
     "metadata": {
      "needs_background": "light"
     },
     "output_type": "display_data"
    }
   ],
   "source": [
    "y_pred = lr_gs.predict(X_val)\n",
    "cm = confusion_matrix(y_val, y_pred)\n",
    "\n",
    "plot_confusion_matrix(cm, target_names=['No Disease', 'Disease'], normalize=False)"
   ]
  },
  {
   "cell_type": "code",
   "execution_count": 52,
   "metadata": {},
   "outputs": [
    {
     "name": "stdout",
     "output_type": "stream",
     "text": [
      "              precision    recall  f1-score   support\n",
      "\n",
      "           0       0.70      0.79      0.75     10027\n",
      "           1       0.75      0.65      0.70      9599\n",
      "\n",
      "    accuracy                           0.72     19626\n",
      "   macro avg       0.73      0.72      0.72     19626\n",
      "weighted avg       0.73      0.72      0.72     19626\n",
      "\n"
     ]
    }
   ],
   "source": [
    "pred = lr_gs.predict(X_val)\n",
    "print(classification_report(y_val, pred))"
   ]
  },
  {
   "cell_type": "code",
   "execution_count": 53,
   "metadata": {},
   "outputs": [
    {
     "name": "stdout",
     "output_type": "stream",
     "text": [
      "MSE: 0.27631713033730765\n"
     ]
    }
   ],
   "source": [
    "from sklearn.metrics import mean_squared_error\n",
    "\n",
    "lr_mse = mean_squared_error(y_val, lr_gs.predict(X_val))\n",
    "print('MSE: {}'.format(lr_mse))"
   ]
  },
  {
   "cell_type": "markdown",
   "metadata": {},
   "source": [
    "# SVM"
   ]
  },
  {
   "cell_type": "code",
   "execution_count": 54,
   "metadata": {},
   "outputs": [
    {
     "name": "stdout",
     "output_type": "stream",
     "text": [
      "Finish SVM Grid Search\n"
     ]
    }
   ],
   "source": [
    "from sklearn.svm import SVC\n",
    "from sklearn.preprocessing import StandardScaler\n",
    "from sklearn.pipeline import Pipeline\n",
    "\n",
    "std_svm = Pipeline([\n",
    "    ('std', StandardScaler()),\n",
    "    ('svm', SVC())\n",
    "])\n",
    "\n",
    "parameters = {\n",
    "    'svm__kernel': ['rbf'],\n",
    "    'svm__C': [0.01, 0.1, 1],\n",
    "}\n",
    "\n",
    "svm_gs = GridSearchCV(std_svm, parameters, cv=3, n_jobs=-1, return_train_score=True, scoring='f1')\n",
    "svm_gs.fit(X_train, y_train)\n",
    "print('Finish SVM Grid Search')"
   ]
  },
  {
   "cell_type": "code",
   "execution_count": 55,
   "metadata": {},
   "outputs": [
    {
     "name": "stdout",
     "output_type": "stream",
     "text": [
      "Best parameters: {'svm__C': 1, 'svm__kernel': 'rbf'}\n",
      "Best train score: 69.7002%\n",
      "Best validation score: 70.2832%\n"
     ]
    }
   ],
   "source": [
    "print('Best parameters:', svm_gs.best_params_)  \n",
    "print('Best train score: {:.4f}%\\nBest validation score: {:.4f}%'.format(round(svm_gs.best_score_ * 100, 4), round(svm_gs.score(X_val, y_val)*100, 4)))"
   ]
  },
  {
   "cell_type": "code",
   "execution_count": 56,
   "metadata": {},
   "outputs": [
    {
     "name": "stdout",
     "output_type": "stream",
     "text": [
      "Interval with confidence 95%: \n",
      "Pmin = 69.6399%\n",
      "Pmax = 70.9186%\n"
     ]
    }
   ],
   "source": [
    "confidence = 95\n",
    "lower, upper = confidence_interval(len(X_val), svm_gs.score(X_val, y_val), confidence)\n",
    "\n",
    "print('Interval with confidence {}%: \\nPmin = {:.4f}%\\nPmax = {:.4f}%'.format(confidence, lower*100, upper*100))"
   ]
  },
  {
   "cell_type": "code",
   "execution_count": 57,
   "metadata": {},
   "outputs": [
    {
     "data": {
      "text/plain": [
       "<matplotlib.axes._subplots.AxesSubplot at 0x7faab2876940>"
      ]
     },
     "execution_count": 57,
     "metadata": {},
     "output_type": "execute_result"
    },
    {
     "data": {
      "image/png": "[encoded data removed]",
      "text/plain": [
       "<Figure size 792x576 with 1 Axes>"
      ]
     },
     "metadata": {
      "needs_background": "light"
     },
     "output_type": "display_data"
    }
   ],
   "source": [
    "svm_imp = pd.Series(svm_gs.best_estimator_[1].support_vectors_[0], index=X_train.columns)\n",
    "svm_imp.nlargest(4).plot(kind='barh')"
   ]
  },
  {
   "cell_type": "markdown",
   "metadata": {},
   "source": [
    "SVM evidenzia come features di maggiore rilevanza: l'essere fumatori, il sesso, l'altezza e l'eta.  \n",
    "Sicuramente l'essere fumatori indice nevativamente sul sistema cardio-circolatorio aumentando quindi i rischi di problemi cardiaci.  \n",
    "Il sesso e l'altezza vengono considerati rilevanti per determinare il rischio di problemi cardio-vascolari, questo risulta abbastanza assurdo in quanto non esistono riferimenti medici che provino che altezza e sesso siano determinanti ai fini di problemi cardiovascolari.  \n",
    "Cio' nonostante il modello risulta piuttosto accurato e preciso nella previsione."
   ]
  },
  {
   "cell_type": "code",
   "execution_count": 58,
   "metadata": {},
   "outputs": [
    {
     "data": {
      "image/png": "[encoded data removed]",
      "text/plain": [
       "<Figure size 576x432 with 2 Axes>"
      ]
     },
     "metadata": {
      "needs_background": "light"
     },
     "output_type": "display_data"
    }
   ],
   "source": [
    "y_pred = svm_gs.predict(X_val)\n",
    "cm = confusion_matrix(y_val, y_pred)\n",
    "\n",
    "plot_confusion_matrix(cm, target_names=['No Disease', 'Disease'], normalize=False)"
   ]
  },
  {
   "cell_type": "code",
   "execution_count": 59,
   "metadata": {},
   "outputs": [
    {
     "name": "stdout",
     "output_type": "stream",
     "text": [
      "              precision    recall  f1-score   support\n",
      "\n",
      "           0       0.71      0.80      0.75     10027\n",
      "           1       0.76      0.66      0.70      9599\n",
      "\n",
      "    accuracy                           0.73     19626\n",
      "   macro avg       0.73      0.73      0.73     19626\n",
      "weighted avg       0.73      0.73      0.73     19626\n",
      "\n"
     ]
    }
   ],
   "source": [
    "pred = svm_gs.predict(X_val)\n",
    "print(classification_report(y_val, pred))"
   ]
  },
  {
   "cell_type": "code",
   "execution_count": 60,
   "metadata": {},
   "outputs": [
    {
     "name": "stdout",
     "output_type": "stream",
     "text": [
      "MSE: 0.27157851829206153\n"
     ]
    }
   ],
   "source": [
    "from sklearn.metrics import mean_squared_error\n",
    "\n",
    "svm_mse = mean_squared_error(y_val, svm_gs.predict(X_val))\n",
    "print('MSE: {}'.format(svm_mse))"
   ]
  },
  {
   "cell_type": "markdown",
   "metadata": {},
   "source": [
    "# Random Forest"
   ]
  },
  {
   "cell_type": "code",
   "execution_count": 61,
   "metadata": {},
   "outputs": [
    {
     "name": "stderr",
     "output_type": "stream",
     "text": [
      "/usr/lib/python3.7/site-packages/joblib/externals/loky/process_executor.py:706: UserWarning: A worker stopped while some jobs were given to the executor. This can be caused by a too short worker timeout or by a memory leak.\n",
      "  \"timeout or by a memory leak.\", UserWarning\n"
     ]
    },
    {
     "name": "stdout",
     "output_type": "stream",
     "text": [
      "Random Forest GridSearch finish\n"
     ]
    }
   ],
   "source": [
    "from sklearn.ensemble import RandomForestClassifier\n",
    "from sklearn.metrics import classification_report\n",
    "\n",
    "rfc = Pipeline([\n",
    "    ('std', StandardScaler()),\n",
    "    ('rfc', RandomForestClassifier(n_jobs=-1, random_state=3))\n",
    "])\n",
    "\n",
    "parameters = {\n",
    "    'rfc__n_estimators': [100, 200, 300],\n",
    "    'rfc__max_depth': [2, 4, 6, 8, 10],\n",
    "    'rfc__min_samples_leaf': [1, 2, 4],\n",
    "    'rfc__min_samples_split': [2, 5, 10],\n",
    "}\n",
    "    \n",
    "\n",
    "rfc_gs = GridSearchCV(rfc, parameters, cv=5, n_jobs=-1, return_train_score=True, scoring='f1')\n",
    "rfc_gs.fit(X_train, y_train)\n",
    "\n",
    "print('Random Forest GridSearch finish')"
   ]
  },
  {
   "cell_type": "code",
   "execution_count": 62,
   "metadata": {},
   "outputs": [
    {
     "name": "stdout",
     "output_type": "stream",
     "text": [
      "Best parameters: {'rfc__max_depth': 10, 'rfc__min_samples_leaf': 4, 'rfc__min_samples_split': 10, 'rfc__n_estimators': 100}\n",
      "Best train score: 70.0018%\n",
      "Best validation score: 70.9067%\n"
     ]
    }
   ],
   "source": [
    "print('Best parameters:',rfc_gs.best_params_)  \n",
    "print('Best train score: {:.4f}%\\nBest validation score: {:.4f}%'.format(round(rfc_gs.best_score_ * 100, 4), round(rfc_gs.score(X_val, y_val)*100, 4)))"
   ]
  },
  {
   "cell_type": "code",
   "execution_count": 63,
   "metadata": {},
   "outputs": [
    {
     "name": "stdout",
     "output_type": "stream",
     "text": [
      "Interval with confidence 95%: \n",
      "Pmin = 70.2672%\n",
      "Pmax = 71.5380%\n"
     ]
    }
   ],
   "source": [
    "confidence = 95\n",
    "lower, upper = confidence_interval(len(X_val), rfc_gs.score(X_val, y_val), confidence)\n",
    "\n",
    "print('Interval with confidence {}%: \\nPmin = {:.4f}%\\nPmax = {:.4f}%'.format(confidence, lower*100, upper*100))"
   ]
  },
  {
   "cell_type": "code",
   "execution_count": 64,
   "metadata": {},
   "outputs": [
    {
     "data": {
      "text/plain": [
       "<matplotlib.axes._subplots.AxesSubplot at 0x7faaaafb53c8>"
      ]
     },
     "execution_count": 64,
     "metadata": {},
     "output_type": "execute_result"
    },
    {
     "data": {
      "image/png": "[encoded data removed]",
      "text/plain": [
       "<Figure size 792x576 with 1 Axes>"
      ]
     },
     "metadata": {
      "needs_background": "light"
     },
     "output_type": "display_data"
    }
   ],
   "source": [
    "rfc_imp = pd.Series(rfc_gs.best_estimator_[1].feature_importances_, index=X_train.columns)\n",
    "rfc_imp.nlargest(4).plot(kind='barh')"
   ]
  },
  {
   "cell_type": "markdown",
   "metadata": {},
   "source": [
    "Random Forest evidenzia che la pressione massima, quella minima, l'eta e il colesterolo sono determinanti ai fini della previsione.  \n",
    "Come nei casi precedenti questo e' ragionevole, in particolare sembra che un livello piuttosto alto di pressione diastolica sia piuttosto determinante a riconoscere problemi cardiovascolari, in misura minore lo stesso discorso lo si puo' fare per la pressione sistolica. Quindi persone con pressione alta, sono maggiormante inclini ad avere problemi cardio vascolari.  Anche in questo modello eta' e colesterolo sono rilevanti ai fini della previsione."
   ]
  },
  {
   "cell_type": "code",
   "execution_count": 65,
   "metadata": {},
   "outputs": [
    {
     "data": {
      "image/png": "[encoded data removed]",
      "text/plain": [
       "<Figure size 576x432 with 2 Axes>"
      ]
     },
     "metadata": {
      "needs_background": "light"
     },
     "output_type": "display_data"
    }
   ],
   "source": [
    "y_pred = rfc_gs.predict(X_val)\n",
    "cm = confusion_matrix(y_val, y_pred)\n",
    "\n",
    "plot_confusion_matrix(cm, target_names=['No Disease', 'Disease'], normalize=False)"
   ]
  },
  {
   "cell_type": "code",
   "execution_count": 66,
   "metadata": {},
   "outputs": [
    {
     "name": "stdout",
     "output_type": "stream",
     "text": [
      "              precision    recall  f1-score   support\n",
      "\n",
      "           0       0.71      0.80      0.75     10027\n",
      "           1       0.76      0.66      0.71      9599\n",
      "\n",
      "    accuracy                           0.73     19626\n",
      "   macro avg       0.74      0.73      0.73     19626\n",
      "weighted avg       0.74      0.73      0.73     19626\n",
      "\n"
     ]
    }
   ],
   "source": [
    "pred = rfc_gs.predict(X_val)\n",
    "\n",
    "print(classification_report(y_val, pred))"
   ]
  },
  {
   "cell_type": "code",
   "execution_count": 67,
   "metadata": {},
   "outputs": [
    {
     "name": "stdout",
     "output_type": "stream",
     "text": [
      "MSE: 0.26617751961683483\n"
     ]
    }
   ],
   "source": [
    "from sklearn.metrics import mean_squared_error\n",
    "\n",
    "rfc_mse = mean_squared_error(y_val, rfc_gs.predict(X_val))\n",
    "print('MSE: {}'.format(rfc_mse))"
   ]
  },
  {
   "cell_type": "markdown",
   "metadata": {},
   "source": [
    "# XGBoost"
   ]
  },
  {
   "cell_type": "code",
   "execution_count": 68,
   "metadata": {},
   "outputs": [
    {
     "name": "stderr",
     "output_type": "stream",
     "text": [
      "/usr/lib/python3.7/site-packages/joblib/externals/loky/process_executor.py:706: UserWarning: A worker stopped while some jobs were given to the executor. This can be caused by a too short worker timeout or by a memory leak.\n",
      "  \"timeout or by a memory leak.\", UserWarning\n"
     ]
    },
    {
     "name": "stdout",
     "output_type": "stream",
     "text": [
      "Grid Search Xgboost finish\n"
     ]
    }
   ],
   "source": [
    "from xgboost import XGBClassifier\n",
    "from sklearn.preprocessing import StandardScaler\n",
    "from sklearn.pipeline import Pipeline\n",
    "\n",
    "std_xgb = Pipeline([\n",
    "    ('std', StandardScaler()),\n",
    "    ('xgb', XGBClassifier(nthread=8, objective='binary:logistic'))\n",
    "])\n",
    "\n",
    "parameters = {\n",
    "    'xgb__eta': [0.002, 0.1, 0.5],\n",
    "    #'xgb__min_child_weight': [4, 10],\n",
    "    'xgb__max_depth': [6],\n",
    "    'xgb__n_estimators': [150, 300],\n",
    "    'xgb__alpha': [0.0001, 0.001]\n",
    "}\n",
    "\n",
    "xgb_gs = GridSearchCV(std_xgb, parameters, cv=3, n_jobs=-1, return_train_score=True, scoring='accuracy')\n",
    "xgb_gs.fit(X_train, y_train)\n",
    "print(\"Grid Search Xgboost finish\")"
   ]
  },
  {
   "cell_type": "code",
   "execution_count": 69,
   "metadata": {},
   "outputs": [
    {
     "name": "stdout",
     "output_type": "stream",
     "text": [
      "Best parameters: {'xgb__alpha': 0.0001, 'xgb__eta': 0.002, 'xgb__max_depth': 6, 'xgb__n_estimators': 150}\n",
      "Best train score: 72.4728%\n",
      "Best validation score: 73.1581%\n"
     ]
    }
   ],
   "source": [
    "print('Best parameters:', xgb_gs.best_params_)  \n",
    "print('Best train score: {:.4f}%\\nBest validation score: {:.4f}%'.format(round(xgb_gs.best_score_ * 100, 4), round(xgb_gs.score(X_val, y_val)*100, 4)))"
   ]
  },
  {
   "cell_type": "code",
   "execution_count": 70,
   "metadata": {},
   "outputs": [
    {
     "name": "stdout",
     "output_type": "stream",
     "text": [
      "Interval with confidence 95%: \n",
      "Pmin = 72.5336%\n",
      "Pmax = 73.7734%\n"
     ]
    }
   ],
   "source": [
    "confidence = 95\n",
    "lower, upper = confidence_interval(len(X_val), xgb_gs.score(X_val, y_val), confidence)\n",
    "\n",
    "print('Interval with confidence {}%: \\nPmin = {:.4f}%\\nPmax = {:.4f}%'.format(confidence, lower*100, upper*100))"
   ]
  },
  {
   "cell_type": "code",
   "execution_count": 71,
   "metadata": {},
   "outputs": [
    {
     "data": {
      "text/plain": [
       "<matplotlib.axes._subplots.AxesSubplot at 0x7faab28c9b70>"
      ]
     },
     "execution_count": 71,
     "metadata": {},
     "output_type": "execute_result"
    },
    {
     "data": {
      "image/png": "[encoded data removed]",
      "text/plain": [
       "<Figure size 792x576 with 1 Axes>"
      ]
     },
     "metadata": {
      "needs_background": "light"
     },
     "output_type": "display_data"
    }
   ],
   "source": [
    "from xgboost import plot_importance\n",
    "\n",
    "xgb_imp = pd.Series(xgb_gs.best_estimator_[1].feature_importances_, index=X_train.columns)\n",
    "xgb_imp.nlargest(4).plot(kind='barh')"
   ]
  },
  {
   "cell_type": "markdown",
   "metadata": {},
   "source": [
    "XGBoost evidenzia che un livello alto di pressione diastolica e' indice di possibili problemi cardiovascolari, come un livello alto di colesterolo. In questo caso il modello considera anche la soglia normale di colesterolo come influente ai fini della previsione, il che risulta una forzatura dal momento che questo paramentro non comporta alcun rischio a livello medico. Infine l'eta' influenza, in minor parte, la previsione."
   ]
  },
  {
   "cell_type": "code",
   "execution_count": 72,
   "metadata": {},
   "outputs": [
    {
     "data": {
      "image/png": "[encoded data removed]",
      "text/plain": [
       "<Figure size 576x432 with 2 Axes>"
      ]
     },
     "metadata": {
      "needs_background": "light"
     },
     "output_type": "display_data"
    }
   ],
   "source": [
    "y_pred = xgb_gs.predict(X_val)\n",
    "cm = confusion_matrix(y_val, y_pred)\n",
    "\n",
    "plot_confusion_matrix(cm, target_names=['No Disease', 'Disease'], normalize=False)"
   ]
  },
  {
   "cell_type": "code",
   "execution_count": 73,
   "metadata": {},
   "outputs": [
    {
     "name": "stdout",
     "output_type": "stream",
     "text": [
      "              precision    recall  f1-score   support\n",
      "\n",
      "           0       0.72      0.78      0.75     10027\n",
      "           1       0.75      0.68      0.71      9599\n",
      "\n",
      "    accuracy                           0.73     19626\n",
      "   macro avg       0.73      0.73      0.73     19626\n",
      "weighted avg       0.73      0.73      0.73     19626\n",
      "\n"
     ]
    }
   ],
   "source": [
    "pred = xgb_gs.predict(X_val)\n",
    "print(classification_report(y_val, pred))"
   ]
  },
  {
   "cell_type": "code",
   "execution_count": 74,
   "metadata": {},
   "outputs": [
    {
     "name": "stdout",
     "output_type": "stream",
     "text": [
      "MSE: 0.2684194435952308\n"
     ]
    }
   ],
   "source": [
    "from sklearn.metrics import mean_squared_error\n",
    "\n",
    "xgb_mse = mean_squared_error(y_val, xgb_gs.predict(X_val))\n",
    "print('MSE: {}'.format(xgb_mse))"
   ]
  },
  {
   "cell_type": "markdown",
   "metadata": {},
   "source": [
    "# Model comparison"
   ]
  },
  {
   "cell_type": "code",
   "execution_count": 75,
   "metadata": {},
   "outputs": [],
   "source": [
    "def model_comparison(mse_1, mse_2):\n",
    "    d = np.abs(mse_1 - mse_2)\n",
    "    variance = (mse_1 * (1 - mse_1)) / len(X_val) + (mse_2 * (1 - mse_2)) / len(X_val)\n",
    "    d_min = d - 1.96 * np.sqrt(variance)\n",
    "    d_max = d + 1.96 * np.sqrt(variance)\n",
    "    return (d_min, d_max)"
   ]
  },
  {
   "cell_type": "markdown",
   "metadata": {},
   "source": [
    "### XGBoost vs SVM"
   ]
  },
  {
   "cell_type": "code",
   "execution_count": 76,
   "metadata": {},
   "outputs": [
    {
     "name": "stdout",
     "output_type": "stream",
     "text": [
      "Interval [-0.0056  0.0119]\n"
     ]
    }
   ],
   "source": [
    "print('Interval {}'.format(np.round(model_comparison(xgb_mse, svm_mse), 4)))"
   ]
  },
  {
   "cell_type": "markdown",
   "metadata": {},
   "source": [
    "### XGBoost vs Perceptron"
   ]
  },
  {
   "cell_type": "code",
   "execution_count": 77,
   "metadata": {},
   "outputs": [
    {
     "name": "stdout",
     "output_type": "stream",
     "text": [
      "Interval [0.0025 0.0201]\n"
     ]
    }
   ],
   "source": [
    "print('Interval {}'.format(np.round(model_comparison(xgb_mse, perc_mse), 4)))"
   ]
  },
  {
   "cell_type": "markdown",
   "metadata": {},
   "source": [
    "### XGBoost vs Logistic regression"
   ]
  },
  {
   "cell_type": "code",
   "execution_count": 78,
   "metadata": {},
   "outputs": [
    {
     "name": "stdout",
     "output_type": "stream",
     "text": [
      "Interval [-0.0009  0.0167]\n"
     ]
    }
   ],
   "source": [
    "print('Interval {}'.format(np.round(model_comparison(xgb_mse, lr_mse), 4)))"
   ]
  },
  {
   "cell_type": "markdown",
   "metadata": {},
   "source": [
    "### XGBoost vs Random Forest"
   ]
  },
  {
   "cell_type": "code",
   "execution_count": 79,
   "metadata": {},
   "outputs": [
    {
     "name": "stdout",
     "output_type": "stream",
     "text": [
      "Interval [-0.0065  0.011 ]\n"
     ]
    }
   ],
   "source": [
    "print('Interval {}'.format(np.round(model_comparison(xgb_mse, rfc_mse), 4)))"
   ]
  },
  {
   "cell_type": "markdown",
   "metadata": {},
   "source": [
    "### Perceptron vs Logistic Regression"
   ]
  },
  {
   "cell_type": "code",
   "execution_count": 80,
   "metadata": {},
   "outputs": [
    {
     "name": "stdout",
     "output_type": "stream",
     "text": [
      "Interval [-0.0055  0.0123]\n"
     ]
    }
   ],
   "source": [
    "print('Interval {}'.format(np.round(model_comparison(perc_mse, lr_mse), 4)))"
   ]
  },
  {
   "cell_type": "markdown",
   "metadata": {},
   "source": [
    "### Perceptron vs Random Forest"
   ]
  },
  {
   "cell_type": "code",
   "execution_count": 81,
   "metadata": {},
   "outputs": [
    {
     "name": "stdout",
     "output_type": "stream",
     "text": [
      "Interval [0.0047 0.0224]\n"
     ]
    }
   ],
   "source": [
    "print('Interval {}'.format(np.round(model_comparison(perc_mse, rfc_mse), 4)))"
   ]
  },
  {
   "cell_type": "markdown",
   "metadata": {},
   "source": [
    "In questa sezione abbiamo analizzato quali modelli fossero simili tra loro e quali avessero differenze rilevanti.  \n",
    "**SVM** e **XGBoost** hanno ottenuto risultati piuttosto simili in termini di `accuracy` e `f1-score`, quindi ci aspettavamo che non esistessero differenze rilevanti tra i due e mediante una verifica analitica abbiamo constatato che effettivamente i due modelli sono simili in termini statistici.  \n",
    "Al contrario invece **XGBoost** e **Perceptron** hanno ottenuto valori abbastanza diversi di `accuracy` e `f1-score`, quindi ci si aspetta che siano significativamente differenti; verificando e' risultato che questi ultimi due modelli sono significativamente differenti (sempre in termini statistici), in favore di XGBoost in quanto ha ottenuto risultati migliori."
   ]
  },
  {
   "cell_type": "markdown",
   "metadata": {},
   "source": [
    "# Model serialization"
   ]
  },
  {
   "cell_type": "code",
   "execution_count": 82,
   "metadata": {},
   "outputs": [],
   "source": [
    "import pickle\n",
    "\n",
    "#XGB\n",
    "model_serialize = open(\"models/xgb-model.mdl\", 'wb')\n",
    "pickle.dump(xgb_gs, model_serialize)\n",
    "model_serialize.close()\n",
    "\n",
    "#Logistic Regression\n",
    "model_serialize = open(\"models/lr-model.mdl\", 'wb')\n",
    "pickle.dump(lr_gs, model_serialize)\n",
    "model_serialize.close()\n",
    "\n",
    "#SVM\n",
    "model_serialize = open(\"models/svm-model.mdl\", 'wb')\n",
    "pickle.dump(svm_gs, model_serialize)\n",
    "model_serialize.close()\n",
    "\n",
    "#Random Forese\n",
    "model_serialize = open(\"models/rf-model.mdl\", 'wb')\n",
    "pickle.dump(rfc_gs, model_serialize)\n",
    "model_serialize.close()\n",
    "\n",
    "#Percepron\n",
    "model_serialize = open(\"models/pct-model.mdl\", 'wb')\n",
    "pickle.dump(perceptron_cv, model_serialize)\n",
    "model_serialize.close()"
   ]
  },
  {
   "cell_type": "markdown",
   "metadata": {},
   "source": [
    "# Neural Network"
   ]
  },
  {
   "cell_type": "code",
   "execution_count": 83,
   "metadata": {},
   "outputs": [],
   "source": [
    "def plot_history(history):\n",
    "    hist = pd.DataFrame(history.history)\n",
    "    hist['epoch'] = history.epoch\n",
    "\n",
    "    plt.figure()\n",
    "    plt.xlabel('Epoch')\n",
    "    plt.ylabel('Loss')\n",
    "    plt.plot(hist['epoch'], hist['loss'], label='Train Loss')\n",
    "    plt.plot(hist['epoch'], hist['val_loss'], label = 'Val Loss')\n",
    "    plt.ylim([0,1])\n",
    "    plt.legend()\n",
    "\n",
    "    plt.figure()\n",
    "    plt.xlabel('Epoch')\n",
    "    plt.ylabel('Accuracy')\n",
    "    plt.plot(hist['epoch'], hist['acc'], label='Train Accuracy')\n",
    "    plt.plot(hist['epoch'], hist['val_acc'], label = 'Val Accuracy')\n",
    "    plt.ylim([0.4, 1])\n",
    "    plt.legend()\n",
    "    plt.show()"
   ]
  },
  {
   "cell_type": "code",
   "execution_count": 84,
   "metadata": {},
   "outputs": [
    {
     "name": "stdout",
     "output_type": "stream",
     "text": [
      "2.2.4-tf\n",
      "1.14.0\n"
     ]
    }
   ],
   "source": [
    "from __future__ import absolute_import, division, print_function\n",
    "\n",
    "# TensorFlow and tf.keras\n",
    "import tensorflow as tf\n",
    "from tensorflow import keras\n",
    "from tensorflow.keras import Sequential\n",
    "from tensorflow.keras.layers import Dense\n",
    "from tensorflow.keras.layers import Dropout\n",
    "from tensorflow.keras.utils import to_categorical\n",
    "from tensorflow.keras.layers import Conv1D\n",
    "from tensorflow.keras import backend as K\n",
    "\n",
    "print(keras.__version__)\n",
    "print(tf.__version__)\n",
    "\n",
    "scaler_X = StandardScaler()\n",
    "std_X_train = scaler_X.fit_transform(X_train.astype(float))\n",
    "std_X_val = scaler_X.transform(X_val)\n",
    "\n",
    "std_y_train = to_categorical(y_train)\n",
    "std_y_val = to_categorical(y_val)\n",
    "\n",
    "class PrintDot(keras.callbacks.Callback):\n",
    "    def on_epoch_end(self, epoch, logs):\n",
    "        if epoch % 100 == 0: print('')\n",
    "        print('.', end='')\n",
    "        \n",
    "        \n",
    "def recall_m(y_true, y_pred):\n",
    "        true_positives = K.sum(K.round(K.clip(y_true * y_pred, 0, 1)))\n",
    "        possible_positives = K.sum(K.round(K.clip(y_true, 0, 1)))\n",
    "        recall = true_positives / (possible_positives + K.epsilon())\n",
    "        return recall\n",
    "\n",
    "def precision_m(y_true, y_pred):\n",
    "        true_positives = K.sum(K.round(K.clip(y_true * y_pred, 0, 1)))\n",
    "        predicted_positives = K.sum(K.round(K.clip(y_pred, 0, 1)))\n",
    "        precision = true_positives / (predicted_positives + K.epsilon())\n",
    "        return precision\n",
    "        \n",
    "def f1_score(y_true, y_pred):\n",
    "    precision = precision_m(y_true, y_pred)\n",
    "    recall = recall_m(y_true, y_pred)\n",
    "    return 2*((precision*recall)/(precision+recall+K.epsilon()))\n",
    "\n",
    "def nn_build_model():\n",
    "    model = Sequential([\n",
    "        Dense(64, kernel_initializer='random_uniform', activation=tf.nn.relu, input_shape=[X_train.shape[1]]),\n",
    "        Dropout(0.5),\n",
    "        Dense(64, kernel_initializer='random_uniform', activation=tf.nn.relu),\n",
    "        Dropout(0.5),\n",
    "        Dense(64, kernel_initializer='random_uniform', activation=tf.nn.relu),\n",
    "        Dropout(0.5),\n",
    "        Dense(1, kernel_initializer='random_uniform', activation=tf.nn.sigmoid)\n",
    "    ])\n",
    "    \n",
    "    model.compile(loss='binary_crossentropy', optimizer='rmsprop', metrics=['accuracy', f1_score])\n",
    "    return model"
   ]
  },
  {
   "cell_type": "code",
   "execution_count": 85,
   "metadata": {},
   "outputs": [
    {
     "name": "stderr",
     "output_type": "stream",
     "text": [
      "WARNING: Logging before flag parsing goes to stderr.\n",
      "W0630 11:12:51.191728 140371840579200 deprecation.py:506] From /usr/lib/python3.7/site-packages/tensorflow/python/keras/initializers.py:119: calling RandomUniform.__init__ (from tensorflow.python.ops.init_ops) with dtype is deprecated and will be removed in a future version.\n",
      "Instructions for updating:\n",
      "Call initializer instance with the dtype argument instead of passing it to the constructor\n",
      "W0630 11:12:51.342074 140371840579200 deprecation.py:323] From /usr/lib/python3.7/site-packages/tensorflow/python/ops/nn_impl.py:180: add_dispatch_support.<locals>.wrapper (from tensorflow.python.ops.array_ops) is deprecated and will be removed in a future version.\n",
      "Instructions for updating:\n",
      "Use tf.where in 2.0, which has the same broadcast rule as np.where\n"
     ]
    },
    {
     "name": "stdout",
     "output_type": "stream",
     "text": [
      "\n",
      "...................................................................................................."
     ]
    }
   ],
   "source": [
    "model = nn_build_model()\n",
    "history = model.fit(std_X_train, y_train, validation_split=0.3, batch_size=128, epochs=100, verbose=0, callbacks=[PrintDot()])"
   ]
  },
  {
   "cell_type": "code",
   "execution_count": 86,
   "metadata": {},
   "outputs": [
    {
     "data": {
      "image/png": "[encoded data removed]",
      "text/plain": [
       "<Figure size 792x576 with 1 Axes>"
      ]
     },
     "metadata": {
      "needs_background": "light"
     },
     "output_type": "display_data"
    },
    {
     "data": {
      "image/png": "[encoded data removed]",
      "text/plain": [
       "<Figure size 792x576 with 1 Axes>"
      ]
     },
     "metadata": {
      "needs_background": "light"
     },
     "output_type": "display_data"
    }
   ],
   "source": [
    "hist = pd.DataFrame(history.history)\n",
    "plot_history(history)"
   ]
  },
  {
   "cell_type": "code",
   "execution_count": 87,
   "metadata": {},
   "outputs": [
    {
     "name": "stdout",
     "output_type": "stream",
     "text": [
      "19626/19626 [==============================] - 0s 4us/sample - loss: 0.5501 - acc: 0.7295 - f1_score: 0.7155\n"
     ]
    },
    {
     "data": {
      "text/plain": [
       "[0.5501169651719416, 0.72954243, 0.7155026]"
      ]
     },
     "execution_count": 87,
     "metadata": {},
     "output_type": "execute_result"
    }
   ],
   "source": [
    "model.evaluate(scaler_X.transform(X_val), y_val, batch_size=128)"
   ]
  },
  {
   "cell_type": "code",
   "execution_count": 88,
   "metadata": {},
   "outputs": [],
   "source": [
    "y_pred = model.predict(scaler_X.transform(X_val))\n",
    "y_pred =(y_pred > 0.5)"
   ]
  },
  {
   "cell_type": "code",
   "execution_count": 89,
   "metadata": {},
   "outputs": [
    {
     "data": {
      "image/png": "[encoded data removed]",
      "text/plain": [
       "<Figure size 576x432 with 2 Axes>"
      ]
     },
     "metadata": {
      "needs_background": "light"
     },
     "output_type": "display_data"
    }
   ],
   "source": [
    "from sklearn.metrics import confusion_matrix\n",
    "cm = confusion_matrix(y_val, y_pred)\n",
    "plot_confusion_matrix(cm, target_names=['No disease', 'Disease'], normalize=False)"
   ]
  },
  {
   "cell_type": "code",
   "execution_count": 90,
   "metadata": {},
   "outputs": [
    {
     "name": "stdout",
     "output_type": "stream",
     "text": [
      "              precision    recall  f1-score   support\n",
      "\n",
      "           0       0.73      0.76      0.74     10027\n",
      "           1       0.73      0.70      0.72      9599\n",
      "\n",
      "    accuracy                           0.73     19626\n",
      "   macro avg       0.73      0.73      0.73     19626\n",
      "weighted avg       0.73      0.73      0.73     19626\n",
      "\n"
     ]
    }
   ],
   "source": [
    "pred = model.predict(scaler_X.transform(X_val))\n",
    "pred = (pred > 0.5)\n",
    "print(classification_report(y_val, pred))"
   ]
  },
  {
   "cell_type": "markdown",
   "metadata": {},
   "source": [
    "## Save NN model"
   ]
  },
  {
   "cell_type": "code",
   "execution_count": 91,
   "metadata": {},
   "outputs": [],
   "source": [
    "model.save('models/nn-model.h5')"
   ]
  }
 ],
 "metadata": {
  "celltoolbar": "Slideshow",
  "kernelspec": {
   "display_name": "Python 3",
   "language": "python",
   "name": "python3"
  },
  "language_info": {
   "codemirror_mode": {
    "name": "ipython",
    "version": 3
   },
   "file_extension": ".py",
   "mimetype": "text/x-python",
   "name": "python",
   "nbconvert_exporter": "python",
   "pygments_lexer": "ipython3",
   "version": "3.7.3"
  }
 },
 "nbformat": 4,
 "nbformat_minor": 2
}
